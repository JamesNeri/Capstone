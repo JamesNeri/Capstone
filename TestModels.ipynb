{
 "cells": [
  {
   "cell_type": "markdown",
   "metadata": {},
   "source": [
    "# Initial Modeling - Regression"
   ]
  },
  {
   "cell_type": "code",
   "execution_count": 1,
   "metadata": {},
   "outputs": [
    {
     "data": {
      "text/html": [
       "<div>\n",
       "<style scoped>\n",
       "    .dataframe tbody tr th:only-of-type {\n",
       "        vertical-align: middle;\n",
       "    }\n",
       "\n",
       "    .dataframe tbody tr th {\n",
       "        vertical-align: top;\n",
       "    }\n",
       "\n",
       "    .dataframe thead th {\n",
       "        text-align: right;\n",
       "    }\n",
       "</style>\n",
       "<table border=\"1\" class=\"dataframe\">\n",
       "  <thead>\n",
       "    <tr style=\"text-align: right;\">\n",
       "      <th></th>\n",
       "      <th>Age</th>\n",
       "      <th>G</th>\n",
       "      <th>MP</th>\n",
       "      <th>PER</th>\n",
       "      <th>3PAr</th>\n",
       "      <th>FTr</th>\n",
       "      <th>OWS</th>\n",
       "      <th>DWS</th>\n",
       "      <th>WS</th>\n",
       "      <th>WS/48</th>\n",
       "      <th>...</th>\n",
       "      <th>AST%</th>\n",
       "      <th>STL%</th>\n",
       "      <th>BLK%</th>\n",
       "      <th>TOV%</th>\n",
       "      <th>USG%</th>\n",
       "      <th>NumPos</th>\n",
       "      <th>Player</th>\n",
       "      <th>Pos</th>\n",
       "      <th>Tm</th>\n",
       "      <th>Season</th>\n",
       "    </tr>\n",
       "  </thead>\n",
       "  <tbody>\n",
       "    <tr>\n",
       "      <th>0</th>\n",
       "      <td>-1.191053</td>\n",
       "      <td>0.551087</td>\n",
       "      <td>1.120242</td>\n",
       "      <td>1.313788</td>\n",
       "      <td>-0.797496</td>\n",
       "      <td>0.727725</td>\n",
       "      <td>1.609880</td>\n",
       "      <td>1.908807</td>\n",
       "      <td>1.875195</td>\n",
       "      <td>1.059282</td>\n",
       "      <td>...</td>\n",
       "      <td>1.152642</td>\n",
       "      <td>0.059991</td>\n",
       "      <td>1.330114</td>\n",
       "      <td>0.379014</td>\n",
       "      <td>0.351384</td>\n",
       "      <td>0.704204</td>\n",
       "      <td>Bam Adebayo</td>\n",
       "      <td>PF</td>\n",
       "      <td>MIA</td>\n",
       "      <td>2019-20</td>\n",
       "    </tr>\n",
       "    <tr>\n",
       "      <th>1</th>\n",
       "      <td>1.878944</td>\n",
       "      <td>0.101297</td>\n",
       "      <td>0.605563</td>\n",
       "      <td>1.183780</td>\n",
       "      <td>0.095739</td>\n",
       "      <td>-0.335650</td>\n",
       "      <td>0.889289</td>\n",
       "      <td>0.154221</td>\n",
       "      <td>0.645785</td>\n",
       "      <td>0.543813</td>\n",
       "      <td>...</td>\n",
       "      <td>-0.175453</td>\n",
       "      <td>-0.616013</td>\n",
       "      <td>1.667763</td>\n",
       "      <td>-1.016088</td>\n",
       "      <td>0.860545</td>\n",
       "      <td>1.414381</td>\n",
       "      <td>LaMarcus Aldridge</td>\n",
       "      <td>C</td>\n",
       "      <td>SAS</td>\n",
       "      <td>2019-20</td>\n",
       "    </tr>\n",
       "    <tr>\n",
       "      <th>2</th>\n",
       "      <td>-1.446886</td>\n",
       "      <td>-0.348494</td>\n",
       "      <td>-0.735172</td>\n",
       "      <td>-0.798848</td>\n",
       "      <td>1.668823</td>\n",
       "      <td>-0.869600</td>\n",
       "      <td>-0.936208</td>\n",
       "      <td>-0.643319</td>\n",
       "      <td>-0.949125</td>\n",
       "      <td>-0.973418</td>\n",
       "      <td>...</td>\n",
       "      <td>0.793403</td>\n",
       "      <td>-0.616013</td>\n",
       "      <td>-0.133031</td>\n",
       "      <td>-0.081226</td>\n",
       "      <td>0.715070</td>\n",
       "      <td>-0.716149</td>\n",
       "      <td>Nickeil Alexander-Walker</td>\n",
       "      <td>SG</td>\n",
       "      <td>NOP</td>\n",
       "      <td>2019-20</td>\n",
       "    </tr>\n",
       "    <tr>\n",
       "      <th>3</th>\n",
       "      <td>-0.679387</td>\n",
       "      <td>-0.760802</td>\n",
       "      <td>-0.738382</td>\n",
       "      <td>-0.181308</td>\n",
       "      <td>1.678748</td>\n",
       "      <td>-0.525700</td>\n",
       "      <td>-0.359735</td>\n",
       "      <td>-0.723072</td>\n",
       "      <td>-0.583625</td>\n",
       "      <td>0.038069</td>\n",
       "      <td>...</td>\n",
       "      <td>-0.131909</td>\n",
       "      <td>-1.002302</td>\n",
       "      <td>-0.695779</td>\n",
       "      <td>-0.598996</td>\n",
       "      <td>-0.175962</td>\n",
       "      <td>-0.716149</td>\n",
       "      <td>Grayson Allen</td>\n",
       "      <td>SG</td>\n",
       "      <td>MEM</td>\n",
       "      <td>2019-20</td>\n",
       "    </tr>\n",
       "    <tr>\n",
       "      <th>4</th>\n",
       "      <td>-1.446886</td>\n",
       "      <td>0.513605</td>\n",
       "      <td>0.491071</td>\n",
       "      <td>1.265035</td>\n",
       "      <td>-0.827270</td>\n",
       "      <td>1.171175</td>\n",
       "      <td>1.465762</td>\n",
       "      <td>1.270776</td>\n",
       "      <td>1.542922</td>\n",
       "      <td>1.370509</td>\n",
       "      <td>...</td>\n",
       "      <td>-0.567350</td>\n",
       "      <td>-0.519441</td>\n",
       "      <td>1.611488</td>\n",
       "      <td>-0.383259</td>\n",
       "      <td>-0.703307</td>\n",
       "      <td>1.414381</td>\n",
       "      <td>Jarrett Allen</td>\n",
       "      <td>C</td>\n",
       "      <td>BRK</td>\n",
       "      <td>2019-20</td>\n",
       "    </tr>\n",
       "  </tbody>\n",
       "</table>\n",
       "<p>5 rows × 28 columns</p>\n",
       "</div>"
      ],
      "text/plain": [
       "        Age         G        MP       PER      3PAr       FTr       OWS  \\\n",
       "0 -1.191053  0.551087  1.120242  1.313788 -0.797496  0.727725  1.609880   \n",
       "1  1.878944  0.101297  0.605563  1.183780  0.095739 -0.335650  0.889289   \n",
       "2 -1.446886 -0.348494 -0.735172 -0.798848  1.668823 -0.869600 -0.936208   \n",
       "3 -0.679387 -0.760802 -0.738382 -0.181308  1.678748 -0.525700 -0.359735   \n",
       "4 -1.446886  0.513605  0.491071  1.265035 -0.827270  1.171175  1.465762   \n",
       "\n",
       "        DWS        WS     WS/48  ...      AST%      STL%      BLK%      TOV%  \\\n",
       "0  1.908807  1.875195  1.059282  ...  1.152642  0.059991  1.330114  0.379014   \n",
       "1  0.154221  0.645785  0.543813  ... -0.175453 -0.616013  1.667763 -1.016088   \n",
       "2 -0.643319 -0.949125 -0.973418  ...  0.793403 -0.616013 -0.133031 -0.081226   \n",
       "3 -0.723072 -0.583625  0.038069  ... -0.131909 -1.002302 -0.695779 -0.598996   \n",
       "4  1.270776  1.542922  1.370509  ... -0.567350 -0.519441  1.611488 -0.383259   \n",
       "\n",
       "       USG%    NumPos                    Player  Pos    Tm   Season  \n",
       "0  0.351384  0.704204               Bam Adebayo   PF   MIA  2019-20  \n",
       "1  0.860545  1.414381         LaMarcus Aldridge    C   SAS  2019-20  \n",
       "2  0.715070 -0.716149  Nickeil Alexander-Walker   SG   NOP  2019-20  \n",
       "3 -0.175962 -0.716149             Grayson Allen   SG   MEM  2019-20  \n",
       "4 -0.703307  1.414381             Jarrett Allen    C   BRK  2019-20  \n",
       "\n",
       "[5 rows x 28 columns]"
      ]
     },
     "execution_count": 1,
     "metadata": {},
     "output_type": "execute_result"
    }
   ],
   "source": [
    "# import required modules\n",
    "import pandas as pd\n",
    "from sklearn.model_selection import train_test_split\n",
    "from sklearn.linear_model import LogisticRegression\n",
    "from sklearn import metrics\n",
    "from sklearn.metrics import classification_report, confusion_matrix\n",
    "import pandas as pd\n",
    "from sklearn.metrics import roc_auc_score\n",
    "from sklearn.metrics import precision_recall_fscore_support\n",
    "import numpy as np\n",
    "\n",
    "# load dataset\n",
    "data = pd.read_csv('../Capstone/Data/NBApipeline1.csv', header=0)\n",
    "data.head()"
   ]
  },
  {
   "cell_type": "code",
   "execution_count": 2,
   "metadata": {},
   "outputs": [
    {
     "data": {
      "text/plain": [
       "Age       float64\n",
       "G         float64\n",
       "MP        float64\n",
       "PER       float64\n",
       "3PAr      float64\n",
       "FTr       float64\n",
       "OWS       float64\n",
       "DWS       float64\n",
       "WS        float64\n",
       "WS/48     float64\n",
       "OBPM      float64\n",
       "DBPM      float64\n",
       "BPM       float64\n",
       "VORP      float64\n",
       "TS%       float64\n",
       "ORB%      float64\n",
       "DRB%      float64\n",
       "TRB%      float64\n",
       "AST%      float64\n",
       "STL%      float64\n",
       "BLK%      float64\n",
       "TOV%      float64\n",
       "USG%      float64\n",
       "NumPos    float64\n",
       "Player     object\n",
       "Pos        object\n",
       "Tm         object\n",
       "Season     object\n",
       "dtype: object"
      ]
     },
     "execution_count": 2,
     "metadata": {},
     "output_type": "execute_result"
    }
   ],
   "source": [
    "data.dtypes"
   ]
  },
  {
   "cell_type": "code",
   "execution_count": 3,
   "metadata": {},
   "outputs": [
    {
     "data": {
      "text/plain": [
       "array(['Age', 'G', 'MP', 'PER', '3PAr', 'FTr', 'OWS', 'DWS', 'WS',\n",
       "       'WS/48', 'OBPM', 'DBPM', 'BPM', 'VORP', 'TS%', 'ORB%', 'DRB%',\n",
       "       'TRB%', 'AST%', 'STL%', 'BLK%', 'TOV%', 'USG%', 'NumPos', 'Player',\n",
       "       'Pos', 'Tm', 'Season'], dtype=object)"
      ]
     },
     "execution_count": 3,
     "metadata": {},
     "output_type": "execute_result"
    }
   ],
   "source": [
    "data.columns.values"
   ]
  },
  {
   "cell_type": "code",
   "execution_count": 4,
   "metadata": {},
   "outputs": [
    {
     "data": {
      "text/plain": [
       "Age        0.00\n",
       "G          0.00\n",
       "MP         0.06\n",
       "PER        0.11\n",
       "3PAr      17.11\n",
       "FTr        0.51\n",
       "OWS        0.09\n",
       "DWS        0.09\n",
       "WS         0.09\n",
       "WS/48      0.11\n",
       "OBPM       9.19\n",
       "DBPM       9.19\n",
       "BPM        9.19\n",
       "VORP       9.19\n",
       "TS%        0.46\n",
       "ORB%       9.21\n",
       "DRB%       9.21\n",
       "TRB%       6.16\n",
       "AST%       2.38\n",
       "STL%       9.21\n",
       "BLK%       9.21\n",
       "TOV%      14.12\n",
       "USG%      13.83\n",
       "NumPos     0.00\n",
       "Player     0.00\n",
       "Pos        0.00\n",
       "Tm         0.00\n",
       "Season     0.00\n",
       "dtype: float64"
      ]
     },
     "execution_count": 4,
     "metadata": {},
     "output_type": "execute_result"
    }
   ],
   "source": [
    "data.isna().mean().round(4) * 100"
   ]
  },
  {
   "cell_type": "code",
   "execution_count": 5,
   "metadata": {},
   "outputs": [
    {
     "data": {
      "text/plain": [
       "(24851, 28)"
      ]
     },
     "execution_count": 5,
     "metadata": {},
     "output_type": "execute_result"
    }
   ],
   "source": [
    "data.shape"
   ]
  },
  {
   "cell_type": "code",
   "execution_count": 6,
   "metadata": {},
   "outputs": [],
   "source": [
    "data=data.dropna()"
   ]
  },
  {
   "cell_type": "code",
   "execution_count": 7,
   "metadata": {},
   "outputs": [
    {
     "data": {
      "text/plain": [
       "(20599, 28)"
      ]
     },
     "execution_count": 7,
     "metadata": {},
     "output_type": "execute_result"
    }
   ],
   "source": [
    "data.shape"
   ]
  },
  {
   "cell_type": "code",
   "execution_count": 8,
   "metadata": {},
   "outputs": [
    {
     "data": {
      "text/plain": [
       "Age       0.0\n",
       "G         0.0\n",
       "MP        0.0\n",
       "PER       0.0\n",
       "3PAr      0.0\n",
       "FTr       0.0\n",
       "OWS       0.0\n",
       "DWS       0.0\n",
       "WS        0.0\n",
       "WS/48     0.0\n",
       "OBPM      0.0\n",
       "DBPM      0.0\n",
       "BPM       0.0\n",
       "VORP      0.0\n",
       "TS%       0.0\n",
       "ORB%      0.0\n",
       "DRB%      0.0\n",
       "TRB%      0.0\n",
       "AST%      0.0\n",
       "STL%      0.0\n",
       "BLK%      0.0\n",
       "TOV%      0.0\n",
       "USG%      0.0\n",
       "NumPos    0.0\n",
       "Player    0.0\n",
       "Pos       0.0\n",
       "Tm        0.0\n",
       "Season    0.0\n",
       "dtype: float64"
      ]
     },
     "execution_count": 8,
     "metadata": {},
     "output_type": "execute_result"
    }
   ],
   "source": [
    "data.isna().sum() / len(data)"
   ]
  },
  {
   "cell_type": "code",
   "execution_count": 9,
   "metadata": {},
   "outputs": [],
   "source": [
    "features=['Age', 'G', 'MP', 'PER', '3PAr', 'FTr',\n",
    "       'OWS', 'DWS', 'WS/48', 'OBPM', 'DBPM', 'BPM', 'VORP',\n",
    "       'TS%', 'ORB%', 'DRB%', 'TRB%', 'AST%', 'STL%', 'BLK%',\n",
    "       'TOV%', 'USG%', 'NumPos']\n",
    "X=data[features]\n",
    "y=data.WS"
   ]
  },
  {
   "cell_type": "code",
   "execution_count": 10,
   "metadata": {},
   "outputs": [
    {
     "name": "stdout",
     "output_type": "stream",
     "text": [
      "max: 3.0000604150514096 min: -1.5139889462355958\n"
     ]
    }
   ],
   "source": [
    "print('max:', y.max(),\n",
    "     'min:', y.min())"
   ]
  },
  {
   "cell_type": "code",
   "execution_count": 11,
   "metadata": {},
   "outputs": [],
   "source": [
    "# split X and y into training and testing sets\n",
    "X_train,X_test,y_train,y_test=train_test_split(X,y,test_size=0.25,random_state=2019)"
   ]
  },
  {
   "cell_type": "code",
   "execution_count": 15,
   "metadata": {},
   "outputs": [
    {
     "ename": "ValueError",
     "evalue": "Unknown label type: 'continuous'",
     "output_type": "error",
     "traceback": [
      "\u001b[0;31m---------------------------------------------------------------------------\u001b[0m",
      "\u001b[0;31mValueError\u001b[0m                                Traceback (most recent call last)",
      "\u001b[0;32m<ipython-input-15-dcb446fccd6f>\u001b[0m in \u001b[0;36m<module>\u001b[0;34m\u001b[0m\n\u001b[1;32m      3\u001b[0m \u001b[0;34m\u001b[0m\u001b[0m\n\u001b[1;32m      4\u001b[0m \u001b[0;31m# fit the model with data\u001b[0m\u001b[0;34m\u001b[0m\u001b[0;34m\u001b[0m\u001b[0;34m\u001b[0m\u001b[0m\n\u001b[0;32m----> 5\u001b[0;31m \u001b[0mlogreg\u001b[0m\u001b[0;34m.\u001b[0m\u001b[0mfit\u001b[0m\u001b[0;34m(\u001b[0m\u001b[0mX_train\u001b[0m\u001b[0;34m,\u001b[0m\u001b[0my_train\u001b[0m\u001b[0;34m)\u001b[0m\u001b[0;34m\u001b[0m\u001b[0;34m\u001b[0m\u001b[0m\n\u001b[0m\u001b[1;32m      6\u001b[0m \u001b[0;34m\u001b[0m\u001b[0m\n\u001b[1;32m      7\u001b[0m \u001b[0;31m# predict the model\u001b[0m\u001b[0;34m\u001b[0m\u001b[0;34m\u001b[0m\u001b[0;34m\u001b[0m\u001b[0m\n",
      "\u001b[0;32m/opt/tljh/user/lib/python3.6/site-packages/sklearn/linear_model/_logistic.py\u001b[0m in \u001b[0;36mfit\u001b[0;34m(self, X, y, sample_weight)\u001b[0m\n\u001b[1;32m   1526\u001b[0m         X, y = check_X_y(X, y, accept_sparse='csr', dtype=_dtype, order=\"C\",\n\u001b[1;32m   1527\u001b[0m                          accept_large_sparse=solver != 'liblinear')\n\u001b[0;32m-> 1528\u001b[0;31m         \u001b[0mcheck_classification_targets\u001b[0m\u001b[0;34m(\u001b[0m\u001b[0my\u001b[0m\u001b[0;34m)\u001b[0m\u001b[0;34m\u001b[0m\u001b[0;34m\u001b[0m\u001b[0m\n\u001b[0m\u001b[1;32m   1529\u001b[0m         \u001b[0mself\u001b[0m\u001b[0;34m.\u001b[0m\u001b[0mclasses_\u001b[0m \u001b[0;34m=\u001b[0m \u001b[0mnp\u001b[0m\u001b[0;34m.\u001b[0m\u001b[0munique\u001b[0m\u001b[0;34m(\u001b[0m\u001b[0my\u001b[0m\u001b[0;34m)\u001b[0m\u001b[0;34m\u001b[0m\u001b[0;34m\u001b[0m\u001b[0m\n\u001b[1;32m   1530\u001b[0m         \u001b[0mn_samples\u001b[0m\u001b[0;34m,\u001b[0m \u001b[0mn_features\u001b[0m \u001b[0;34m=\u001b[0m \u001b[0mX\u001b[0m\u001b[0;34m.\u001b[0m\u001b[0mshape\u001b[0m\u001b[0;34m\u001b[0m\u001b[0;34m\u001b[0m\u001b[0m\n",
      "\u001b[0;32m/opt/tljh/user/lib/python3.6/site-packages/sklearn/utils/multiclass.py\u001b[0m in \u001b[0;36mcheck_classification_targets\u001b[0;34m(y)\u001b[0m\n\u001b[1;32m    167\u001b[0m     if y_type not in ['binary', 'multiclass', 'multiclass-multioutput',\n\u001b[1;32m    168\u001b[0m                       'multilabel-indicator', 'multilabel-sequences']:\n\u001b[0;32m--> 169\u001b[0;31m         \u001b[0;32mraise\u001b[0m \u001b[0mValueError\u001b[0m\u001b[0;34m(\u001b[0m\u001b[0;34m\"Unknown label type: %r\"\u001b[0m \u001b[0;34m%\u001b[0m \u001b[0my_type\u001b[0m\u001b[0;34m)\u001b[0m\u001b[0;34m\u001b[0m\u001b[0;34m\u001b[0m\u001b[0m\n\u001b[0m\u001b[1;32m    170\u001b[0m \u001b[0;34m\u001b[0m\u001b[0m\n\u001b[1;32m    171\u001b[0m \u001b[0;34m\u001b[0m\u001b[0m\n",
      "\u001b[0;31mValueError\u001b[0m: Unknown label type: 'continuous'"
     ]
    }
   ],
   "source": [
    "# instantiate the model (using the default parameters)\n",
    "logreg = LogisticRegression()\n",
    "\n",
    "# fit the model with data\n",
    "logreg.fit(X_train,y_train)\n",
    "\n",
    "# predict the model\n",
    "y_pred=logreg.predict(X_test)"
   ]
  },
  {
   "cell_type": "code",
   "execution_count": null,
   "metadata": {},
   "outputs": [],
   "source": []
  }
 ],
 "metadata": {
  "kernelspec": {
   "display_name": "Python 3",
   "language": "python",
   "name": "python3"
  },
  "language_info": {
   "codemirror_mode": {
    "name": "ipython",
    "version": 3
   },
   "file_extension": ".py",
   "mimetype": "text/x-python",
   "name": "python",
   "nbconvert_exporter": "python",
   "pygments_lexer": "ipython3",
   "version": "3.6.7"
  }
 },
 "nbformat": 4,
 "nbformat_minor": 4
}
