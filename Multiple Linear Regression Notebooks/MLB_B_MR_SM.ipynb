{
 "cells": [
  {
   "cell_type": "markdown",
   "metadata": {},
   "source": [
    "# MLB Batters Multiple Linear Regression - Statsmodels"
   ]
  },
  {
   "cell_type": "code",
   "execution_count": 1,
   "metadata": {},
   "outputs": [],
   "source": [
    "# import required modules\n",
    "import pandas as pd\n",
    "from sklearn import linear_model\n",
    "from sklearn.model_selection import train_test_split\n",
    "from sklearn.linear_model import LogisticRegression\n",
    "from sklearn import metrics\n",
    "from sklearn.metrics import classification_report, confusion_matrix\n",
    "import pandas as pd\n",
    "from sklearn.metrics import roc_auc_score\n",
    "from sklearn.metrics import precision_recall_fscore_support\n",
    "import numpy as np\n",
    "import statsmodels.api as sm"
   ]
  },
  {
   "cell_type": "code",
   "execution_count": 2,
   "metadata": {},
   "outputs": [
    {
     "data": {
      "text/plain": [
       "(35504, 44)"
      ]
     },
     "execution_count": 2,
     "metadata": {},
     "output_type": "execute_result"
    }
   ],
   "source": [
    "# load dataset\n",
    "data = pd.read_csv('../../Capstone/Data/MLB_Bpipeline1.csv', header=0)\n",
    "data.shape"
   ]
  },
  {
   "cell_type": "code",
   "execution_count": 5,
   "metadata": {},
   "outputs": [
    {
     "data": {
      "text/plain": [
       "Index(['name_common', 'year_ID', 'team_ID', 'lg_ID', 'G', 'Inn', 'runs_dp',\n",
       "       'runs_field', 'runs_infield', 'runs_defense', 'runs_position',\n",
       "       'runs_position_p', 'teamRpG', 'oppRpG', 'oppRpPA_rep', 'oppRpG_rep',\n",
       "       'pyth_exponent', 'pyth_exponent_rep', 'waa_win_perc_off',\n",
       "       'waa_win_perc_rep', 'OPS_plus', 'age', 'PA', 'runs_bat', 'runs_br',\n",
       "       'runs_outfield', 'runs_catcher', 'runs_good_plays', 'runs_replacement',\n",
       "       'runs_above_rep', 'runs_above_avg', 'runs_above_avg_off',\n",
       "       'runs_above_avg_def', 'WAA', 'WAA_off', 'WAA_def', 'WAR', 'WAR_def',\n",
       "       'WAR_off', 'WAR_rep', 'waa_win_perc', 'waa_win_perc_def', 'TOB_lg',\n",
       "       'TB_lg'],\n",
       "      dtype='object')"
      ]
     },
     "execution_count": 5,
     "metadata": {},
     "output_type": "execute_result"
    }
   ],
   "source": [
    "data.columns"
   ]
  },
  {
   "cell_type": "code",
   "execution_count": 6,
   "metadata": {},
   "outputs": [],
   "source": [
    "features=[ 'teamRpG', 'oppRpG_rep', 'pyth_exponent', 'pyth_exponent_rep', 'runs_above_rep', 'runs_above_avg', 'runs_above_avg_off', 'runs_above_avg_def', 'WAA', 'WAR_off']\n",
    "X=data[features]\n",
    "y=data.WAR"
   ]
  },
  {
   "cell_type": "code",
   "execution_count": 7,
   "metadata": {},
   "outputs": [],
   "source": [
    "# split X and y into training and testing sets\n",
    "X_train,X_test,y_train,y_test=train_test_split(X,y,test_size=0.25,random_state=2019)"
   ]
  },
  {
   "cell_type": "code",
   "execution_count": 8,
   "metadata": {},
   "outputs": [
    {
     "data": {
      "text/html": [
       "<table class=\"simpletable\">\n",
       "<caption>OLS Regression Results</caption>\n",
       "<tr>\n",
       "  <th>Dep. Variable:</th>           <td>WAR</td>       <th>  R-squared (uncentered):</th>       <td>   0.994</td> \n",
       "</tr>\n",
       "<tr>\n",
       "  <th>Model:</th>                   <td>OLS</td>       <th>  Adj. R-squared (uncentered):</th>  <td>   0.994</td> \n",
       "</tr>\n",
       "<tr>\n",
       "  <th>Method:</th>             <td>Least Squares</td>  <th>  F-statistic:       </th>           <td>6.309e+05</td>\n",
       "</tr>\n",
       "<tr>\n",
       "  <th>Date:</th>             <td>Sun, 21 Jun 2020</td> <th>  Prob (F-statistic):</th>            <td>  0.00</td>  \n",
       "</tr>\n",
       "<tr>\n",
       "  <th>Time:</th>                 <td>03:32:47</td>     <th>  Log-Likelihood:    </th>           <td>  42633.</td> \n",
       "</tr>\n",
       "<tr>\n",
       "  <th>No. Observations:</th>      <td> 35504</td>      <th>  AIC:               </th>          <td>-8.525e+04</td>\n",
       "</tr>\n",
       "<tr>\n",
       "  <th>Df Residuals:</th>          <td> 35494</td>      <th>  BIC:               </th>          <td>-8.516e+04</td>\n",
       "</tr>\n",
       "<tr>\n",
       "  <th>Df Model:</th>              <td>    10</td>      <th>                     </th>               <td> </td>    \n",
       "</tr>\n",
       "<tr>\n",
       "  <th>Covariance Type:</th>      <td>nonrobust</td>    <th>                     </th>               <td> </td>    \n",
       "</tr>\n",
       "</table>\n",
       "<table class=\"simpletable\">\n",
       "<tr>\n",
       "           <td></td>             <th>coef</th>     <th>std err</th>      <th>t</th>      <th>P>|t|</th>  <th>[0.025</th>    <th>0.975]</th>  \n",
       "</tr>\n",
       "<tr>\n",
       "  <th>teamRpG</th>            <td>   -0.2492</td> <td>    0.012</td> <td>  -21.309</td> <td> 0.000</td> <td>   -0.272</td> <td>   -0.226</td>\n",
       "</tr>\n",
       "<tr>\n",
       "  <th>oppRpG_rep</th>         <td>    0.2015</td> <td>    0.012</td> <td>   16.562</td> <td> 0.000</td> <td>    0.178</td> <td>    0.225</td>\n",
       "</tr>\n",
       "<tr>\n",
       "  <th>pyth_exponent</th>      <td>    0.4238</td> <td>    0.022</td> <td>   19.198</td> <td> 0.000</td> <td>    0.381</td> <td>    0.467</td>\n",
       "</tr>\n",
       "<tr>\n",
       "  <th>pyth_exponent_rep</th>  <td>   -0.3858</td> <td>    0.022</td> <td>  -17.661</td> <td> 0.000</td> <td>   -0.429</td> <td>   -0.343</td>\n",
       "</tr>\n",
       "<tr>\n",
       "  <th>runs_above_rep</th>     <td>    0.7438</td> <td>    0.002</td> <td>  363.309</td> <td> 0.000</td> <td>    0.740</td> <td>    0.748</td>\n",
       "</tr>\n",
       "<tr>\n",
       "  <th>runs_above_avg</th>     <td>   -0.3345</td> <td>    0.005</td> <td>  -66.057</td> <td> 0.000</td> <td>   -0.344</td> <td>   -0.325</td>\n",
       "</tr>\n",
       "<tr>\n",
       "  <th>runs_above_avg_off</th> <td>   -0.1742</td> <td>    0.002</td> <td>  -96.456</td> <td> 0.000</td> <td>   -0.178</td> <td>   -0.171</td>\n",
       "</tr>\n",
       "<tr>\n",
       "  <th>runs_above_avg_def</th> <td>   -0.0163</td> <td>    0.001</td> <td>  -25.164</td> <td> 0.000</td> <td>   -0.018</td> <td>   -0.015</td>\n",
       "</tr>\n",
       "<tr>\n",
       "  <th>WAA</th>                <td>    0.5752</td> <td>    0.004</td> <td>  129.203</td> <td> 0.000</td> <td>    0.566</td> <td>    0.584</td>\n",
       "</tr>\n",
       "<tr>\n",
       "  <th>WAR_off</th>            <td>    0.2089</td> <td>    0.002</td> <td>  111.172</td> <td> 0.000</td> <td>    0.205</td> <td>    0.213</td>\n",
       "</tr>\n",
       "</table>\n",
       "<table class=\"simpletable\">\n",
       "<tr>\n",
       "  <th>Omnibus:</th>       <td>13130.345</td> <th>  Durbin-Watson:     </th>  <td>   1.720</td> \n",
       "</tr>\n",
       "<tr>\n",
       "  <th>Prob(Omnibus):</th>  <td> 0.000</td>   <th>  Jarque-Bera (JB):  </th> <td>403915.094</td>\n",
       "</tr>\n",
       "<tr>\n",
       "  <th>Skew:</th>           <td>-1.159</td>   <th>  Prob(JB):          </th>  <td>    0.00</td> \n",
       "</tr>\n",
       "<tr>\n",
       "  <th>Kurtosis:</th>       <td>19.360</td>   <th>  Cond. No.          </th>  <td>    186.</td> \n",
       "</tr>\n",
       "</table><br/><br/>Warnings:<br/>[1] Standard Errors assume that the covariance matrix of the errors is correctly specified."
      ],
      "text/plain": [
       "<class 'statsmodels.iolib.summary.Summary'>\n",
       "\"\"\"\n",
       "                                 OLS Regression Results                                \n",
       "=======================================================================================\n",
       "Dep. Variable:                    WAR   R-squared (uncentered):                   0.994\n",
       "Model:                            OLS   Adj. R-squared (uncentered):              0.994\n",
       "Method:                 Least Squares   F-statistic:                          6.309e+05\n",
       "Date:                Sun, 21 Jun 2020   Prob (F-statistic):                        0.00\n",
       "Time:                        03:32:47   Log-Likelihood:                          42633.\n",
       "No. Observations:               35504   AIC:                                 -8.525e+04\n",
       "Df Residuals:                   35494   BIC:                                 -8.516e+04\n",
       "Df Model:                          10                                                  \n",
       "Covariance Type:            nonrobust                                                  \n",
       "======================================================================================\n",
       "                         coef    std err          t      P>|t|      [0.025      0.975]\n",
       "--------------------------------------------------------------------------------------\n",
       "teamRpG               -0.2492      0.012    -21.309      0.000      -0.272      -0.226\n",
       "oppRpG_rep             0.2015      0.012     16.562      0.000       0.178       0.225\n",
       "pyth_exponent          0.4238      0.022     19.198      0.000       0.381       0.467\n",
       "pyth_exponent_rep     -0.3858      0.022    -17.661      0.000      -0.429      -0.343\n",
       "runs_above_rep         0.7438      0.002    363.309      0.000       0.740       0.748\n",
       "runs_above_avg        -0.3345      0.005    -66.057      0.000      -0.344      -0.325\n",
       "runs_above_avg_off    -0.1742      0.002    -96.456      0.000      -0.178      -0.171\n",
       "runs_above_avg_def    -0.0163      0.001    -25.164      0.000      -0.018      -0.015\n",
       "WAA                    0.5752      0.004    129.203      0.000       0.566       0.584\n",
       "WAR_off                0.2089      0.002    111.172      0.000       0.205       0.213\n",
       "==============================================================================\n",
       "Omnibus:                    13130.345   Durbin-Watson:                   1.720\n",
       "Prob(Omnibus):                  0.000   Jarque-Bera (JB):           403915.094\n",
       "Skew:                          -1.159   Prob(JB):                         0.00\n",
       "Kurtosis:                      19.360   Cond. No.                         186.\n",
       "==============================================================================\n",
       "\n",
       "Warnings:\n",
       "[1] Standard Errors assume that the covariance matrix of the errors is correctly specified.\n",
       "\"\"\""
      ]
     },
     "execution_count": 8,
     "metadata": {},
     "output_type": "execute_result"
    }
   ],
   "source": [
    "model = sm.OLS(y, X).fit()\n",
    "predictions = model.predict(X)\n",
    "model.summary()"
   ]
  }
 ],
 "metadata": {
  "kernelspec": {
   "display_name": "Python 3",
   "language": "python",
   "name": "python3"
  },
  "language_info": {
   "codemirror_mode": {
    "name": "ipython",
    "version": 3
   },
   "file_extension": ".py",
   "mimetype": "text/x-python",
   "name": "python",
   "nbconvert_exporter": "python",
   "pygments_lexer": "ipython3",
   "version": "3.6.7"
  }
 },
 "nbformat": 4,
 "nbformat_minor": 4
}
