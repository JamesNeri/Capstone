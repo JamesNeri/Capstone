{
 "cells": [
  {
   "cell_type": "markdown",
   "metadata": {},
   "source": [
    "# MLB Batters Multiple Linear Regression - Statsmodels"
   ]
  },
  {
   "cell_type": "code",
   "execution_count": 1,
   "metadata": {},
   "outputs": [],
   "source": [
    "# import required modules\n",
    "import pandas as pd\n",
    "from sklearn import linear_model\n",
    "from sklearn.model_selection import train_test_split\n",
    "from sklearn.linear_model import LogisticRegression\n",
    "from sklearn import metrics\n",
    "from sklearn.metrics import classification_report, confusion_matrix\n",
    "import pandas as pd\n",
    "from sklearn.metrics import roc_auc_score\n",
    "from sklearn.metrics import precision_recall_fscore_support\n",
    "import numpy as np\n",
    "import statsmodels.api as sm"
   ]
  },
  {
   "cell_type": "code",
   "execution_count": 2,
   "metadata": {},
   "outputs": [
    {
     "data": {
      "text/plain": [
       "(35504, 44)"
      ]
     },
     "execution_count": 2,
     "metadata": {},
     "output_type": "execute_result"
    }
   ],
   "source": [
    "# load dataset\n",
    "data = pd.read_csv('../../Capstone/Data/MLB_Bpipeline1.csv', header=0)\n",
    "data.shape"
   ]
  },
  {
   "cell_type": "code",
   "execution_count": 3,
   "metadata": {},
   "outputs": [
    {
     "data": {
      "text/plain": [
       "Index(['name_common', 'year_ID', 'team_ID', 'lg_ID', 'G', 'Inn', 'runs_dp',\n",
       "       'runs_field', 'runs_infield', 'runs_defense', 'runs_position',\n",
       "       'runs_position_p', 'teamRpG', 'oppRpG', 'oppRpPA_rep', 'oppRpG_rep',\n",
       "       'pyth_exponent', 'pyth_exponent_rep', 'waa_win_perc_off',\n",
       "       'waa_win_perc_rep', 'OPS_plus', 'age', 'PA', 'runs_bat', 'runs_br',\n",
       "       'runs_outfield', 'runs_catcher', 'runs_good_plays', 'runs_replacement',\n",
       "       'runs_above_rep', 'runs_above_avg', 'runs_above_avg_off',\n",
       "       'runs_above_avg_def', 'WAA', 'WAA_off', 'WAA_def', 'WAR', 'WAR_def',\n",
       "       'WAR_off', 'WAR_rep', 'waa_win_perc', 'waa_win_perc_def', 'TOB_lg',\n",
       "       'TB_lg'],\n",
       "      dtype='object')"
      ]
     },
     "execution_count": 3,
     "metadata": {},
     "output_type": "execute_result"
    }
   ],
   "source": [
    "data.columns"
   ]
  },
  {
   "cell_type": "code",
   "execution_count": 4,
   "metadata": {},
   "outputs": [],
   "source": [
    "features=['runs_defense', 'teamRpG', 'oppRpG', 'oppRpG_rep', 'pyth_exponent', 'pyth_exponent_rep', 'waa_win_perc_rep',\n",
    "'runs_above_avg_def', 'WAA_def', 'WAR_def']\n",
    "X=data[features]\n",
    "y=data.WAR"
   ]
  },
  {
   "cell_type": "code",
   "execution_count": 5,
   "metadata": {},
   "outputs": [],
   "source": [
    "# split X and y into training and testing sets\n",
    "X_train,X_test,y_train,y_test=train_test_split(X,y,test_size=0.25,random_state=2019)"
   ]
  },
  {
   "cell_type": "code",
   "execution_count": 6,
   "metadata": {},
   "outputs": [
    {
     "data": {
      "text/html": [
       "<table class=\"simpletable\">\n",
       "<caption>OLS Regression Results</caption>\n",
       "<tr>\n",
       "  <th>Dep. Variable:</th>           <td>WAR</td>       <th>  R-squared (uncentered):</th>      <td>   0.680</td> \n",
       "</tr>\n",
       "<tr>\n",
       "  <th>Model:</th>                   <td>OLS</td>       <th>  Adj. R-squared (uncentered):</th> <td>   0.680</td> \n",
       "</tr>\n",
       "<tr>\n",
       "  <th>Method:</th>             <td>Least Squares</td>  <th>  F-statistic:       </th>          <td>   8393.</td> \n",
       "</tr>\n",
       "<tr>\n",
       "  <th>Date:</th>             <td>Mon, 22 Jun 2020</td> <th>  Prob (F-statistic):</th>           <td>  0.00</td>  \n",
       "</tr>\n",
       "<tr>\n",
       "  <th>Time:</th>                 <td>02:03:51</td>     <th>  Log-Likelihood:    </th>          <td> -29183.</td> \n",
       "</tr>\n",
       "<tr>\n",
       "  <th>No. Observations:</th>      <td> 35504</td>      <th>  AIC:               </th>          <td>5.838e+04</td>\n",
       "</tr>\n",
       "<tr>\n",
       "  <th>Df Residuals:</th>          <td> 35495</td>      <th>  BIC:               </th>          <td>5.846e+04</td>\n",
       "</tr>\n",
       "<tr>\n",
       "  <th>Df Model:</th>              <td>     9</td>      <th>                     </th>              <td> </td>    \n",
       "</tr>\n",
       "<tr>\n",
       "  <th>Covariance Type:</th>      <td>nonrobust</td>    <th>                     </th>              <td> </td>    \n",
       "</tr>\n",
       "</table>\n",
       "<table class=\"simpletable\">\n",
       "<tr>\n",
       "           <td></td>             <th>coef</th>     <th>std err</th>      <th>t</th>      <th>P>|t|</th>  <th>[0.025</th>    <th>0.975]</th>  \n",
       "</tr>\n",
       "<tr>\n",
       "  <th>runs_defense</th>       <td>    0.4321</td> <td>    0.006</td> <td>   75.320</td> <td> 0.000</td> <td>    0.421</td> <td>    0.443</td>\n",
       "</tr>\n",
       "<tr>\n",
       "  <th>teamRpG</th>            <td>    1.9680</td> <td>    0.091</td> <td>   21.605</td> <td> 0.000</td> <td>    1.789</td> <td>    2.147</td>\n",
       "</tr>\n",
       "<tr>\n",
       "  <th>oppRpG</th>             <td>   -3.7795</td> <td>    0.510</td> <td>   -7.417</td> <td> 0.000</td> <td>   -4.778</td> <td>   -2.781</td>\n",
       "</tr>\n",
       "<tr>\n",
       "  <th>oppRpG_rep</th>         <td>    1.8472</td> <td>    0.480</td> <td>    3.849</td> <td> 0.000</td> <td>    0.907</td> <td>    2.788</td>\n",
       "</tr>\n",
       "<tr>\n",
       "  <th>pyth_exponent</th>      <td>   -0.9952</td> <td>    0.173</td> <td>   -5.741</td> <td> 0.000</td> <td>   -1.335</td> <td>   -0.655</td>\n",
       "</tr>\n",
       "<tr>\n",
       "  <th>pyth_exponent_rep</th>  <td>    1.1264</td> <td>    0.178</td> <td>    6.317</td> <td> 0.000</td> <td>    0.777</td> <td>    1.476</td>\n",
       "</tr>\n",
       "<tr>\n",
       "  <th>waa_win_perc_rep</th>   <td>   -0.5304</td> <td>    0.048</td> <td>  -11.017</td> <td> 0.000</td> <td>   -0.625</td> <td>   -0.436</td>\n",
       "</tr>\n",
       "<tr>\n",
       "  <th>runs_above_avg_def</th> <td>   -0.2976</td> <td>    0.033</td> <td>   -9.128</td> <td> 0.000</td> <td>   -0.361</td> <td>   -0.234</td>\n",
       "</tr>\n",
       "<tr>\n",
       "  <th>WAA_def</th>            <td>    0.1293</td> <td>    0.016</td> <td>    8.013</td> <td> 0.000</td> <td>    0.098</td> <td>    0.161</td>\n",
       "</tr>\n",
       "<tr>\n",
       "  <th>WAR_def</th>            <td>    0.1293</td> <td>    0.016</td> <td>    8.013</td> <td> 0.000</td> <td>    0.098</td> <td>    0.161</td>\n",
       "</tr>\n",
       "</table>\n",
       "<table class=\"simpletable\">\n",
       "<tr>\n",
       "  <th>Omnibus:</th>       <td>6214.410</td> <th>  Durbin-Watson:     </th> <td>   1.722</td> \n",
       "</tr>\n",
       "<tr>\n",
       "  <th>Prob(Omnibus):</th>  <td> 0.000</td>  <th>  Jarque-Bera (JB):  </th> <td>30982.581</td>\n",
       "</tr>\n",
       "<tr>\n",
       "  <th>Skew:</th>           <td>-0.764</td>  <th>  Prob(JB):          </th> <td>    0.00</td> \n",
       "</tr>\n",
       "<tr>\n",
       "  <th>Kurtosis:</th>       <td> 7.314</td>  <th>  Cond. No.          </th> <td>1.68e+17</td> \n",
       "</tr>\n",
       "</table><br/><br/>Warnings:<br/>[1] Standard Errors assume that the covariance matrix of the errors is correctly specified.<br/>[2] The smallest eigenvalue is 6.14e-30. This might indicate that there are<br/>strong multicollinearity problems or that the design matrix is singular."
      ],
      "text/plain": [
       "<class 'statsmodels.iolib.summary.Summary'>\n",
       "\"\"\"\n",
       "                                 OLS Regression Results                                \n",
       "=======================================================================================\n",
       "Dep. Variable:                    WAR   R-squared (uncentered):                   0.680\n",
       "Model:                            OLS   Adj. R-squared (uncentered):              0.680\n",
       "Method:                 Least Squares   F-statistic:                              8393.\n",
       "Date:                Mon, 22 Jun 2020   Prob (F-statistic):                        0.00\n",
       "Time:                        02:03:51   Log-Likelihood:                         -29183.\n",
       "No. Observations:               35504   AIC:                                  5.838e+04\n",
       "Df Residuals:                   35495   BIC:                                  5.846e+04\n",
       "Df Model:                           9                                                  \n",
       "Covariance Type:            nonrobust                                                  \n",
       "======================================================================================\n",
       "                         coef    std err          t      P>|t|      [0.025      0.975]\n",
       "--------------------------------------------------------------------------------------\n",
       "runs_defense           0.4321      0.006     75.320      0.000       0.421       0.443\n",
       "teamRpG                1.9680      0.091     21.605      0.000       1.789       2.147\n",
       "oppRpG                -3.7795      0.510     -7.417      0.000      -4.778      -2.781\n",
       "oppRpG_rep             1.8472      0.480      3.849      0.000       0.907       2.788\n",
       "pyth_exponent         -0.9952      0.173     -5.741      0.000      -1.335      -0.655\n",
       "pyth_exponent_rep      1.1264      0.178      6.317      0.000       0.777       1.476\n",
       "waa_win_perc_rep      -0.5304      0.048    -11.017      0.000      -0.625      -0.436\n",
       "runs_above_avg_def    -0.2976      0.033     -9.128      0.000      -0.361      -0.234\n",
       "WAA_def                0.1293      0.016      8.013      0.000       0.098       0.161\n",
       "WAR_def                0.1293      0.016      8.013      0.000       0.098       0.161\n",
       "==============================================================================\n",
       "Omnibus:                     6214.410   Durbin-Watson:                   1.722\n",
       "Prob(Omnibus):                  0.000   Jarque-Bera (JB):            30982.581\n",
       "Skew:                          -0.764   Prob(JB):                         0.00\n",
       "Kurtosis:                       7.314   Cond. No.                     1.68e+17\n",
       "==============================================================================\n",
       "\n",
       "Warnings:\n",
       "[1] Standard Errors assume that the covariance matrix of the errors is correctly specified.\n",
       "[2] The smallest eigenvalue is 6.14e-30. This might indicate that there are\n",
       "strong multicollinearity problems or that the design matrix is singular.\n",
       "\"\"\""
      ]
     },
     "execution_count": 6,
     "metadata": {},
     "output_type": "execute_result"
    }
   ],
   "source": [
    "model = sm.OLS(y, X).fit()\n",
    "predictions = model.predict(X)\n",
    "model.summary()"
   ]
  },
  {
   "cell_type": "markdown",
   "metadata": {},
   "source": [
    "## Equation\n",
    "WAR = 0.4321(runs_defense) + 1.9680(teamRpG) - 3.7795(oppRpG) + 1.8472(oppRpG_rep) - 0.9952(pyth_exponent) + 1.1264(pyth_exponent_rep) - 0.5304(waa_win_perc_rep) - 0.2976(runs_above_avg_def) + 0.1293(WAA_def) + 0.1293(WAR_def)"
   ]
  },
  {
   "cell_type": "code",
   "execution_count": null,
   "metadata": {},
   "outputs": [],
   "source": []
  }
 ],
 "metadata": {
  "kernelspec": {
   "display_name": "Python 3",
   "language": "python",
   "name": "python3"
  },
  "language_info": {
   "codemirror_mode": {
    "name": "ipython",
    "version": 3
   },
   "file_extension": ".py",
   "mimetype": "text/x-python",
   "name": "python",
   "nbconvert_exporter": "python",
   "pygments_lexer": "ipython3",
   "version": "3.6.7"
  }
 },
 "nbformat": 4,
 "nbformat_minor": 4
}
