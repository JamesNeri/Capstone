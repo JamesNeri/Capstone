{
 "cells": [
  {
   "cell_type": "markdown",
   "metadata": {},
   "source": [
    "# NHL Skaters Multiple Linear Regression - Statsmodels"
   ]
  },
  {
   "cell_type": "code",
   "execution_count": 7,
   "metadata": {},
   "outputs": [],
   "source": [
    "# import required modules\n",
    "import pandas as pd\n",
    "from sklearn import linear_model\n",
    "from sklearn.model_selection import train_test_split\n",
    "from sklearn.linear_model import LogisticRegression\n",
    "from sklearn import metrics\n",
    "from sklearn.metrics import classification_report, confusion_matrix\n",
    "import pandas as pd\n",
    "from sklearn.metrics import roc_auc_score\n",
    "from sklearn.metrics import precision_recall_fscore_support\n",
    "import numpy as np\n",
    "import statsmodels.api as sm"
   ]
  },
  {
   "cell_type": "code",
   "execution_count": 8,
   "metadata": {},
   "outputs": [
    {
     "data": {
      "text/plain": [
       "(43694, 27)"
      ]
     },
     "execution_count": 8,
     "metadata": {},
     "output_type": "execute_result"
    }
   ],
   "source": [
    "# load dataset\n",
    "data = pd.read_csv('../../Capstone/Data/NHL_Spipeline1.csv', header=0)\n",
    "data.shape"
   ]
  },
  {
   "cell_type": "code",
   "execution_count": 9,
   "metadata": {},
   "outputs": [
    {
     "data": {
      "text/plain": [
       "Player       0.0\n",
       "Tm           0.0\n",
       "Pos          0.0\n",
       "Season       0.0\n",
       "GP           0.0\n",
       "Age          0.0\n",
       "G            0.0\n",
       "A            0.0\n",
       "PTS          0.0\n",
       "PlusMinus    0.0\n",
       "PIM          0.0\n",
       "PS           0.0\n",
       "EV           0.0\n",
       "PP           0.0\n",
       "SH           0.0\n",
       "GW           0.0\n",
       "S            0.0\n",
       "BLK          0.0\n",
       "HIT          0.0\n",
       "FOW          0.0\n",
       "FOL          0.0\n",
       "EVa          0.0\n",
       "PPa          0.0\n",
       "SHa          0.0\n",
       "S%           0.0\n",
       "FO%          0.0\n",
       "TOI          0.0\n",
       "dtype: float64"
      ]
     },
     "execution_count": 9,
     "metadata": {},
     "output_type": "execute_result"
    }
   ],
   "source": [
    "data.isna().mean().round(4)*100"
   ]
  },
  {
   "cell_type": "code",
   "execution_count": 10,
   "metadata": {},
   "outputs": [
    {
     "data": {
      "text/plain": [
       "Index(['Player', 'Tm', 'Pos', 'Season', 'GP', 'Age', 'G', 'A', 'PTS',\n",
       "       'PlusMinus', 'PIM', 'PS', 'EV', 'PP', 'SH', 'GW', 'S', 'BLK', 'HIT',\n",
       "       'FOW', 'FOL', 'EVa', 'PPa', 'SHa', 'S%', 'FO%', 'TOI'],\n",
       "      dtype='object')"
      ]
     },
     "execution_count": 10,
     "metadata": {},
     "output_type": "execute_result"
    }
   ],
   "source": [
    "data.columns"
   ]
  },
  {
   "cell_type": "code",
   "execution_count": 11,
   "metadata": {},
   "outputs": [],
   "source": [
    "features=['G','PTS','PlusMinus','PP','HIT','FOW','EVa','PPa','S%','FO%']\n",
    "X=data[features]\n",
    "y=data.PS"
   ]
  },
  {
   "cell_type": "code",
   "execution_count": 12,
   "metadata": {},
   "outputs": [],
   "source": [
    "# split X and y into training and testing sets\n",
    "X_train,X_test,y_train,y_test=train_test_split(X,y,test_size=0.25,random_state=2019)"
   ]
  },
  {
   "cell_type": "code",
   "execution_count": 13,
   "metadata": {},
   "outputs": [
    {
     "data": {
      "text/html": [
       "<table class=\"simpletable\">\n",
       "<caption>OLS Regression Results</caption>\n",
       "<tr>\n",
       "  <th>Dep. Variable:</th>           <td>PS</td>        <th>  R-squared (uncentered):</th>      <td>   0.790</td> \n",
       "</tr>\n",
       "<tr>\n",
       "  <th>Model:</th>                   <td>OLS</td>       <th>  Adj. R-squared (uncentered):</th> <td>   0.790</td> \n",
       "</tr>\n",
       "<tr>\n",
       "  <th>Method:</th>             <td>Least Squares</td>  <th>  F-statistic:       </th>          <td>1.645e+04</td>\n",
       "</tr>\n",
       "<tr>\n",
       "  <th>Date:</th>             <td>Sat, 20 Jun 2020</td> <th>  Prob (F-statistic):</th>           <td>  0.00</td>  \n",
       "</tr>\n",
       "<tr>\n",
       "  <th>Time:</th>                 <td>20:58:33</td>     <th>  Log-Likelihood:    </th>          <td> -27563.</td> \n",
       "</tr>\n",
       "<tr>\n",
       "  <th>No. Observations:</th>      <td> 43694</td>      <th>  AIC:               </th>          <td>5.515e+04</td>\n",
       "</tr>\n",
       "<tr>\n",
       "  <th>Df Residuals:</th>          <td> 43684</td>      <th>  BIC:               </th>          <td>5.523e+04</td>\n",
       "</tr>\n",
       "<tr>\n",
       "  <th>Df Model:</th>              <td>    10</td>      <th>                     </th>              <td> </td>    \n",
       "</tr>\n",
       "<tr>\n",
       "  <th>Covariance Type:</th>      <td>nonrobust</td>    <th>                     </th>              <td> </td>    \n",
       "</tr>\n",
       "</table>\n",
       "<table class=\"simpletable\">\n",
       "<tr>\n",
       "      <td></td>         <th>coef</th>     <th>std err</th>      <th>t</th>      <th>P>|t|</th>  <th>[0.025</th>    <th>0.975]</th>  \n",
       "</tr>\n",
       "<tr>\n",
       "  <th>G</th>         <td>   -0.2025</td> <td>    0.010</td> <td>  -21.143</td> <td> 0.000</td> <td>   -0.221</td> <td>   -0.184</td>\n",
       "</tr>\n",
       "<tr>\n",
       "  <th>PTS</th>       <td>    0.9814</td> <td>    0.016</td> <td>   60.446</td> <td> 0.000</td> <td>    0.950</td> <td>    1.013</td>\n",
       "</tr>\n",
       "<tr>\n",
       "  <th>PlusMinus</th> <td>    0.2635</td> <td>    0.002</td> <td>  110.366</td> <td> 0.000</td> <td>    0.259</td> <td>    0.268</td>\n",
       "</tr>\n",
       "<tr>\n",
       "  <th>PP</th>        <td>    0.1132</td> <td>    0.004</td> <td>   27.247</td> <td> 0.000</td> <td>    0.105</td> <td>    0.121</td>\n",
       "</tr>\n",
       "<tr>\n",
       "  <th>HIT</th>       <td>    0.1281</td> <td>    0.003</td> <td>   41.646</td> <td> 0.000</td> <td>    0.122</td> <td>    0.134</td>\n",
       "</tr>\n",
       "<tr>\n",
       "  <th>FOW</th>       <td>   -0.4733</td> <td>    0.049</td> <td>   -9.703</td> <td> 0.000</td> <td>   -0.569</td> <td>   -0.378</td>\n",
       "</tr>\n",
       "<tr>\n",
       "  <th>EVa</th>       <td>   -0.1139</td> <td>    0.010</td> <td>  -11.859</td> <td> 0.000</td> <td>   -0.133</td> <td>   -0.095</td>\n",
       "</tr>\n",
       "<tr>\n",
       "  <th>PPa</th>       <td>    0.1245</td> <td>    0.005</td> <td>   27.400</td> <td> 0.000</td> <td>    0.116</td> <td>    0.133</td>\n",
       "</tr>\n",
       "<tr>\n",
       "  <th>S%</th>        <td>   -0.1049</td> <td>    0.004</td> <td>  -26.298</td> <td> 0.000</td> <td>   -0.113</td> <td>   -0.097</td>\n",
       "</tr>\n",
       "<tr>\n",
       "  <th>FO%</th>       <td>    0.3685</td> <td>    0.049</td> <td>    7.562</td> <td> 0.000</td> <td>    0.273</td> <td>    0.464</td>\n",
       "</tr>\n",
       "</table>\n",
       "<table class=\"simpletable\">\n",
       "<tr>\n",
       "  <th>Omnibus:</th>       <td>7251.973</td> <th>  Durbin-Watson:     </th> <td>   1.758</td> \n",
       "</tr>\n",
       "<tr>\n",
       "  <th>Prob(Omnibus):</th>  <td> 0.000</td>  <th>  Jarque-Bera (JB):  </th> <td>22603.352</td>\n",
       "</tr>\n",
       "<tr>\n",
       "  <th>Skew:</th>           <td>-0.860</td>  <th>  Prob(JB):          </th> <td>    0.00</td> \n",
       "</tr>\n",
       "<tr>\n",
       "  <th>Kurtosis:</th>       <td> 6.075</td>  <th>  Cond. No.          </th> <td>    68.4</td> \n",
       "</tr>\n",
       "</table><br/><br/>Warnings:<br/>[1] Standard Errors assume that the covariance matrix of the errors is correctly specified."
      ],
      "text/plain": [
       "<class 'statsmodels.iolib.summary.Summary'>\n",
       "\"\"\"\n",
       "                                 OLS Regression Results                                \n",
       "=======================================================================================\n",
       "Dep. Variable:                     PS   R-squared (uncentered):                   0.790\n",
       "Model:                            OLS   Adj. R-squared (uncentered):              0.790\n",
       "Method:                 Least Squares   F-statistic:                          1.645e+04\n",
       "Date:                Sat, 20 Jun 2020   Prob (F-statistic):                        0.00\n",
       "Time:                        20:58:33   Log-Likelihood:                         -27563.\n",
       "No. Observations:               43694   AIC:                                  5.515e+04\n",
       "Df Residuals:                   43684   BIC:                                  5.523e+04\n",
       "Df Model:                          10                                                  \n",
       "Covariance Type:            nonrobust                                                  \n",
       "==============================================================================\n",
       "                 coef    std err          t      P>|t|      [0.025      0.975]\n",
       "------------------------------------------------------------------------------\n",
       "G             -0.2025      0.010    -21.143      0.000      -0.221      -0.184\n",
       "PTS            0.9814      0.016     60.446      0.000       0.950       1.013\n",
       "PlusMinus      0.2635      0.002    110.366      0.000       0.259       0.268\n",
       "PP             0.1132      0.004     27.247      0.000       0.105       0.121\n",
       "HIT            0.1281      0.003     41.646      0.000       0.122       0.134\n",
       "FOW           -0.4733      0.049     -9.703      0.000      -0.569      -0.378\n",
       "EVa           -0.1139      0.010    -11.859      0.000      -0.133      -0.095\n",
       "PPa            0.1245      0.005     27.400      0.000       0.116       0.133\n",
       "S%            -0.1049      0.004    -26.298      0.000      -0.113      -0.097\n",
       "FO%            0.3685      0.049      7.562      0.000       0.273       0.464\n",
       "==============================================================================\n",
       "Omnibus:                     7251.973   Durbin-Watson:                   1.758\n",
       "Prob(Omnibus):                  0.000   Jarque-Bera (JB):            22603.352\n",
       "Skew:                          -0.860   Prob(JB):                         0.00\n",
       "Kurtosis:                       6.075   Cond. No.                         68.4\n",
       "==============================================================================\n",
       "\n",
       "Warnings:\n",
       "[1] Standard Errors assume that the covariance matrix of the errors is correctly specified.\n",
       "\"\"\""
      ]
     },
     "execution_count": 13,
     "metadata": {},
     "output_type": "execute_result"
    }
   ],
   "source": [
    "model = sm.OLS(y, X).fit()\n",
    "predictions = model.predict(X)\n",
    "model.summary()"
   ]
  },
  {
   "cell_type": "code",
   "execution_count": null,
   "metadata": {},
   "outputs": [],
   "source": []
  }
 ],
 "metadata": {
  "kernelspec": {
   "display_name": "Python 3",
   "language": "python",
   "name": "python3"
  },
  "language_info": {
   "codemirror_mode": {
    "name": "ipython",
    "version": 3
   },
   "file_extension": ".py",
   "mimetype": "text/x-python",
   "name": "python",
   "nbconvert_exporter": "python",
   "pygments_lexer": "ipython3",
   "version": "3.6.7"
  }
 },
 "nbformat": 4,
 "nbformat_minor": 4
}
