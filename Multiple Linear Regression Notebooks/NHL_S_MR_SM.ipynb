{
 "cells": [
  {
   "cell_type": "markdown",
   "metadata": {},
   "source": [
    "# NHL Skaters Multiple Linear Regression - Statsmodels"
   ]
  },
  {
   "cell_type": "code",
   "execution_count": 1,
   "metadata": {},
   "outputs": [],
   "source": [
    "# import required modules\n",
    "import pandas as pd\n",
    "from sklearn import linear_model\n",
    "from sklearn.model_selection import train_test_split\n",
    "from sklearn.linear_model import LogisticRegression\n",
    "from sklearn import metrics\n",
    "from sklearn.metrics import classification_report, confusion_matrix\n",
    "import pandas as pd\n",
    "from sklearn.metrics import roc_auc_score\n",
    "from sklearn.metrics import precision_recall_fscore_support\n",
    "import numpy as np\n",
    "import statsmodels.api as sm"
   ]
  },
  {
   "cell_type": "code",
   "execution_count": 2,
   "metadata": {},
   "outputs": [
    {
     "data": {
      "text/plain": [
       "(43694, 27)"
      ]
     },
     "execution_count": 2,
     "metadata": {},
     "output_type": "execute_result"
    }
   ],
   "source": [
    "# load dataset\n",
    "data = pd.read_csv('../../Capstone/Data/NHL_Spipeline1.csv', header=0)\n",
    "data.shape"
   ]
  },
  {
   "cell_type": "code",
   "execution_count": 3,
   "metadata": {},
   "outputs": [
    {
     "data": {
      "text/plain": [
       "Player       0.0\n",
       "Tm           0.0\n",
       "Pos          0.0\n",
       "Season       0.0\n",
       "GP           0.0\n",
       "Age          0.0\n",
       "G            0.0\n",
       "A            0.0\n",
       "PTS          0.0\n",
       "PlusMinus    0.0\n",
       "PIM          0.0\n",
       "PS           0.0\n",
       "EV           0.0\n",
       "PP           0.0\n",
       "SH           0.0\n",
       "GW           0.0\n",
       "S            0.0\n",
       "BLK          0.0\n",
       "HIT          0.0\n",
       "FOW          0.0\n",
       "FOL          0.0\n",
       "EVa          0.0\n",
       "PPa          0.0\n",
       "SHa          0.0\n",
       "S%           0.0\n",
       "FO%          0.0\n",
       "TOI          0.0\n",
       "dtype: float64"
      ]
     },
     "execution_count": 3,
     "metadata": {},
     "output_type": "execute_result"
    }
   ],
   "source": [
    "data.isna().mean().round(4)*100"
   ]
  },
  {
   "cell_type": "code",
   "execution_count": 4,
   "metadata": {},
   "outputs": [
    {
     "data": {
      "text/plain": [
       "Index(['Player', 'Tm', 'Pos', 'Season', 'GP', 'Age', 'G', 'A', 'PTS',\n",
       "       'PlusMinus', 'PIM', 'PS', 'EV', 'PP', 'SH', 'GW', 'S', 'BLK', 'HIT',\n",
       "       'FOW', 'FOL', 'EVa', 'PPa', 'SHa', 'S%', 'FO%', 'TOI'],\n",
       "      dtype='object')"
      ]
     },
     "execution_count": 4,
     "metadata": {},
     "output_type": "execute_result"
    }
   ],
   "source": [
    "data.columns"
   ]
  },
  {
   "cell_type": "code",
   "execution_count": 5,
   "metadata": {},
   "outputs": [],
   "source": [
    "features=['PlusMinus', 'PIM', 'SH', 'BLK', 'FOW', 'FOL', 'SHa', 'S%', 'FO%', 'TOI']\n",
    "X=data[features]\n",
    "y=data.PS"
   ]
  },
  {
   "cell_type": "code",
   "execution_count": 6,
   "metadata": {},
   "outputs": [],
   "source": [
    "# split X and y into training and testing sets\n",
    "X_train,X_test,y_train,y_test=train_test_split(X,y,test_size=0.25,random_state=2019)"
   ]
  },
  {
   "cell_type": "code",
   "execution_count": 7,
   "metadata": {},
   "outputs": [
    {
     "data": {
      "text/html": [
       "<table class=\"simpletable\">\n",
       "<caption>OLS Regression Results</caption>\n",
       "<tr>\n",
       "  <th>Dep. Variable:</th>           <td>PS</td>        <th>  R-squared (uncentered):</th>      <td>   0.447</td> \n",
       "</tr>\n",
       "<tr>\n",
       "  <th>Model:</th>                   <td>OLS</td>       <th>  Adj. R-squared (uncentered):</th> <td>   0.447</td> \n",
       "</tr>\n",
       "<tr>\n",
       "  <th>Method:</th>             <td>Least Squares</td>  <th>  F-statistic:       </th>          <td>   3528.</td> \n",
       "</tr>\n",
       "<tr>\n",
       "  <th>Date:</th>             <td>Mon, 22 Jun 2020</td> <th>  Prob (F-statistic):</th>           <td>  0.00</td>  \n",
       "</tr>\n",
       "<tr>\n",
       "  <th>Time:</th>                 <td>01:27:36</td>     <th>  Log-Likelihood:    </th>          <td> -48743.</td> \n",
       "</tr>\n",
       "<tr>\n",
       "  <th>No. Observations:</th>      <td> 43694</td>      <th>  AIC:               </th>          <td>9.751e+04</td>\n",
       "</tr>\n",
       "<tr>\n",
       "  <th>Df Residuals:</th>          <td> 43684</td>      <th>  BIC:               </th>          <td>9.759e+04</td>\n",
       "</tr>\n",
       "<tr>\n",
       "  <th>Df Model:</th>              <td>    10</td>      <th>                     </th>              <td> </td>    \n",
       "</tr>\n",
       "<tr>\n",
       "  <th>Covariance Type:</th>      <td>nonrobust</td>    <th>                     </th>              <td> </td>    \n",
       "</tr>\n",
       "</table>\n",
       "<table class=\"simpletable\">\n",
       "<tr>\n",
       "      <td></td>         <th>coef</th>     <th>std err</th>      <th>t</th>      <th>P>|t|</th>  <th>[0.025</th>    <th>0.975]</th>  \n",
       "</tr>\n",
       "<tr>\n",
       "  <th>PlusMinus</th> <td>    0.3061</td> <td>    0.004</td> <td>   80.553</td> <td> 0.000</td> <td>    0.299</td> <td>    0.314</td>\n",
       "</tr>\n",
       "<tr>\n",
       "  <th>PIM</th>       <td>    0.3255</td> <td>    0.004</td> <td>   85.059</td> <td> 0.000</td> <td>    0.318</td> <td>    0.333</td>\n",
       "</tr>\n",
       "<tr>\n",
       "  <th>SH</th>        <td>    0.0783</td> <td>    0.004</td> <td>   20.236</td> <td> 0.000</td> <td>    0.071</td> <td>    0.086</td>\n",
       "</tr>\n",
       "<tr>\n",
       "  <th>BLK</th>       <td>    0.0985</td> <td>    0.006</td> <td>   16.704</td> <td> 0.000</td> <td>    0.087</td> <td>    0.110</td>\n",
       "</tr>\n",
       "<tr>\n",
       "  <th>FOW</th>       <td>    0.4222</td> <td>    0.084</td> <td>    5.020</td> <td> 0.000</td> <td>    0.257</td> <td>    0.587</td>\n",
       "</tr>\n",
       "<tr>\n",
       "  <th>FOL</th>       <td>   -0.0874</td> <td>    0.009</td> <td>   -9.227</td> <td> 0.000</td> <td>   -0.106</td> <td>   -0.069</td>\n",
       "</tr>\n",
       "<tr>\n",
       "  <th>SHa</th>       <td>    0.1379</td> <td>    0.004</td> <td>   35.939</td> <td> 0.000</td> <td>    0.130</td> <td>    0.145</td>\n",
       "</tr>\n",
       "<tr>\n",
       "  <th>S%</th>        <td>    0.2702</td> <td>    0.004</td> <td>   69.053</td> <td> 0.000</td> <td>    0.263</td> <td>    0.278</td>\n",
       "</tr>\n",
       "<tr>\n",
       "  <th>FO%</th>       <td>   -0.4402</td> <td>    0.082</td> <td>   -5.385</td> <td> 0.000</td> <td>   -0.600</td> <td>   -0.280</td>\n",
       "</tr>\n",
       "<tr>\n",
       "  <th>TOI</th>       <td>    0.1128</td> <td>    0.005</td> <td>   24.026</td> <td> 0.000</td> <td>    0.104</td> <td>    0.122</td>\n",
       "</tr>\n",
       "</table>\n",
       "<table class=\"simpletable\">\n",
       "<tr>\n",
       "  <th>Omnibus:</th>       <td>2389.137</td> <th>  Durbin-Watson:     </th> <td>   1.718</td>\n",
       "</tr>\n",
       "<tr>\n",
       "  <th>Prob(Omnibus):</th>  <td> 0.000</td>  <th>  Jarque-Bera (JB):  </th> <td>3825.812</td>\n",
       "</tr>\n",
       "<tr>\n",
       "  <th>Skew:</th>           <td>-0.460</td>  <th>  Prob(JB):          </th> <td>    0.00</td>\n",
       "</tr>\n",
       "<tr>\n",
       "  <th>Kurtosis:</th>       <td> 4.120</td>  <th>  Cond. No.          </th> <td>    65.1</td>\n",
       "</tr>\n",
       "</table><br/><br/>Warnings:<br/>[1] Standard Errors assume that the covariance matrix of the errors is correctly specified."
      ],
      "text/plain": [
       "<class 'statsmodels.iolib.summary.Summary'>\n",
       "\"\"\"\n",
       "                                 OLS Regression Results                                \n",
       "=======================================================================================\n",
       "Dep. Variable:                     PS   R-squared (uncentered):                   0.447\n",
       "Model:                            OLS   Adj. R-squared (uncentered):              0.447\n",
       "Method:                 Least Squares   F-statistic:                              3528.\n",
       "Date:                Mon, 22 Jun 2020   Prob (F-statistic):                        0.00\n",
       "Time:                        01:27:36   Log-Likelihood:                         -48743.\n",
       "No. Observations:               43694   AIC:                                  9.751e+04\n",
       "Df Residuals:                   43684   BIC:                                  9.759e+04\n",
       "Df Model:                          10                                                  \n",
       "Covariance Type:            nonrobust                                                  \n",
       "==============================================================================\n",
       "                 coef    std err          t      P>|t|      [0.025      0.975]\n",
       "------------------------------------------------------------------------------\n",
       "PlusMinus      0.3061      0.004     80.553      0.000       0.299       0.314\n",
       "PIM            0.3255      0.004     85.059      0.000       0.318       0.333\n",
       "SH             0.0783      0.004     20.236      0.000       0.071       0.086\n",
       "BLK            0.0985      0.006     16.704      0.000       0.087       0.110\n",
       "FOW            0.4222      0.084      5.020      0.000       0.257       0.587\n",
       "FOL           -0.0874      0.009     -9.227      0.000      -0.106      -0.069\n",
       "SHa            0.1379      0.004     35.939      0.000       0.130       0.145\n",
       "S%             0.2702      0.004     69.053      0.000       0.263       0.278\n",
       "FO%           -0.4402      0.082     -5.385      0.000      -0.600      -0.280\n",
       "TOI            0.1128      0.005     24.026      0.000       0.104       0.122\n",
       "==============================================================================\n",
       "Omnibus:                     2389.137   Durbin-Watson:                   1.718\n",
       "Prob(Omnibus):                  0.000   Jarque-Bera (JB):             3825.812\n",
       "Skew:                          -0.460   Prob(JB):                         0.00\n",
       "Kurtosis:                       4.120   Cond. No.                         65.1\n",
       "==============================================================================\n",
       "\n",
       "Warnings:\n",
       "[1] Standard Errors assume that the covariance matrix of the errors is correctly specified.\n",
       "\"\"\""
      ]
     },
     "execution_count": 7,
     "metadata": {},
     "output_type": "execute_result"
    }
   ],
   "source": [
    "model = sm.OLS(y, X).fit()\n",
    "predictions = model.predict(X)\n",
    "model.summary()"
   ]
  },
  {
   "cell_type": "markdown",
   "metadata": {},
   "source": [
    "## Equation \n",
    "   \n",
    "   \n",
    "PS = 0.3061(PlusMinus) + 0.3255(PIM) + 0.0783(SH) + 0.0985(BLK) + 0.4222(FOW) - 0.0874(FOL) + 0.1379(SHa) + 0.2702(S%) - 0.4402(FO%) + 0.1128(TOI)"
   ]
  },
  {
   "cell_type": "code",
   "execution_count": null,
   "metadata": {},
   "outputs": [],
   "source": []
  }
 ],
 "metadata": {
  "kernelspec": {
   "display_name": "Python 3",
   "language": "python",
   "name": "python3"
  },
  "language_info": {
   "codemirror_mode": {
    "name": "ipython",
    "version": 3
   },
   "file_extension": ".py",
   "mimetype": "text/x-python",
   "name": "python",
   "nbconvert_exporter": "python",
   "pygments_lexer": "ipython3",
   "version": "3.6.7"
  }
 },
 "nbformat": 4,
 "nbformat_minor": 4
}
