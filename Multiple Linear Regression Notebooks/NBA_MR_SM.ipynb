{
 "cells": [
  {
   "cell_type": "markdown",
   "metadata": {},
   "source": [
    "# NBA Multiple Linear Regression - Statsmodels"
   ]
  },
  {
   "cell_type": "code",
   "execution_count": 1,
   "metadata": {},
   "outputs": [],
   "source": [
    "# import required modules\n",
    "import pandas as pd\n",
    "from sklearn import linear_model\n",
    "from sklearn.model_selection import train_test_split\n",
    "from sklearn.linear_model import LogisticRegression\n",
    "from sklearn import metrics\n",
    "from sklearn.metrics import classification_report, confusion_matrix\n",
    "import pandas as pd\n",
    "from sklearn.metrics import roc_auc_score\n",
    "from sklearn.metrics import precision_recall_fscore_support\n",
    "import numpy as np\n",
    "import statsmodels.api as sm"
   ]
  },
  {
   "cell_type": "code",
   "execution_count": 2,
   "metadata": {},
   "outputs": [
    {
     "data": {
      "text/plain": [
       "(24851, 27)"
      ]
     },
     "execution_count": 2,
     "metadata": {},
     "output_type": "execute_result"
    }
   ],
   "source": [
    "# load dataset\n",
    "data = pd.read_csv('../../Capstone/Data/NBApipeline1.csv', header=0)\n",
    "data.shape"
   ]
  },
  {
   "cell_type": "code",
   "execution_count": 3,
   "metadata": {},
   "outputs": [
    {
     "data": {
      "text/plain": [
       "Player    0.0\n",
       "Pos       0.0\n",
       "Tm        0.0\n",
       "Season    0.0\n",
       "G         0.0\n",
       "MP        0.0\n",
       "PER       0.0\n",
       "USG%      0.0\n",
       "Age       0.0\n",
       "3PAr      0.0\n",
       "FTr       0.0\n",
       "OWS       0.0\n",
       "DWS       0.0\n",
       "WS        0.0\n",
       "WS/48     0.0\n",
       "OBPM      0.0\n",
       "DBPM      0.0\n",
       "BPM       0.0\n",
       "VORP      0.0\n",
       "TS%       0.0\n",
       "ORB%      0.0\n",
       "DRB%      0.0\n",
       "TRB%      0.0\n",
       "AST%      0.0\n",
       "STL%      0.0\n",
       "BLK%      0.0\n",
       "TOV%      0.0\n",
       "dtype: float64"
      ]
     },
     "execution_count": 3,
     "metadata": {},
     "output_type": "execute_result"
    }
   ],
   "source": [
    "data.isna().mean().round(4)*100"
   ]
  },
  {
   "cell_type": "code",
   "execution_count": 4,
   "metadata": {},
   "outputs": [
    {
     "data": {
      "text/plain": [
       "Index(['Player', 'Pos', 'Tm', 'Season', 'G', 'MP', 'PER', 'USG%', 'Age',\n",
       "       '3PAr', 'FTr', 'OWS', 'DWS', 'WS', 'WS/48', 'OBPM', 'DBPM', 'BPM',\n",
       "       'VORP', 'TS%', 'ORB%', 'DRB%', 'TRB%', 'AST%', 'STL%', 'BLK%', 'TOV%'],\n",
       "      dtype='object')"
      ]
     },
     "execution_count": 4,
     "metadata": {},
     "output_type": "execute_result"
    }
   ],
   "source": [
    "data.columns"
   ]
  },
  {
   "cell_type": "code",
   "execution_count": 5,
   "metadata": {},
   "outputs": [],
   "source": [
    "features=['G', 'MP', 'PER', 'OWS', 'DWS', 'WS/48', 'BPM', 'VORP', 'TS%', 'STL%']\n",
    "X=data[features]\n",
    "y=data.WS"
   ]
  },
  {
   "cell_type": "code",
   "execution_count": 6,
   "metadata": {},
   "outputs": [],
   "source": [
    "# split X and y into training and testing sets\n",
    "X_train,X_test,y_train,y_test=train_test_split(X,y,test_size=0.25,random_state=2019)"
   ]
  },
  {
   "cell_type": "code",
   "execution_count": 7,
   "metadata": {},
   "outputs": [
    {
     "data": {
      "text/html": [
       "<table class=\"simpletable\">\n",
       "<caption>OLS Regression Results</caption>\n",
       "<tr>\n",
       "  <th>Dep. Variable:</th>           <td>WS</td>        <th>  R-squared (uncentered):</th>       <td>   0.980</td> \n",
       "</tr>\n",
       "<tr>\n",
       "  <th>Model:</th>                   <td>OLS</td>       <th>  Adj. R-squared (uncentered):</th>  <td>   0.980</td> \n",
       "</tr>\n",
       "<tr>\n",
       "  <th>Method:</th>             <td>Least Squares</td>  <th>  F-statistic:       </th>           <td>1.204e+05</td>\n",
       "</tr>\n",
       "<tr>\n",
       "  <th>Date:</th>             <td>Sun, 21 Jun 2020</td> <th>  Prob (F-statistic):</th>            <td>  0.00</td>  \n",
       "</tr>\n",
       "<tr>\n",
       "  <th>Time:</th>                 <td>00:23:39</td>     <th>  Log-Likelihood:    </th>           <td>  13470.</td> \n",
       "</tr>\n",
       "<tr>\n",
       "  <th>No. Observations:</th>      <td> 24851</td>      <th>  AIC:               </th>          <td>-2.692e+04</td>\n",
       "</tr>\n",
       "<tr>\n",
       "  <th>Df Residuals:</th>          <td> 24841</td>      <th>  BIC:               </th>          <td>-2.684e+04</td>\n",
       "</tr>\n",
       "<tr>\n",
       "  <th>Df Model:</th>              <td>    10</td>      <th>                     </th>               <td> </td>    \n",
       "</tr>\n",
       "<tr>\n",
       "  <th>Covariance Type:</th>      <td>nonrobust</td>    <th>                     </th>               <td> </td>    \n",
       "</tr>\n",
       "</table>\n",
       "<table class=\"simpletable\">\n",
       "<tr>\n",
       "    <td></td>       <th>coef</th>     <th>std err</th>      <th>t</th>      <th>P>|t|</th>  <th>[0.025</th>    <th>0.975]</th>  \n",
       "</tr>\n",
       "<tr>\n",
       "  <th>G</th>     <td>    0.0282</td> <td>    0.002</td> <td>   13.365</td> <td> 0.000</td> <td>    0.024</td> <td>    0.032</td>\n",
       "</tr>\n",
       "<tr>\n",
       "  <th>MP</th>    <td>    0.0881</td> <td>    0.003</td> <td>   34.765</td> <td> 0.000</td> <td>    0.083</td> <td>    0.093</td>\n",
       "</tr>\n",
       "<tr>\n",
       "  <th>PER</th>   <td>   -0.0282</td> <td>    0.002</td> <td>  -12.811</td> <td> 0.000</td> <td>   -0.032</td> <td>   -0.024</td>\n",
       "</tr>\n",
       "<tr>\n",
       "  <th>OWS</th>   <td>    0.5266</td> <td>    0.002</td> <td>  274.773</td> <td> 0.000</td> <td>    0.523</td> <td>    0.530</td>\n",
       "</tr>\n",
       "<tr>\n",
       "  <th>DWS</th>   <td>    0.3754</td> <td>    0.002</td> <td>  180.675</td> <td> 0.000</td> <td>    0.371</td> <td>    0.379</td>\n",
       "</tr>\n",
       "<tr>\n",
       "  <th>WS/48</th> <td>    0.1478</td> <td>    0.002</td> <td>   87.469</td> <td> 0.000</td> <td>    0.145</td> <td>    0.151</td>\n",
       "</tr>\n",
       "<tr>\n",
       "  <th>BPM</th>   <td>   -0.0265</td> <td>    0.002</td> <td>  -15.400</td> <td> 0.000</td> <td>   -0.030</td> <td>   -0.023</td>\n",
       "</tr>\n",
       "<tr>\n",
       "  <th>VORP</th>  <td>    0.0542</td> <td>    0.002</td> <td>   27.278</td> <td> 0.000</td> <td>    0.050</td> <td>    0.058</td>\n",
       "</tr>\n",
       "<tr>\n",
       "  <th>TS%</th>   <td>   -0.0210</td> <td>    0.002</td> <td>   -9.779</td> <td> 0.000</td> <td>   -0.025</td> <td>   -0.017</td>\n",
       "</tr>\n",
       "<tr>\n",
       "  <th>STL%</th>  <td>   -0.0114</td> <td>    0.001</td> <td>  -11.610</td> <td> 0.000</td> <td>   -0.013</td> <td>   -0.010</td>\n",
       "</tr>\n",
       "</table>\n",
       "<table class=\"simpletable\">\n",
       "<tr>\n",
       "  <th>Omnibus:</th>       <td>5605.742</td> <th>  Durbin-Watson:     </th>  <td>   1.938</td> \n",
       "</tr>\n",
       "<tr>\n",
       "  <th>Prob(Omnibus):</th>  <td> 0.000</td>  <th>  Jarque-Bera (JB):  </th> <td>250370.607</td>\n",
       "</tr>\n",
       "<tr>\n",
       "  <th>Skew:</th>           <td> 0.216</td>  <th>  Prob(JB):          </th>  <td>    0.00</td> \n",
       "</tr>\n",
       "<tr>\n",
       "  <th>Kurtosis:</th>       <td>18.544</td>  <th>  Cond. No.          </th>  <td>    8.24</td> \n",
       "</tr>\n",
       "</table><br/><br/>Warnings:<br/>[1] Standard Errors assume that the covariance matrix of the errors is correctly specified."
      ],
      "text/plain": [
       "<class 'statsmodels.iolib.summary.Summary'>\n",
       "\"\"\"\n",
       "                                 OLS Regression Results                                \n",
       "=======================================================================================\n",
       "Dep. Variable:                     WS   R-squared (uncentered):                   0.980\n",
       "Model:                            OLS   Adj. R-squared (uncentered):              0.980\n",
       "Method:                 Least Squares   F-statistic:                          1.204e+05\n",
       "Date:                Sun, 21 Jun 2020   Prob (F-statistic):                        0.00\n",
       "Time:                        00:23:39   Log-Likelihood:                          13470.\n",
       "No. Observations:               24851   AIC:                                 -2.692e+04\n",
       "Df Residuals:                   24841   BIC:                                 -2.684e+04\n",
       "Df Model:                          10                                                  \n",
       "Covariance Type:            nonrobust                                                  \n",
       "==============================================================================\n",
       "                 coef    std err          t      P>|t|      [0.025      0.975]\n",
       "------------------------------------------------------------------------------\n",
       "G              0.0282      0.002     13.365      0.000       0.024       0.032\n",
       "MP             0.0881      0.003     34.765      0.000       0.083       0.093\n",
       "PER           -0.0282      0.002    -12.811      0.000      -0.032      -0.024\n",
       "OWS            0.5266      0.002    274.773      0.000       0.523       0.530\n",
       "DWS            0.3754      0.002    180.675      0.000       0.371       0.379\n",
       "WS/48          0.1478      0.002     87.469      0.000       0.145       0.151\n",
       "BPM           -0.0265      0.002    -15.400      0.000      -0.030      -0.023\n",
       "VORP           0.0542      0.002     27.278      0.000       0.050       0.058\n",
       "TS%           -0.0210      0.002     -9.779      0.000      -0.025      -0.017\n",
       "STL%          -0.0114      0.001    -11.610      0.000      -0.013      -0.010\n",
       "==============================================================================\n",
       "Omnibus:                     5605.742   Durbin-Watson:                   1.938\n",
       "Prob(Omnibus):                  0.000   Jarque-Bera (JB):           250370.607\n",
       "Skew:                           0.216   Prob(JB):                         0.00\n",
       "Kurtosis:                      18.544   Cond. No.                         8.24\n",
       "==============================================================================\n",
       "\n",
       "Warnings:\n",
       "[1] Standard Errors assume that the covariance matrix of the errors is correctly specified.\n",
       "\"\"\""
      ]
     },
     "execution_count": 7,
     "metadata": {},
     "output_type": "execute_result"
    }
   ],
   "source": [
    "model = sm.OLS(y, X).fit()\n",
    "predictions = model.predict(X)\n",
    "model.summary()"
   ]
  },
  {
   "cell_type": "code",
   "execution_count": null,
   "metadata": {},
   "outputs": [],
   "source": []
  }
 ],
 "metadata": {
  "kernelspec": {
   "display_name": "Python 3",
   "language": "python",
   "name": "python3"
  },
  "language_info": {
   "codemirror_mode": {
    "name": "ipython",
    "version": 3
   },
   "file_extension": ".py",
   "mimetype": "text/x-python",
   "name": "python",
   "nbconvert_exporter": "python",
   "pygments_lexer": "ipython3",
   "version": "3.6.7"
  }
 },
 "nbformat": 4,
 "nbformat_minor": 4
}
