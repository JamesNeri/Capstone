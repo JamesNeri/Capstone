{
 "cells": [
  {
   "cell_type": "markdown",
   "metadata": {},
   "source": [
    "# NBA Multiple Linear Regression - Statsmodels"
   ]
  },
  {
   "cell_type": "code",
   "execution_count": 1,
   "metadata": {},
   "outputs": [],
   "source": [
    "# import required modules\n",
    "import pandas as pd\n",
    "from sklearn import linear_model\n",
    "from sklearn.model_selection import train_test_split\n",
    "from sklearn.linear_model import LogisticRegression\n",
    "from sklearn import metrics\n",
    "from sklearn.metrics import classification_report, confusion_matrix\n",
    "import pandas as pd\n",
    "from sklearn.metrics import roc_auc_score\n",
    "from sklearn.metrics import precision_recall_fscore_support\n",
    "import numpy as np\n",
    "import statsmodels.api as sm"
   ]
  },
  {
   "cell_type": "code",
   "execution_count": 2,
   "metadata": {},
   "outputs": [
    {
     "data": {
      "text/plain": [
       "(24851, 27)"
      ]
     },
     "execution_count": 2,
     "metadata": {},
     "output_type": "execute_result"
    }
   ],
   "source": [
    "# load dataset\n",
    "data = pd.read_csv('../../Capstone/Data/NBApipeline1.csv', header=0)\n",
    "data.shape"
   ]
  },
  {
   "cell_type": "code",
   "execution_count": 3,
   "metadata": {},
   "outputs": [
    {
     "data": {
      "text/plain": [
       "Player    0.0\n",
       "Pos       0.0\n",
       "Tm        0.0\n",
       "Season    0.0\n",
       "G         0.0\n",
       "MP        0.0\n",
       "PER       0.0\n",
       "USG%      0.0\n",
       "Age       0.0\n",
       "3PAr      0.0\n",
       "FTr       0.0\n",
       "OWS       0.0\n",
       "DWS       0.0\n",
       "WS        0.0\n",
       "WS/48     0.0\n",
       "OBPM      0.0\n",
       "DBPM      0.0\n",
       "BPM       0.0\n",
       "VORP      0.0\n",
       "TS%       0.0\n",
       "ORB%      0.0\n",
       "DRB%      0.0\n",
       "TRB%      0.0\n",
       "AST%      0.0\n",
       "STL%      0.0\n",
       "BLK%      0.0\n",
       "TOV%      0.0\n",
       "dtype: float64"
      ]
     },
     "execution_count": 3,
     "metadata": {},
     "output_type": "execute_result"
    }
   ],
   "source": [
    "data.isna().mean().round(4)*100"
   ]
  },
  {
   "cell_type": "code",
   "execution_count": 4,
   "metadata": {},
   "outputs": [
    {
     "data": {
      "text/plain": [
       "Index(['Player', 'Pos', 'Tm', 'Season', 'G', 'MP', 'PER', 'USG%', 'Age',\n",
       "       '3PAr', 'FTr', 'OWS', 'DWS', 'WS', 'WS/48', 'OBPM', 'DBPM', 'BPM',\n",
       "       'VORP', 'TS%', 'ORB%', 'DRB%', 'TRB%', 'AST%', 'STL%', 'BLK%', 'TOV%'],\n",
       "      dtype='object')"
      ]
     },
     "execution_count": 4,
     "metadata": {},
     "output_type": "execute_result"
    }
   ],
   "source": [
    "data.columns"
   ]
  },
  {
   "cell_type": "code",
   "execution_count": 5,
   "metadata": {},
   "outputs": [],
   "source": [
    "features=['USG%', 'Age','FTr', 'DBPM', 'ORB%', 'DRB%', 'TRB%', 'AST%', 'BLK%', 'TOV%']\n",
    "X=data[features]\n",
    "y=data.WS"
   ]
  },
  {
   "cell_type": "code",
   "execution_count": 6,
   "metadata": {},
   "outputs": [],
   "source": [
    "# split X and y into training and testing sets\n",
    "X_train,X_test,y_train,y_test=train_test_split(X,y,test_size=0.25,random_state=2019)"
   ]
  },
  {
   "cell_type": "code",
   "execution_count": 7,
   "metadata": {},
   "outputs": [
    {
     "data": {
      "text/html": [
       "<table class=\"simpletable\">\n",
       "<caption>OLS Regression Results</caption>\n",
       "<tr>\n",
       "  <th>Dep. Variable:</th>           <td>WS</td>        <th>  R-squared (uncentered):</th>      <td>   0.273</td> \n",
       "</tr>\n",
       "<tr>\n",
       "  <th>Model:</th>                   <td>OLS</td>       <th>  Adj. R-squared (uncentered):</th> <td>   0.272</td> \n",
       "</tr>\n",
       "<tr>\n",
       "  <th>Method:</th>             <td>Least Squares</td>  <th>  F-statistic:       </th>          <td>   931.3</td> \n",
       "</tr>\n",
       "<tr>\n",
       "  <th>Date:</th>             <td>Mon, 22 Jun 2020</td> <th>  Prob (F-statistic):</th>           <td>  0.00</td>  \n",
       "</tr>\n",
       "<tr>\n",
       "  <th>Time:</th>                 <td>01:48:43</td>     <th>  Log-Likelihood:    </th>          <td> -31051.</td> \n",
       "</tr>\n",
       "<tr>\n",
       "  <th>No. Observations:</th>      <td> 24851</td>      <th>  AIC:               </th>          <td>6.212e+04</td>\n",
       "</tr>\n",
       "<tr>\n",
       "  <th>Df Residuals:</th>          <td> 24841</td>      <th>  BIC:               </th>          <td>6.220e+04</td>\n",
       "</tr>\n",
       "<tr>\n",
       "  <th>Df Model:</th>              <td>    10</td>      <th>                     </th>              <td> </td>    \n",
       "</tr>\n",
       "<tr>\n",
       "  <th>Covariance Type:</th>      <td>nonrobust</td>    <th>                     </th>              <td> </td>    \n",
       "</tr>\n",
       "</table>\n",
       "<table class=\"simpletable\">\n",
       "<tr>\n",
       "    <td></td>      <th>coef</th>     <th>std err</th>      <th>t</th>      <th>P>|t|</th>  <th>[0.025</th>    <th>0.975]</th>  \n",
       "</tr>\n",
       "<tr>\n",
       "  <th>USG%</th> <td>    0.1928</td> <td>    0.007</td> <td>   26.552</td> <td> 0.000</td> <td>    0.179</td> <td>    0.207</td>\n",
       "</tr>\n",
       "<tr>\n",
       "  <th>Age</th>  <td>    0.1227</td> <td>    0.005</td> <td>   22.586</td> <td> 0.000</td> <td>    0.112</td> <td>    0.133</td>\n",
       "</tr>\n",
       "<tr>\n",
       "  <th>FTr</th>  <td>    0.2019</td> <td>    0.006</td> <td>   35.813</td> <td> 0.000</td> <td>    0.191</td> <td>    0.213</td>\n",
       "</tr>\n",
       "<tr>\n",
       "  <th>DBPM</th> <td>    0.2156</td> <td>    0.006</td> <td>   35.075</td> <td> 0.000</td> <td>    0.204</td> <td>    0.228</td>\n",
       "</tr>\n",
       "<tr>\n",
       "  <th>ORB%</th> <td>    0.0913</td> <td>    0.010</td> <td>    9.141</td> <td> 0.000</td> <td>    0.072</td> <td>    0.111</td>\n",
       "</tr>\n",
       "<tr>\n",
       "  <th>DRB%</th> <td>    0.0875</td> <td>    0.012</td> <td>    7.198</td> <td> 0.000</td> <td>    0.064</td> <td>    0.111</td>\n",
       "</tr>\n",
       "<tr>\n",
       "  <th>TRB%</th> <td>   -0.0539</td> <td>    0.013</td> <td>   -4.058</td> <td> 0.000</td> <td>   -0.080</td> <td>   -0.028</td>\n",
       "</tr>\n",
       "<tr>\n",
       "  <th>AST%</th> <td>    0.2710</td> <td>    0.006</td> <td>   43.733</td> <td> 0.000</td> <td>    0.259</td> <td>    0.283</td>\n",
       "</tr>\n",
       "<tr>\n",
       "  <th>BLK%</th> <td>    0.1040</td> <td>    0.008</td> <td>   12.977</td> <td> 0.000</td> <td>    0.088</td> <td>    0.120</td>\n",
       "</tr>\n",
       "<tr>\n",
       "  <th>TOV%</th> <td>   -0.4123</td> <td>    0.007</td> <td>  -58.845</td> <td> 0.000</td> <td>   -0.426</td> <td>   -0.399</td>\n",
       "</tr>\n",
       "</table>\n",
       "<table class=\"simpletable\">\n",
       "<tr>\n",
       "  <th>Omnibus:</th>       <td>257.940</td> <th>  Durbin-Watson:     </th> <td>   1.780</td>\n",
       "</tr>\n",
       "<tr>\n",
       "  <th>Prob(Omnibus):</th> <td> 0.000</td>  <th>  Jarque-Bera (JB):  </th> <td> 240.630</td>\n",
       "</tr>\n",
       "<tr>\n",
       "  <th>Skew:</th>          <td>-0.205</td>  <th>  Prob(JB):          </th> <td>5.59e-53</td>\n",
       "</tr>\n",
       "<tr>\n",
       "  <th>Kurtosis:</th>      <td> 2.747</td>  <th>  Cond. No.          </th> <td>    6.12</td>\n",
       "</tr>\n",
       "</table><br/><br/>Warnings:<br/>[1] Standard Errors assume that the covariance matrix of the errors is correctly specified."
      ],
      "text/plain": [
       "<class 'statsmodels.iolib.summary.Summary'>\n",
       "\"\"\"\n",
       "                                 OLS Regression Results                                \n",
       "=======================================================================================\n",
       "Dep. Variable:                     WS   R-squared (uncentered):                   0.273\n",
       "Model:                            OLS   Adj. R-squared (uncentered):              0.272\n",
       "Method:                 Least Squares   F-statistic:                              931.3\n",
       "Date:                Mon, 22 Jun 2020   Prob (F-statistic):                        0.00\n",
       "Time:                        01:48:43   Log-Likelihood:                         -31051.\n",
       "No. Observations:               24851   AIC:                                  6.212e+04\n",
       "Df Residuals:                   24841   BIC:                                  6.220e+04\n",
       "Df Model:                          10                                                  \n",
       "Covariance Type:            nonrobust                                                  \n",
       "==============================================================================\n",
       "                 coef    std err          t      P>|t|      [0.025      0.975]\n",
       "------------------------------------------------------------------------------\n",
       "USG%           0.1928      0.007     26.552      0.000       0.179       0.207\n",
       "Age            0.1227      0.005     22.586      0.000       0.112       0.133\n",
       "FTr            0.2019      0.006     35.813      0.000       0.191       0.213\n",
       "DBPM           0.2156      0.006     35.075      0.000       0.204       0.228\n",
       "ORB%           0.0913      0.010      9.141      0.000       0.072       0.111\n",
       "DRB%           0.0875      0.012      7.198      0.000       0.064       0.111\n",
       "TRB%          -0.0539      0.013     -4.058      0.000      -0.080      -0.028\n",
       "AST%           0.2710      0.006     43.733      0.000       0.259       0.283\n",
       "BLK%           0.1040      0.008     12.977      0.000       0.088       0.120\n",
       "TOV%          -0.4123      0.007    -58.845      0.000      -0.426      -0.399\n",
       "==============================================================================\n",
       "Omnibus:                      257.940   Durbin-Watson:                   1.780\n",
       "Prob(Omnibus):                  0.000   Jarque-Bera (JB):              240.630\n",
       "Skew:                          -0.205   Prob(JB):                     5.59e-53\n",
       "Kurtosis:                       2.747   Cond. No.                         6.12\n",
       "==============================================================================\n",
       "\n",
       "Warnings:\n",
       "[1] Standard Errors assume that the covariance matrix of the errors is correctly specified.\n",
       "\"\"\""
      ]
     },
     "execution_count": 7,
     "metadata": {},
     "output_type": "execute_result"
    }
   ],
   "source": [
    "model = sm.OLS(y, X).fit()\n",
    "predictions = model.predict(X)\n",
    "model.summary()"
   ]
  },
  {
   "cell_type": "markdown",
   "metadata": {},
   "source": [
    "## Equation:\n",
    "WS = 0.1928(USG%) + 0.1227(Age) + 0.2019(FTr) + 0.2156(DBPM) + 0.0913(ORB%) + 0.0875(DRB%) - 0.0539(TRB%) + 0.2710(AST%) + 0.1040(BLK%) - 0.4123(TOV%)"
   ]
  },
  {
   "cell_type": "code",
   "execution_count": null,
   "metadata": {},
   "outputs": [],
   "source": []
  }
 ],
 "metadata": {
  "kernelspec": {
   "display_name": "Python 3",
   "language": "python",
   "name": "python3"
  },
  "language_info": {
   "codemirror_mode": {
    "name": "ipython",
    "version": 3
   },
   "file_extension": ".py",
   "mimetype": "text/x-python",
   "name": "python",
   "nbconvert_exporter": "python",
   "pygments_lexer": "ipython3",
   "version": "3.6.7"
  }
 },
 "nbformat": 4,
 "nbformat_minor": 4
}
