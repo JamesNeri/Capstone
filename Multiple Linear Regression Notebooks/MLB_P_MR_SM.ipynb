{
 "cells": [
  {
   "cell_type": "markdown",
   "metadata": {},
   "source": [
    "# MLB Pitchers Multiple Linear Regression - Statsmodels"
   ]
  },
  {
   "cell_type": "code",
   "execution_count": 1,
   "metadata": {},
   "outputs": [],
   "source": [
    "# import required modules\n",
    "import pandas as pd\n",
    "from sklearn import linear_model\n",
    "from sklearn.model_selection import train_test_split\n",
    "from sklearn.linear_model import LogisticRegression\n",
    "from sklearn import metrics\n",
    "from sklearn.metrics import classification_report, confusion_matrix\n",
    "import pandas as pd\n",
    "from sklearn.metrics import roc_auc_score\n",
    "from sklearn.metrics import precision_recall_fscore_support\n",
    "import numpy as np\n",
    "import statsmodels.api as sm"
   ]
  },
  {
   "cell_type": "code",
   "execution_count": 2,
   "metadata": {},
   "outputs": [
    {
     "data": {
      "text/plain": [
       "(31710, 38)"
      ]
     },
     "execution_count": 2,
     "metadata": {},
     "output_type": "execute_result"
    }
   ],
   "source": [
    "# load dataset\n",
    "data = pd.read_csv('../../Capstone/Data/MLB_Ppipeline1.csv', header=0)\n",
    "data.shape"
   ]
  },
  {
   "cell_type": "code",
   "execution_count": 3,
   "metadata": {},
   "outputs": [
    {
     "data": {
      "text/plain": [
       "Index(['name_common', 'year_ID', 'team_ID', 'lg_ID', 'xRA_sprp_adj',\n",
       "       'xRA_def_pitcher', 'RS_def_total', 'RpO_replacement', 'teamRpG', 'age',\n",
       "       'G', 'GS', 'IPouts', 'IPouts_start', 'IPouts_relief', 'RA', 'xRA',\n",
       "       'PPF', 'PPF_custom', 'xRA_final', 'BIP', 'BIP_perc', 'runs_above_avg',\n",
       "       'runs_above_avg_adj', 'runs_above_rep', 'GR_leverage_index_avg', 'WAR',\n",
       "       'oppRpG', 'pyth_exponent', 'waa_win_perc', 'WAA', 'WAA_adj',\n",
       "       'oppRpG_rep', 'pyth_exponent_rep', 'waa_win_perc_rep', 'WAR_rep',\n",
       "       'ERA_plus', 'ER_lg'],\n",
       "      dtype='object')"
      ]
     },
     "execution_count": 3,
     "metadata": {},
     "output_type": "execute_result"
    }
   ],
   "source": [
    "data.columns"
   ]
  },
  {
   "cell_type": "code",
   "execution_count": 4,
   "metadata": {},
   "outputs": [],
   "source": [
    "features=['xRA_sprp_adj', 'G', 'GS', 'RA', 'BIP', 'BIP_perc', 'pyth_exponent', 'WAA_adj', 'oppRpG_rep', 'pyth_exponent_rep']\n",
    "X=data[features]\n",
    "y=data.WAR"
   ]
  },
  {
   "cell_type": "code",
   "execution_count": 5,
   "metadata": {},
   "outputs": [],
   "source": [
    "# split X and y into training and testing sets\n",
    "X_train,X_test,y_train,y_test=train_test_split(X,y,test_size=0.25,random_state=2019)"
   ]
  },
  {
   "cell_type": "code",
   "execution_count": 6,
   "metadata": {},
   "outputs": [
    {
     "data": {
      "text/plain": [
       "(23782, 10)"
      ]
     },
     "execution_count": 6,
     "metadata": {},
     "output_type": "execute_result"
    }
   ],
   "source": [
    "X_train.shape"
   ]
  },
  {
   "cell_type": "code",
   "execution_count": 7,
   "metadata": {},
   "outputs": [
    {
     "data": {
      "text/plain": [
       "(7928, 10)"
      ]
     },
     "execution_count": 7,
     "metadata": {},
     "output_type": "execute_result"
    }
   ],
   "source": [
    "X_test.shape"
   ]
  },
  {
   "cell_type": "code",
   "execution_count": 8,
   "metadata": {},
   "outputs": [
    {
     "data": {
      "text/plain": [
       "(23782,)"
      ]
     },
     "execution_count": 8,
     "metadata": {},
     "output_type": "execute_result"
    }
   ],
   "source": [
    "y_train.shape"
   ]
  },
  {
   "cell_type": "code",
   "execution_count": 9,
   "metadata": {},
   "outputs": [
    {
     "data": {
      "text/plain": [
       "(7928,)"
      ]
     },
     "execution_count": 9,
     "metadata": {},
     "output_type": "execute_result"
    }
   ],
   "source": [
    "y_test.shape"
   ]
  },
  {
   "cell_type": "code",
   "execution_count": 10,
   "metadata": {},
   "outputs": [
    {
     "data": {
      "text/html": [
       "<table class=\"simpletable\">\n",
       "<caption>OLS Regression Results</caption>\n",
       "<tr>\n",
       "  <th>Dep. Variable:</th>           <td>WAR</td>       <th>  R-squared (uncentered):</th>      <td>   0.710</td> \n",
       "</tr>\n",
       "<tr>\n",
       "  <th>Model:</th>                   <td>OLS</td>       <th>  Adj. R-squared (uncentered):</th> <td>   0.710</td> \n",
       "</tr>\n",
       "<tr>\n",
       "  <th>Method:</th>             <td>Least Squares</td>  <th>  F-statistic:       </th>          <td>   7766.</td> \n",
       "</tr>\n",
       "<tr>\n",
       "  <th>Date:</th>             <td>Mon, 22 Jun 2020</td> <th>  Prob (F-statistic):</th>           <td>  0.00</td>  \n",
       "</tr>\n",
       "<tr>\n",
       "  <th>Time:</th>                 <td>02:32:54</td>     <th>  Log-Likelihood:    </th>          <td> -24515.</td> \n",
       "</tr>\n",
       "<tr>\n",
       "  <th>No. Observations:</th>      <td> 31710</td>      <th>  AIC:               </th>          <td>4.905e+04</td>\n",
       "</tr>\n",
       "<tr>\n",
       "  <th>Df Residuals:</th>          <td> 31700</td>      <th>  BIC:               </th>          <td>4.913e+04</td>\n",
       "</tr>\n",
       "<tr>\n",
       "  <th>Df Model:</th>              <td>    10</td>      <th>                     </th>              <td> </td>    \n",
       "</tr>\n",
       "<tr>\n",
       "  <th>Covariance Type:</th>      <td>nonrobust</td>    <th>                     </th>              <td> </td>    \n",
       "</tr>\n",
       "</table>\n",
       "<table class=\"simpletable\">\n",
       "<tr>\n",
       "          <td></td>             <th>coef</th>     <th>std err</th>      <th>t</th>      <th>P>|t|</th>  <th>[0.025</th>    <th>0.975]</th>  \n",
       "</tr>\n",
       "<tr>\n",
       "  <th>xRA_sprp_adj</th>      <td>    0.2743</td> <td>    0.006</td> <td>   43.002</td> <td> 0.000</td> <td>    0.262</td> <td>    0.287</td>\n",
       "</tr>\n",
       "<tr>\n",
       "  <th>G</th>                 <td>    0.4054</td> <td>    0.011</td> <td>   36.499</td> <td> 0.000</td> <td>    0.384</td> <td>    0.427</td>\n",
       "</tr>\n",
       "<tr>\n",
       "  <th>GS</th>                <td>   -0.1947</td> <td>    0.009</td> <td>  -22.571</td> <td> 0.000</td> <td>   -0.212</td> <td>   -0.178</td>\n",
       "</tr>\n",
       "<tr>\n",
       "  <th>RA</th>                <td>   -1.6116</td> <td>    0.016</td> <td>  -98.254</td> <td> 0.000</td> <td>   -1.644</td> <td>   -1.579</td>\n",
       "</tr>\n",
       "<tr>\n",
       "  <th>BIP</th>               <td>    0.5478</td> <td>    0.026</td> <td>   21.054</td> <td> 0.000</td> <td>    0.497</td> <td>    0.599</td>\n",
       "</tr>\n",
       "<tr>\n",
       "  <th>BIP_perc</th>          <td>    1.0158</td> <td>    0.018</td> <td>   56.934</td> <td> 0.000</td> <td>    0.981</td> <td>    1.051</td>\n",
       "</tr>\n",
       "<tr>\n",
       "  <th>pyth_exponent</th>     <td>   -0.2540</td> <td>    0.008</td> <td>  -33.415</td> <td> 0.000</td> <td>   -0.269</td> <td>   -0.239</td>\n",
       "</tr>\n",
       "<tr>\n",
       "  <th>WAA_adj</th>           <td>    0.2123</td> <td>    0.004</td> <td>   55.628</td> <td> 0.000</td> <td>    0.205</td> <td>    0.220</td>\n",
       "</tr>\n",
       "<tr>\n",
       "  <th>oppRpG_rep</th>        <td>    1.3470</td> <td>    0.042</td> <td>   32.020</td> <td> 0.000</td> <td>    1.265</td> <td>    1.429</td>\n",
       "</tr>\n",
       "<tr>\n",
       "  <th>pyth_exponent_rep</th> <td>   -0.9672</td> <td>    0.041</td> <td>  -23.695</td> <td> 0.000</td> <td>   -1.047</td> <td>   -0.887</td>\n",
       "</tr>\n",
       "</table>\n",
       "<table class=\"simpletable\">\n",
       "<tr>\n",
       "  <th>Omnibus:</th>       <td>7510.893</td> <th>  Durbin-Watson:     </th> <td>   1.773</td> \n",
       "</tr>\n",
       "<tr>\n",
       "  <th>Prob(Omnibus):</th>  <td> 0.000</td>  <th>  Jarque-Bera (JB):  </th> <td>27645.094</td>\n",
       "</tr>\n",
       "<tr>\n",
       "  <th>Skew:</th>           <td>-1.157</td>  <th>  Prob(JB):          </th> <td>    0.00</td> \n",
       "</tr>\n",
       "<tr>\n",
       "  <th>Kurtosis:</th>       <td> 6.946</td>  <th>  Cond. No.          </th> <td>    43.4</td> \n",
       "</tr>\n",
       "</table><br/><br/>Warnings:<br/>[1] Standard Errors assume that the covariance matrix of the errors is correctly specified."
      ],
      "text/plain": [
       "<class 'statsmodels.iolib.summary.Summary'>\n",
       "\"\"\"\n",
       "                                 OLS Regression Results                                \n",
       "=======================================================================================\n",
       "Dep. Variable:                    WAR   R-squared (uncentered):                   0.710\n",
       "Model:                            OLS   Adj. R-squared (uncentered):              0.710\n",
       "Method:                 Least Squares   F-statistic:                              7766.\n",
       "Date:                Mon, 22 Jun 2020   Prob (F-statistic):                        0.00\n",
       "Time:                        02:32:54   Log-Likelihood:                         -24515.\n",
       "No. Observations:               31710   AIC:                                  4.905e+04\n",
       "Df Residuals:                   31700   BIC:                                  4.913e+04\n",
       "Df Model:                          10                                                  \n",
       "Covariance Type:            nonrobust                                                  \n",
       "=====================================================================================\n",
       "                        coef    std err          t      P>|t|      [0.025      0.975]\n",
       "-------------------------------------------------------------------------------------\n",
       "xRA_sprp_adj          0.2743      0.006     43.002      0.000       0.262       0.287\n",
       "G                     0.4054      0.011     36.499      0.000       0.384       0.427\n",
       "GS                   -0.1947      0.009    -22.571      0.000      -0.212      -0.178\n",
       "RA                   -1.6116      0.016    -98.254      0.000      -1.644      -1.579\n",
       "BIP                   0.5478      0.026     21.054      0.000       0.497       0.599\n",
       "BIP_perc              1.0158      0.018     56.934      0.000       0.981       1.051\n",
       "pyth_exponent        -0.2540      0.008    -33.415      0.000      -0.269      -0.239\n",
       "WAA_adj               0.2123      0.004     55.628      0.000       0.205       0.220\n",
       "oppRpG_rep            1.3470      0.042     32.020      0.000       1.265       1.429\n",
       "pyth_exponent_rep    -0.9672      0.041    -23.695      0.000      -1.047      -0.887\n",
       "==============================================================================\n",
       "Omnibus:                     7510.893   Durbin-Watson:                   1.773\n",
       "Prob(Omnibus):                  0.000   Jarque-Bera (JB):            27645.094\n",
       "Skew:                          -1.157   Prob(JB):                         0.00\n",
       "Kurtosis:                       6.946   Cond. No.                         43.4\n",
       "==============================================================================\n",
       "\n",
       "Warnings:\n",
       "[1] Standard Errors assume that the covariance matrix of the errors is correctly specified.\n",
       "\"\"\""
      ]
     },
     "execution_count": 10,
     "metadata": {},
     "output_type": "execute_result"
    }
   ],
   "source": [
    "model = sm.OLS(y, X).fit()\n",
    "predictions = model.predict(X)\n",
    "model.summary()"
   ]
  },
  {
   "cell_type": "markdown",
   "metadata": {},
   "source": [
    "## Equation\n",
    "WAR = 0.2743(xRA_sprp_adj) + 0.4054(G) - 0.1947(GS) - 1.6116(RA) + 0.5478(BIP) + 1.0158(BIP_perc) - 0.2540(pyth_exponent) + 0.2123(WAA_adj) + 1.3470(oppRpG_rep) - 0.9672(pyth_exponent_rep)"
   ]
  },
  {
   "cell_type": "code",
   "execution_count": null,
   "metadata": {},
   "outputs": [],
   "source": []
  }
 ],
 "metadata": {
  "kernelspec": {
   "display_name": "Python 3",
   "language": "python",
   "name": "python3"
  },
  "language_info": {
   "codemirror_mode": {
    "name": "ipython",
    "version": 3
   },
   "file_extension": ".py",
   "mimetype": "text/x-python",
   "name": "python",
   "nbconvert_exporter": "python",
   "pygments_lexer": "ipython3",
   "version": "3.6.7"
  }
 },
 "nbformat": 4,
 "nbformat_minor": 4
}
