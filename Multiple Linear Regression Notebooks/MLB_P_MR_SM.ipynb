{
 "cells": [
  {
   "cell_type": "markdown",
   "metadata": {},
   "source": [
    "# MLB Pitchers Multiple Linear Regression - Statsmodels"
   ]
  },
  {
   "cell_type": "code",
   "execution_count": 1,
   "metadata": {},
   "outputs": [],
   "source": [
    "# import required modules\n",
    "import pandas as pd\n",
    "from sklearn import linear_model\n",
    "from sklearn.model_selection import train_test_split\n",
    "from sklearn.linear_model import LogisticRegression\n",
    "from sklearn import metrics\n",
    "from sklearn.metrics import classification_report, confusion_matrix\n",
    "import pandas as pd\n",
    "from sklearn.metrics import roc_auc_score\n",
    "from sklearn.metrics import precision_recall_fscore_support\n",
    "import numpy as np\n",
    "import statsmodels.api as sm"
   ]
  },
  {
   "cell_type": "code",
   "execution_count": 2,
   "metadata": {},
   "outputs": [
    {
     "data": {
      "text/plain": [
       "(31710, 38)"
      ]
     },
     "execution_count": 2,
     "metadata": {},
     "output_type": "execute_result"
    }
   ],
   "source": [
    "# load dataset\n",
    "data = pd.read_csv('../../Capstone/Data/MLB_Ppipeline1.csv', header=0)\n",
    "data.shape"
   ]
  },
  {
   "cell_type": "code",
   "execution_count": 4,
   "metadata": {},
   "outputs": [
    {
     "data": {
      "text/plain": [
       "Index(['name_common', 'year_ID', 'team_ID', 'lg_ID', 'xRA_sprp_adj',\n",
       "       'xRA_def_pitcher', 'RS_def_total', 'RpO_replacement', 'teamRpG', 'age',\n",
       "       'G', 'GS', 'IPouts', 'IPouts_start', 'IPouts_relief', 'RA', 'xRA',\n",
       "       'PPF', 'PPF_custom', 'xRA_final', 'BIP', 'BIP_perc', 'runs_above_avg',\n",
       "       'runs_above_avg_adj', 'runs_above_rep', 'GR_leverage_index_avg', 'WAR',\n",
       "       'oppRpG', 'pyth_exponent', 'waa_win_perc', 'WAA', 'WAA_adj',\n",
       "       'oppRpG_rep', 'pyth_exponent_rep', 'waa_win_perc_rep', 'WAR_rep',\n",
       "       'ERA_plus', 'ER_lg'],\n",
       "      dtype='object')"
      ]
     },
     "execution_count": 4,
     "metadata": {},
     "output_type": "execute_result"
    }
   ],
   "source": [
    "data.columns"
   ]
  },
  {
   "cell_type": "code",
   "execution_count": 6,
   "metadata": {},
   "outputs": [],
   "source": [
    "features=['IPouts', 'xRA', 'xRA_final', 'runs_above_avg', 'runs_above_avg_adj', 'runs_above_rep', 'WAA', 'WAA_adj', 'WAR_rep', 'ER_lg']\n",
    "X=data[features]\n",
    "y=data.WAR"
   ]
  },
  {
   "cell_type": "code",
   "execution_count": 7,
   "metadata": {},
   "outputs": [],
   "source": [
    "# split X and y into training and testing sets\n",
    "X_train,X_test,y_train,y_test=train_test_split(X,y,test_size=0.25,random_state=2019)"
   ]
  },
  {
   "cell_type": "code",
   "execution_count": 8,
   "metadata": {},
   "outputs": [
    {
     "data": {
      "text/html": [
       "<table class=\"simpletable\">\n",
       "<caption>OLS Regression Results</caption>\n",
       "<tr>\n",
       "  <th>Dep. Variable:</th>           <td>WAR</td>       <th>  R-squared (uncentered):</th>       <td>   0.988</td> \n",
       "</tr>\n",
       "<tr>\n",
       "  <th>Model:</th>                   <td>OLS</td>       <th>  Adj. R-squared (uncentered):</th>  <td>   0.988</td> \n",
       "</tr>\n",
       "<tr>\n",
       "  <th>Method:</th>             <td>Least Squares</td>  <th>  F-statistic:       </th>           <td>2.659e+05</td>\n",
       "</tr>\n",
       "<tr>\n",
       "  <th>Date:</th>             <td>Sun, 21 Jun 2020</td> <th>  Prob (F-statistic):</th>            <td>  0.00</td>  \n",
       "</tr>\n",
       "<tr>\n",
       "  <th>Time:</th>                 <td>04:07:08</td>     <th>  Log-Likelihood:    </th>           <td>  26265.</td> \n",
       "</tr>\n",
       "<tr>\n",
       "  <th>No. Observations:</th>      <td> 31710</td>      <th>  AIC:               </th>          <td>-5.251e+04</td>\n",
       "</tr>\n",
       "<tr>\n",
       "  <th>Df Residuals:</th>          <td> 31700</td>      <th>  BIC:               </th>          <td>-5.243e+04</td>\n",
       "</tr>\n",
       "<tr>\n",
       "  <th>Df Model:</th>              <td>    10</td>      <th>                     </th>               <td> </td>    \n",
       "</tr>\n",
       "<tr>\n",
       "  <th>Covariance Type:</th>      <td>nonrobust</td>    <th>                     </th>               <td> </td>    \n",
       "</tr>\n",
       "</table>\n",
       "<table class=\"simpletable\">\n",
       "<tr>\n",
       "           <td></td>             <th>coef</th>     <th>std err</th>      <th>t</th>      <th>P>|t|</th>  <th>[0.025</th>    <th>0.975]</th>  \n",
       "</tr>\n",
       "<tr>\n",
       "  <th>IPouts</th>             <td>    0.3346</td> <td>    0.007</td> <td>   44.781</td> <td> 0.000</td> <td>    0.320</td> <td>    0.349</td>\n",
       "</tr>\n",
       "<tr>\n",
       "  <th>xRA</th>                <td>   -0.3818</td> <td>    0.014</td> <td>  -26.360</td> <td> 0.000</td> <td>   -0.410</td> <td>   -0.353</td>\n",
       "</tr>\n",
       "<tr>\n",
       "  <th>xRA_final</th>          <td>    0.0824</td> <td>    0.009</td> <td>    8.861</td> <td> 0.000</td> <td>    0.064</td> <td>    0.101</td>\n",
       "</tr>\n",
       "<tr>\n",
       "  <th>runs_above_avg</th>     <td>   -0.6939</td> <td>    0.010</td> <td>  -70.816</td> <td> 0.000</td> <td>   -0.713</td> <td>   -0.675</td>\n",
       "</tr>\n",
       "<tr>\n",
       "  <th>runs_above_avg_adj</th> <td>   -0.2309</td> <td>    0.013</td> <td>  -18.421</td> <td> 0.000</td> <td>   -0.255</td> <td>   -0.206</td>\n",
       "</tr>\n",
       "<tr>\n",
       "  <th>runs_above_rep</th>     <td>    0.9756</td> <td>    0.003</td> <td>  318.677</td> <td> 0.000</td> <td>    0.970</td> <td>    0.982</td>\n",
       "</tr>\n",
       "<tr>\n",
       "  <th>WAA</th>                <td>    0.9553</td> <td>    0.008</td> <td>  115.555</td> <td> 0.000</td> <td>    0.939</td> <td>    0.971</td>\n",
       "</tr>\n",
       "<tr>\n",
       "  <th>WAA_adj</th>            <td>    0.1063</td> <td>    0.001</td> <td>  155.070</td> <td> 0.000</td> <td>    0.105</td> <td>    0.108</td>\n",
       "</tr>\n",
       "<tr>\n",
       "  <th>WAR_rep</th>            <td>    0.0797</td> <td>    0.005</td> <td>   16.805</td> <td> 0.000</td> <td>    0.070</td> <td>    0.089</td>\n",
       "</tr>\n",
       "<tr>\n",
       "  <th>ER_lg</th>              <td>   -0.0785</td> <td>    0.014</td> <td>   -5.683</td> <td> 0.000</td> <td>   -0.106</td> <td>   -0.051</td>\n",
       "</tr>\n",
       "</table>\n",
       "<table class=\"simpletable\">\n",
       "<tr>\n",
       "  <th>Omnibus:</th>       <td>12837.074</td> <th>  Durbin-Watson:     </th>  <td>   1.873</td> \n",
       "</tr>\n",
       "<tr>\n",
       "  <th>Prob(Omnibus):</th>  <td> 0.000</td>   <th>  Jarque-Bera (JB):  </th> <td>198921.740</td>\n",
       "</tr>\n",
       "<tr>\n",
       "  <th>Skew:</th>           <td>-1.532</td>   <th>  Prob(JB):          </th>  <td>    0.00</td> \n",
       "</tr>\n",
       "<tr>\n",
       "  <th>Kurtosis:</th>       <td>14.881</td>   <th>  Cond. No.          </th>  <td>    76.9</td> \n",
       "</tr>\n",
       "</table><br/><br/>Warnings:<br/>[1] Standard Errors assume that the covariance matrix of the errors is correctly specified."
      ],
      "text/plain": [
       "<class 'statsmodels.iolib.summary.Summary'>\n",
       "\"\"\"\n",
       "                                 OLS Regression Results                                \n",
       "=======================================================================================\n",
       "Dep. Variable:                    WAR   R-squared (uncentered):                   0.988\n",
       "Model:                            OLS   Adj. R-squared (uncentered):              0.988\n",
       "Method:                 Least Squares   F-statistic:                          2.659e+05\n",
       "Date:                Sun, 21 Jun 2020   Prob (F-statistic):                        0.00\n",
       "Time:                        04:07:08   Log-Likelihood:                          26265.\n",
       "No. Observations:               31710   AIC:                                 -5.251e+04\n",
       "Df Residuals:                   31700   BIC:                                 -5.243e+04\n",
       "Df Model:                          10                                                  \n",
       "Covariance Type:            nonrobust                                                  \n",
       "======================================================================================\n",
       "                         coef    std err          t      P>|t|      [0.025      0.975]\n",
       "--------------------------------------------------------------------------------------\n",
       "IPouts                 0.3346      0.007     44.781      0.000       0.320       0.349\n",
       "xRA                   -0.3818      0.014    -26.360      0.000      -0.410      -0.353\n",
       "xRA_final              0.0824      0.009      8.861      0.000       0.064       0.101\n",
       "runs_above_avg        -0.6939      0.010    -70.816      0.000      -0.713      -0.675\n",
       "runs_above_avg_adj    -0.2309      0.013    -18.421      0.000      -0.255      -0.206\n",
       "runs_above_rep         0.9756      0.003    318.677      0.000       0.970       0.982\n",
       "WAA                    0.9553      0.008    115.555      0.000       0.939       0.971\n",
       "WAA_adj                0.1063      0.001    155.070      0.000       0.105       0.108\n",
       "WAR_rep                0.0797      0.005     16.805      0.000       0.070       0.089\n",
       "ER_lg                 -0.0785      0.014     -5.683      0.000      -0.106      -0.051\n",
       "==============================================================================\n",
       "Omnibus:                    12837.074   Durbin-Watson:                   1.873\n",
       "Prob(Omnibus):                  0.000   Jarque-Bera (JB):           198921.740\n",
       "Skew:                          -1.532   Prob(JB):                         0.00\n",
       "Kurtosis:                      14.881   Cond. No.                         76.9\n",
       "==============================================================================\n",
       "\n",
       "Warnings:\n",
       "[1] Standard Errors assume that the covariance matrix of the errors is correctly specified.\n",
       "\"\"\""
      ]
     },
     "execution_count": 8,
     "metadata": {},
     "output_type": "execute_result"
    }
   ],
   "source": [
    "model = sm.OLS(y, X).fit()\n",
    "predictions = model.predict(X)\n",
    "model.summary()"
   ]
  },
  {
   "cell_type": "code",
   "execution_count": null,
   "metadata": {},
   "outputs": [],
   "source": []
  }
 ],
 "metadata": {
  "kernelspec": {
   "display_name": "Python 3",
   "language": "python",
   "name": "python3"
  },
  "language_info": {
   "codemirror_mode": {
    "name": "ipython",
    "version": 3
   },
   "file_extension": ".py",
   "mimetype": "text/x-python",
   "name": "python",
   "nbconvert_exporter": "python",
   "pygments_lexer": "ipython3",
   "version": "3.6.7"
  }
 },
 "nbformat": 4,
 "nbformat_minor": 4
}
