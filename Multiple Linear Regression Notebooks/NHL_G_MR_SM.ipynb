{
 "cells": [
  {
   "cell_type": "markdown",
   "metadata": {},
   "source": [
    "# NHL Goalies Multiple Linear Regression - Statsmodels"
   ]
  },
  {
   "cell_type": "code",
   "execution_count": 1,
   "metadata": {},
   "outputs": [],
   "source": [
    "# import required modules\n",
    "import pandas as pd\n",
    "from sklearn import linear_model\n",
    "from sklearn.model_selection import train_test_split\n",
    "from sklearn.linear_model import LogisticRegression\n",
    "from sklearn import metrics\n",
    "from sklearn.metrics import classification_report, confusion_matrix\n",
    "import pandas as pd\n",
    "from sklearn.metrics import roc_auc_score\n",
    "from sklearn.metrics import precision_recall_fscore_support\n",
    "import numpy as np\n",
    "import statsmodels.api as sm"
   ]
  },
  {
   "cell_type": "code",
   "execution_count": 2,
   "metadata": {},
   "outputs": [
    {
     "data": {
      "text/plain": [
       "(4340, 26)"
      ]
     },
     "execution_count": 2,
     "metadata": {},
     "output_type": "execute_result"
    }
   ],
   "source": [
    "# load dataset\n",
    "data = pd.read_csv('../../Capstone/Data/NHL_Gpipeline1.csv', header=0)\n",
    "data.shape"
   ]
  },
  {
   "cell_type": "code",
   "execution_count": 3,
   "metadata": {},
   "outputs": [
    {
     "data": {
      "text/plain": [
       "Player    0.0\n",
       "Tm        0.0\n",
       "Season    0.0\n",
       "GP        0.0\n",
       "Age       0.0\n",
       "GS        0.0\n",
       "W         0.0\n",
       "L         0.0\n",
       "T/O       0.0\n",
       "GA        0.0\n",
       "SA        0.0\n",
       "SV        0.0\n",
       "GAA       0.0\n",
       "SO        0.0\n",
       "GPS       0.0\n",
       "MIN       0.0\n",
       "QS        0.0\n",
       "RBS       0.0\n",
       "GSAA      0.0\n",
       "G         0.0\n",
       "A         0.0\n",
       "PTS       0.0\n",
       "PIM       0.0\n",
       "SV%       0.0\n",
       "QS%       0.0\n",
       "GA%       0.0\n",
       "dtype: float64"
      ]
     },
     "execution_count": 3,
     "metadata": {},
     "output_type": "execute_result"
    }
   ],
   "source": [
    "data.isna().mean().round(4)*100"
   ]
  },
  {
   "cell_type": "code",
   "execution_count": 4,
   "metadata": {},
   "outputs": [
    {
     "data": {
      "text/plain": [
       "Index(['Player', 'Tm', 'Season', 'GP', 'Age', 'GS', 'W', 'L', 'T/O', 'GA',\n",
       "       'SA', 'SV', 'GAA', 'SO', 'GPS', 'MIN', 'QS', 'RBS', 'GSAA', 'G', 'A',\n",
       "       'PTS', 'PIM', 'SV%', 'QS%', 'GA%'],\n",
       "      dtype='object')"
      ]
     },
     "execution_count": 4,
     "metadata": {},
     "output_type": "execute_result"
    }
   ],
   "source": [
    "data.columns"
   ]
  },
  {
   "cell_type": "code",
   "execution_count": 5,
   "metadata": {},
   "outputs": [],
   "source": [
    "features=['Age', 'GS',  'GAA',  'QS', 'RBS', 'GSAA', 'G', 'SV%', 'QS%',]\n",
    "X=data[features]\n",
    "y=data.GPS"
   ]
  },
  {
   "cell_type": "code",
   "execution_count": 6,
   "metadata": {},
   "outputs": [],
   "source": [
    "# split X and y into training and testing sets\n",
    "X_train,X_test,y_train,y_test=train_test_split(X,y,test_size=0.25,random_state=2019)"
   ]
  },
  {
   "cell_type": "code",
   "execution_count": 7,
   "metadata": {},
   "outputs": [
    {
     "data": {
      "text/html": [
       "<table class=\"simpletable\">\n",
       "<caption>OLS Regression Results</caption>\n",
       "<tr>\n",
       "  <th>Dep. Variable:</th>           <td>GPS</td>       <th>  R-squared (uncentered):</th>      <td>   0.376</td> \n",
       "</tr>\n",
       "<tr>\n",
       "  <th>Model:</th>                   <td>OLS</td>       <th>  Adj. R-squared (uncentered):</th> <td>   0.375</td> \n",
       "</tr>\n",
       "<tr>\n",
       "  <th>Method:</th>             <td>Least Squares</td>  <th>  F-statistic:       </th>          <td>   289.9</td> \n",
       "</tr>\n",
       "<tr>\n",
       "  <th>Date:</th>             <td>Mon, 22 Jun 2020</td> <th>  Prob (F-statistic):</th>           <td>  0.00</td>  \n",
       "</tr>\n",
       "<tr>\n",
       "  <th>Time:</th>                 <td>01:39:30</td>     <th>  Log-Likelihood:    </th>          <td> -5135.1</td> \n",
       "</tr>\n",
       "<tr>\n",
       "  <th>No. Observations:</th>      <td>  4340</td>      <th>  AIC:               </th>          <td>1.029e+04</td>\n",
       "</tr>\n",
       "<tr>\n",
       "  <th>Df Residuals:</th>          <td>  4331</td>      <th>  BIC:               </th>          <td>1.035e+04</td>\n",
       "</tr>\n",
       "<tr>\n",
       "  <th>Df Model:</th>              <td>     9</td>      <th>                     </th>              <td> </td>    \n",
       "</tr>\n",
       "<tr>\n",
       "  <th>Covariance Type:</th>      <td>nonrobust</td>    <th>                     </th>              <td> </td>    \n",
       "</tr>\n",
       "</table>\n",
       "<table class=\"simpletable\">\n",
       "<tr>\n",
       "    <td></td>      <th>coef</th>     <th>std err</th>      <th>t</th>      <th>P>|t|</th>  <th>[0.025</th>    <th>0.975]</th>  \n",
       "</tr>\n",
       "<tr>\n",
       "  <th>Age</th>  <td>    0.1858</td> <td>    0.012</td> <td>   15.139</td> <td> 0.000</td> <td>    0.162</td> <td>    0.210</td>\n",
       "</tr>\n",
       "<tr>\n",
       "  <th>GS</th>   <td>   -0.6798</td> <td>    0.049</td> <td>  -13.734</td> <td> 0.000</td> <td>   -0.777</td> <td>   -0.583</td>\n",
       "</tr>\n",
       "<tr>\n",
       "  <th>GAA</th>  <td>    0.1139</td> <td>    0.027</td> <td>    4.192</td> <td> 0.000</td> <td>    0.061</td> <td>    0.167</td>\n",
       "</tr>\n",
       "<tr>\n",
       "  <th>QS</th>   <td>    6.9172</td> <td>    0.329</td> <td>   21.038</td> <td> 0.000</td> <td>    6.273</td> <td>    7.562</td>\n",
       "</tr>\n",
       "<tr>\n",
       "  <th>RBS</th>  <td>    0.0762</td> <td>    0.038</td> <td>    1.993</td> <td> 0.046</td> <td>    0.001</td> <td>    0.151</td>\n",
       "</tr>\n",
       "<tr>\n",
       "  <th>GSAA</th> <td>    0.2406</td> <td>    0.013</td> <td>   17.956</td> <td> 0.000</td> <td>    0.214</td> <td>    0.267</td>\n",
       "</tr>\n",
       "<tr>\n",
       "  <th>G</th>    <td>    0.1736</td> <td>    0.067</td> <td>    2.591</td> <td> 0.010</td> <td>    0.042</td> <td>    0.305</td>\n",
       "</tr>\n",
       "<tr>\n",
       "  <th>SV%</th>  <td>    0.4099</td> <td>    0.027</td> <td>   15.351</td> <td> 0.000</td> <td>    0.358</td> <td>    0.462</td>\n",
       "</tr>\n",
       "<tr>\n",
       "  <th>QS%</th>  <td>   -6.2715</td> <td>    0.320</td> <td>  -19.611</td> <td> 0.000</td> <td>   -6.899</td> <td>   -5.645</td>\n",
       "</tr>\n",
       "</table>\n",
       "<table class=\"simpletable\">\n",
       "<tr>\n",
       "  <th>Omnibus:</th>       <td>95.333</td> <th>  Durbin-Watson:     </th> <td>   1.924</td>\n",
       "</tr>\n",
       "<tr>\n",
       "  <th>Prob(Omnibus):</th> <td> 0.000</td> <th>  Jarque-Bera (JB):  </th> <td>  79.957</td>\n",
       "</tr>\n",
       "<tr>\n",
       "  <th>Skew:</th>          <td>-0.265</td> <th>  Prob(JB):          </th> <td>4.34e-18</td>\n",
       "</tr>\n",
       "<tr>\n",
       "  <th>Kurtosis:</th>      <td> 2.597</td> <th>  Cond. No.          </th> <td>    76.6</td>\n",
       "</tr>\n",
       "</table><br/><br/>Warnings:<br/>[1] Standard Errors assume that the covariance matrix of the errors is correctly specified."
      ],
      "text/plain": [
       "<class 'statsmodels.iolib.summary.Summary'>\n",
       "\"\"\"\n",
       "                                 OLS Regression Results                                \n",
       "=======================================================================================\n",
       "Dep. Variable:                    GPS   R-squared (uncentered):                   0.376\n",
       "Model:                            OLS   Adj. R-squared (uncentered):              0.375\n",
       "Method:                 Least Squares   F-statistic:                              289.9\n",
       "Date:                Mon, 22 Jun 2020   Prob (F-statistic):                        0.00\n",
       "Time:                        01:39:30   Log-Likelihood:                         -5135.1\n",
       "No. Observations:                4340   AIC:                                  1.029e+04\n",
       "Df Residuals:                    4331   BIC:                                  1.035e+04\n",
       "Df Model:                           9                                                  \n",
       "Covariance Type:            nonrobust                                                  \n",
       "==============================================================================\n",
       "                 coef    std err          t      P>|t|      [0.025      0.975]\n",
       "------------------------------------------------------------------------------\n",
       "Age            0.1858      0.012     15.139      0.000       0.162       0.210\n",
       "GS            -0.6798      0.049    -13.734      0.000      -0.777      -0.583\n",
       "GAA            0.1139      0.027      4.192      0.000       0.061       0.167\n",
       "QS             6.9172      0.329     21.038      0.000       6.273       7.562\n",
       "RBS            0.0762      0.038      1.993      0.046       0.001       0.151\n",
       "GSAA           0.2406      0.013     17.956      0.000       0.214       0.267\n",
       "G              0.1736      0.067      2.591      0.010       0.042       0.305\n",
       "SV%            0.4099      0.027     15.351      0.000       0.358       0.462\n",
       "QS%           -6.2715      0.320    -19.611      0.000      -6.899      -5.645\n",
       "==============================================================================\n",
       "Omnibus:                       95.333   Durbin-Watson:                   1.924\n",
       "Prob(Omnibus):                  0.000   Jarque-Bera (JB):               79.957\n",
       "Skew:                          -0.265   Prob(JB):                     4.34e-18\n",
       "Kurtosis:                       2.597   Cond. No.                         76.6\n",
       "==============================================================================\n",
       "\n",
       "Warnings:\n",
       "[1] Standard Errors assume that the covariance matrix of the errors is correctly specified.\n",
       "\"\"\""
      ]
     },
     "execution_count": 7,
     "metadata": {},
     "output_type": "execute_result"
    }
   ],
   "source": [
    "model = sm.OLS(y, X).fit()\n",
    "predictions = model.predict(X)\n",
    "model.summary()"
   ]
  },
  {
   "cell_type": "markdown",
   "metadata": {},
   "source": [
    "## Equation:\n",
    "GPS = 0.1858(Age) - 0.6798(GS) + 0.1139(GAA) + 6.9172(QS) + 0.0762(RBS) + 0.2406(GSAA) + 0.1736(G) + 0.4099(SV%) - 6.2715(QS%)"
   ]
  },
  {
   "cell_type": "code",
   "execution_count": null,
   "metadata": {},
   "outputs": [],
   "source": []
  }
 ],
 "metadata": {
  "kernelspec": {
   "display_name": "Python 3",
   "language": "python",
   "name": "python3"
  },
  "language_info": {
   "codemirror_mode": {
    "name": "ipython",
    "version": 3
   },
   "file_extension": ".py",
   "mimetype": "text/x-python",
   "name": "python",
   "nbconvert_exporter": "python",
   "pygments_lexer": "ipython3",
   "version": "3.6.7"
  }
 },
 "nbformat": 4,
 "nbformat_minor": 4
}
