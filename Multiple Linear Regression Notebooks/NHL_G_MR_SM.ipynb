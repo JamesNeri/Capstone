{
 "cells": [
  {
   "cell_type": "markdown",
   "metadata": {},
   "source": [
    "# NHL Goalies Multiple Linear Regression - Statsmodels"
   ]
  },
  {
   "cell_type": "code",
   "execution_count": 1,
   "metadata": {},
   "outputs": [],
   "source": [
    "# import required modules\n",
    "import pandas as pd\n",
    "from sklearn import linear_model\n",
    "from sklearn.model_selection import train_test_split\n",
    "from sklearn.linear_model import LogisticRegression\n",
    "from sklearn import metrics\n",
    "from sklearn.metrics import classification_report, confusion_matrix\n",
    "import pandas as pd\n",
    "from sklearn.metrics import roc_auc_score\n",
    "from sklearn.metrics import precision_recall_fscore_support\n",
    "import numpy as np\n",
    "import statsmodels.api as sm"
   ]
  },
  {
   "cell_type": "code",
   "execution_count": 2,
   "metadata": {},
   "outputs": [
    {
     "data": {
      "text/plain": [
       "(4340, 26)"
      ]
     },
     "execution_count": 2,
     "metadata": {},
     "output_type": "execute_result"
    }
   ],
   "source": [
    "# load dataset\n",
    "data = pd.read_csv('../../Capstone/Data/NHL_Gpipeline1.csv', header=0)\n",
    "data.shape"
   ]
  },
  {
   "cell_type": "code",
   "execution_count": 3,
   "metadata": {},
   "outputs": [
    {
     "data": {
      "text/plain": [
       "Player    0.0\n",
       "Tm        0.0\n",
       "Season    0.0\n",
       "GP        0.0\n",
       "Age       0.0\n",
       "GS        0.0\n",
       "W         0.0\n",
       "L         0.0\n",
       "T/O       0.0\n",
       "GA        0.0\n",
       "SA        0.0\n",
       "SV        0.0\n",
       "GAA       0.0\n",
       "SO        0.0\n",
       "GPS       0.0\n",
       "MIN       0.0\n",
       "QS        0.0\n",
       "RBS       0.0\n",
       "GSAA      0.0\n",
       "G         0.0\n",
       "A         0.0\n",
       "PTS       0.0\n",
       "PIM       0.0\n",
       "SV%       0.0\n",
       "QS%       0.0\n",
       "GA%       0.0\n",
       "dtype: float64"
      ]
     },
     "execution_count": 3,
     "metadata": {},
     "output_type": "execute_result"
    }
   ],
   "source": [
    "data.isna().mean().round(4)*100"
   ]
  },
  {
   "cell_type": "code",
   "execution_count": 4,
   "metadata": {},
   "outputs": [
    {
     "data": {
      "text/plain": [
       "Index(['Player', 'Tm', 'Season', 'GP', 'Age', 'GS', 'W', 'L', 'T/O', 'GA',\n",
       "       'SA', 'SV', 'GAA', 'SO', 'GPS', 'MIN', 'QS', 'RBS', 'GSAA', 'G', 'A',\n",
       "       'PTS', 'PIM', 'SV%', 'QS%', 'GA%'],\n",
       "      dtype='object')"
      ]
     },
     "execution_count": 4,
     "metadata": {},
     "output_type": "execute_result"
    }
   ],
   "source": [
    "data.columns"
   ]
  },
  {
   "cell_type": "code",
   "execution_count": 5,
   "metadata": {},
   "outputs": [],
   "source": [
    "features=['GP', 'W', 'L', 'T/O', 'GA', 'SA', 'SV', 'MIN', 'QS', 'GSAA']\n",
    "X=data[features]\n",
    "y=data.GPS"
   ]
  },
  {
   "cell_type": "code",
   "execution_count": 6,
   "metadata": {},
   "outputs": [],
   "source": [
    "# split X and y into training and testing sets\n",
    "X_train,X_test,y_train,y_test=train_test_split(X,y,test_size=0.25,random_state=2019)"
   ]
  },
  {
   "cell_type": "code",
   "execution_count": 7,
   "metadata": {},
   "outputs": [
    {
     "data": {
      "text/html": [
       "<table class=\"simpletable\">\n",
       "<caption>OLS Regression Results</caption>\n",
       "<tr>\n",
       "  <th>Dep. Variable:</th>           <td>GPS</td>       <th>  R-squared (uncentered):</th>      <td>   0.970</td> \n",
       "</tr>\n",
       "<tr>\n",
       "  <th>Model:</th>                   <td>OLS</td>       <th>  Adj. R-squared (uncentered):</th> <td>   0.970</td> \n",
       "</tr>\n",
       "<tr>\n",
       "  <th>Method:</th>             <td>Least Squares</td>  <th>  F-statistic:       </th>          <td>1.389e+04</td>\n",
       "</tr>\n",
       "<tr>\n",
       "  <th>Date:</th>             <td>Sat, 20 Jun 2020</td> <th>  Prob (F-statistic):</th>           <td>  0.00</td>  \n",
       "</tr>\n",
       "<tr>\n",
       "  <th>Time:</th>                 <td>22:04:40</td>     <th>  Log-Likelihood:    </th>          <td>  1434.8</td> \n",
       "</tr>\n",
       "<tr>\n",
       "  <th>No. Observations:</th>      <td>  4340</td>      <th>  AIC:               </th>          <td>  -2850.</td> \n",
       "</tr>\n",
       "<tr>\n",
       "  <th>Df Residuals:</th>          <td>  4330</td>      <th>  BIC:               </th>          <td>  -2786.</td> \n",
       "</tr>\n",
       "<tr>\n",
       "  <th>Df Model:</th>              <td>    10</td>      <th>                     </th>              <td> </td>    \n",
       "</tr>\n",
       "<tr>\n",
       "  <th>Covariance Type:</th>      <td>nonrobust</td>    <th>                     </th>              <td> </td>    \n",
       "</tr>\n",
       "</table>\n",
       "<table class=\"simpletable\">\n",
       "<tr>\n",
       "    <td></td>      <th>coef</th>     <th>std err</th>      <th>t</th>      <th>P>|t|</th>  <th>[0.025</th>    <th>0.975]</th>  \n",
       "</tr>\n",
       "<tr>\n",
       "  <th>GP</th>   <td>    0.0996</td> <td>    0.011</td> <td>    9.058</td> <td> 0.000</td> <td>    0.078</td> <td>    0.121</td>\n",
       "</tr>\n",
       "<tr>\n",
       "  <th>W</th>    <td>    0.4036</td> <td>    0.016</td> <td>   25.649</td> <td> 0.000</td> <td>    0.373</td> <td>    0.434</td>\n",
       "</tr>\n",
       "<tr>\n",
       "  <th>L</th>    <td>    0.1493</td> <td>    0.014</td> <td>   10.583</td> <td> 0.000</td> <td>    0.122</td> <td>    0.177</td>\n",
       "</tr>\n",
       "<tr>\n",
       "  <th>T/O</th>  <td>    0.0891</td> <td>    0.007</td> <td>   13.585</td> <td> 0.000</td> <td>    0.076</td> <td>    0.102</td>\n",
       "</tr>\n",
       "<tr>\n",
       "  <th>GA</th>   <td>    0.6470</td> <td>    0.078</td> <td>    8.284</td> <td> 0.000</td> <td>    0.494</td> <td>    0.800</td>\n",
       "</tr>\n",
       "<tr>\n",
       "  <th>SA</th>   <td>  -11.0543</td> <td>    0.741</td> <td>  -14.921</td> <td> 0.000</td> <td>  -12.507</td> <td>   -9.602</td>\n",
       "</tr>\n",
       "<tr>\n",
       "  <th>SV</th>   <td>   10.9265</td> <td>    0.667</td> <td>   16.391</td> <td> 0.000</td> <td>    9.620</td> <td>   12.233</td>\n",
       "</tr>\n",
       "<tr>\n",
       "  <th>MIN</th>  <td>   -0.2522</td> <td>    0.039</td> <td>   -6.462</td> <td> 0.000</td> <td>   -0.329</td> <td>   -0.176</td>\n",
       "</tr>\n",
       "<tr>\n",
       "  <th>QS</th>   <td>   -0.0257</td> <td>    0.003</td> <td>   -7.798</td> <td> 0.000</td> <td>   -0.032</td> <td>   -0.019</td>\n",
       "</tr>\n",
       "<tr>\n",
       "  <th>GSAA</th> <td>    0.1184</td> <td>    0.004</td> <td>   28.544</td> <td> 0.000</td> <td>    0.110</td> <td>    0.126</td>\n",
       "</tr>\n",
       "</table>\n",
       "<table class=\"simpletable\">\n",
       "<tr>\n",
       "  <th>Omnibus:</th>       <td>1481.870</td> <th>  Durbin-Watson:     </th> <td>   1.741</td> \n",
       "</tr>\n",
       "<tr>\n",
       "  <th>Prob(Omnibus):</th>  <td> 0.000</td>  <th>  Jarque-Bera (JB):  </th> <td>20110.510</td>\n",
       "</tr>\n",
       "<tr>\n",
       "  <th>Skew:</th>           <td>-1.242</td>  <th>  Prob(JB):          </th> <td>    0.00</td> \n",
       "</tr>\n",
       "<tr>\n",
       "  <th>Kurtosis:</th>       <td>13.249</td>  <th>  Cond. No.          </th> <td>1.03e+03</td> \n",
       "</tr>\n",
       "</table><br/><br/>Warnings:<br/>[1] Standard Errors assume that the covariance matrix of the errors is correctly specified.<br/>[2] The condition number is large, 1.03e+03. This might indicate that there are<br/>strong multicollinearity or other numerical problems."
      ],
      "text/plain": [
       "<class 'statsmodels.iolib.summary.Summary'>\n",
       "\"\"\"\n",
       "                                 OLS Regression Results                                \n",
       "=======================================================================================\n",
       "Dep. Variable:                    GPS   R-squared (uncentered):                   0.970\n",
       "Model:                            OLS   Adj. R-squared (uncentered):              0.970\n",
       "Method:                 Least Squares   F-statistic:                          1.389e+04\n",
       "Date:                Sat, 20 Jun 2020   Prob (F-statistic):                        0.00\n",
       "Time:                        22:04:40   Log-Likelihood:                          1434.8\n",
       "No. Observations:                4340   AIC:                                     -2850.\n",
       "Df Residuals:                    4330   BIC:                                     -2786.\n",
       "Df Model:                          10                                                  \n",
       "Covariance Type:            nonrobust                                                  \n",
       "==============================================================================\n",
       "                 coef    std err          t      P>|t|      [0.025      0.975]\n",
       "------------------------------------------------------------------------------\n",
       "GP             0.0996      0.011      9.058      0.000       0.078       0.121\n",
       "W              0.4036      0.016     25.649      0.000       0.373       0.434\n",
       "L              0.1493      0.014     10.583      0.000       0.122       0.177\n",
       "T/O            0.0891      0.007     13.585      0.000       0.076       0.102\n",
       "GA             0.6470      0.078      8.284      0.000       0.494       0.800\n",
       "SA           -11.0543      0.741    -14.921      0.000     -12.507      -9.602\n",
       "SV            10.9265      0.667     16.391      0.000       9.620      12.233\n",
       "MIN           -0.2522      0.039     -6.462      0.000      -0.329      -0.176\n",
       "QS            -0.0257      0.003     -7.798      0.000      -0.032      -0.019\n",
       "GSAA           0.1184      0.004     28.544      0.000       0.110       0.126\n",
       "==============================================================================\n",
       "Omnibus:                     1481.870   Durbin-Watson:                   1.741\n",
       "Prob(Omnibus):                  0.000   Jarque-Bera (JB):            20110.510\n",
       "Skew:                          -1.242   Prob(JB):                         0.00\n",
       "Kurtosis:                      13.249   Cond. No.                     1.03e+03\n",
       "==============================================================================\n",
       "\n",
       "Warnings:\n",
       "[1] Standard Errors assume that the covariance matrix of the errors is correctly specified.\n",
       "[2] The condition number is large, 1.03e+03. This might indicate that there are\n",
       "strong multicollinearity or other numerical problems.\n",
       "\"\"\""
      ]
     },
     "execution_count": 7,
     "metadata": {},
     "output_type": "execute_result"
    }
   ],
   "source": [
    "model = sm.OLS(y, X).fit()\n",
    "predictions = model.predict(X)\n",
    "model.summary()"
   ]
  },
  {
   "cell_type": "code",
   "execution_count": null,
   "metadata": {},
   "outputs": [],
   "source": []
  }
 ],
 "metadata": {
  "kernelspec": {
   "display_name": "Python 3",
   "language": "python",
   "name": "python3"
  },
  "language_info": {
   "codemirror_mode": {
    "name": "ipython",
    "version": 3
   },
   "file_extension": ".py",
   "mimetype": "text/x-python",
   "name": "python",
   "nbconvert_exporter": "python",
   "pygments_lexer": "ipython3",
   "version": "3.6.7"
  }
 },
 "nbformat": 4,
 "nbformat_minor": 4
}
