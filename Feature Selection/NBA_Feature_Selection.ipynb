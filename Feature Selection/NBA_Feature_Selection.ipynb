{
 "cells": [
  {
   "cell_type": "code",
   "execution_count": 2,
   "metadata": {},
   "outputs": [],
   "source": [
    "# import required package for data handling\n",
    "import pandas as pd\n",
    "import numpy as np\n",
    "\n",
    "# import required packages for splitting data\n",
    "from sklearn import model_selection\n",
    "from sklearn.model_selection import cross_val_score\n",
    "from sklearn.model_selection import train_test_split\n",
    "\n",
    "# import required packages for evaluating models\n",
    "from sklearn import metrics\n",
    "from sklearn.metrics import confusion_matrix\n",
    "from sklearn.metrics import classification_report\n",
    "from sklearn.metrics import roc_auc_score\n",
    "from sklearn.metrics import accuracy_score\n",
    "from sklearn.metrics import precision_recall_fscore_support\n",
    "\n",
    "# import `linear regression` model\n",
    "from sklearn.linear_model import LinearRegression\n",
    "from sklearn.feature_selection import RFE\n",
    "from sklearn import datasets"
   ]
  },
  {
   "cell_type": "code",
   "execution_count": 3,
   "metadata": {},
   "outputs": [
    {
     "data": {
      "text/html": [
       "<div>\n",
       "<style scoped>\n",
       "    .dataframe tbody tr th:only-of-type {\n",
       "        vertical-align: middle;\n",
       "    }\n",
       "\n",
       "    .dataframe tbody tr th {\n",
       "        vertical-align: top;\n",
       "    }\n",
       "\n",
       "    .dataframe thead th {\n",
       "        text-align: right;\n",
       "    }\n",
       "</style>\n",
       "<table border=\"1\" class=\"dataframe\">\n",
       "  <thead>\n",
       "    <tr style=\"text-align: right;\">\n",
       "      <th></th>\n",
       "      <th>Player</th>\n",
       "      <th>Pos</th>\n",
       "      <th>Tm</th>\n",
       "      <th>Season</th>\n",
       "      <th>G</th>\n",
       "      <th>MP</th>\n",
       "      <th>PER</th>\n",
       "      <th>USG%</th>\n",
       "      <th>Age</th>\n",
       "      <th>3PAr</th>\n",
       "      <th>...</th>\n",
       "      <th>BPM</th>\n",
       "      <th>VORP</th>\n",
       "      <th>TS%</th>\n",
       "      <th>ORB%</th>\n",
       "      <th>DRB%</th>\n",
       "      <th>TRB%</th>\n",
       "      <th>AST%</th>\n",
       "      <th>STL%</th>\n",
       "      <th>BLK%</th>\n",
       "      <th>TOV%</th>\n",
       "    </tr>\n",
       "  </thead>\n",
       "  <tbody>\n",
       "    <tr>\n",
       "      <th>0</th>\n",
       "      <td>Bam Adebayo</td>\n",
       "      <td>PF</td>\n",
       "      <td>MIA</td>\n",
       "      <td>2019-20</td>\n",
       "      <td>0.551087</td>\n",
       "      <td>1.120764</td>\n",
       "      <td>1.313764</td>\n",
       "      <td>0.548880</td>\n",
       "      <td>-1.325962</td>\n",
       "      <td>-0.692689</td>\n",
       "      <td>...</td>\n",
       "      <td>1.790051</td>\n",
       "      <td>1.845887</td>\n",
       "      <td>0.734104</td>\n",
       "      <td>0.832066</td>\n",
       "      <td>1.507171</td>\n",
       "      <td>1.358130</td>\n",
       "      <td>1.170480</td>\n",
       "      <td>0.353085</td>\n",
       "      <td>1.494971</td>\n",
       "      <td>0.629136</td>\n",
       "    </tr>\n",
       "    <tr>\n",
       "      <th>1</th>\n",
       "      <td>LaMarcus Aldridge</td>\n",
       "      <td>C</td>\n",
       "      <td>SAS</td>\n",
       "      <td>2019-20</td>\n",
       "      <td>0.101297</td>\n",
       "      <td>0.606174</td>\n",
       "      <td>1.183976</td>\n",
       "      <td>0.887205</td>\n",
       "      <td>1.664096</td>\n",
       "      <td>0.770502</td>\n",
       "      <td>...</td>\n",
       "      <td>1.383781</td>\n",
       "      <td>1.141793</td>\n",
       "      <td>0.522398</td>\n",
       "      <td>0.424212</td>\n",
       "      <td>0.722046</td>\n",
       "      <td>0.553944</td>\n",
       "      <td>0.066915</td>\n",
       "      <td>-0.356505</td>\n",
       "      <td>1.616278</td>\n",
       "      <td>-0.502719</td>\n",
       "    </tr>\n",
       "    <tr>\n",
       "      <th>2</th>\n",
       "      <td>Nickeil Alexander-Walker</td>\n",
       "      <td>SG</td>\n",
       "      <td>NOP</td>\n",
       "      <td>2019-20</td>\n",
       "      <td>-0.348494</td>\n",
       "      <td>-0.734329</td>\n",
       "      <td>-0.795286</td>\n",
       "      <td>0.790540</td>\n",
       "      <td>-1.719670</td>\n",
       "      <td>1.565334</td>\n",
       "      <td>...</td>\n",
       "      <td>-0.915684</td>\n",
       "      <td>-1.135714</td>\n",
       "      <td>-0.307251</td>\n",
       "      <td>-0.777508</td>\n",
       "      <td>0.417676</td>\n",
       "      <td>-0.070813</td>\n",
       "      <td>0.913336</td>\n",
       "      <td>-0.356505</td>\n",
       "      <td>0.415725</td>\n",
       "      <td>0.282187</td>\n",
       "    </tr>\n",
       "    <tr>\n",
       "      <th>3</th>\n",
       "      <td>Grayson Allen</td>\n",
       "      <td>SG</td>\n",
       "      <td>MEM</td>\n",
       "      <td>2019-20</td>\n",
       "      <td>-0.760802</td>\n",
       "      <td>-0.737538</td>\n",
       "      <td>-0.178794</td>\n",
       "      <td>0.198473</td>\n",
       "      <td>-0.631654</td>\n",
       "      <td>1.567652</td>\n",
       "      <td>...</td>\n",
       "      <td>-0.673177</td>\n",
       "      <td>-0.468622</td>\n",
       "      <td>0.558990</td>\n",
       "      <td>-1.032885</td>\n",
       "      <td>0.098590</td>\n",
       "      <td>-0.335712</td>\n",
       "      <td>0.111803</td>\n",
       "      <td>-0.848787</td>\n",
       "      <td>-0.881114</td>\n",
       "      <td>-0.136112</td>\n",
       "    </tr>\n",
       "    <tr>\n",
       "      <th>4</th>\n",
       "      <td>Jarrett Allen</td>\n",
       "      <td>C</td>\n",
       "      <td>BRK</td>\n",
       "      <td>2019-20</td>\n",
       "      <td>0.513605</td>\n",
       "      <td>0.491702</td>\n",
       "      <td>1.265094</td>\n",
       "      <td>-0.151934</td>\n",
       "      <td>-1.719670</td>\n",
       "      <td>-0.771857</td>\n",
       "      <td>...</td>\n",
       "      <td>1.555607</td>\n",
       "      <td>1.250756</td>\n",
       "      <td>1.041468</td>\n",
       "      <td>1.347979</td>\n",
       "      <td>1.507171</td>\n",
       "      <td>1.602864</td>\n",
       "      <td>-0.384108</td>\n",
       "      <td>-0.244942</td>\n",
       "      <td>1.597627</td>\n",
       "      <td>0.042377</td>\n",
       "    </tr>\n",
       "  </tbody>\n",
       "</table>\n",
       "<p>5 rows × 27 columns</p>\n",
       "</div>"
      ],
      "text/plain": [
       "                     Player  Pos    Tm   Season         G        MP       PER  \\\n",
       "0               Bam Adebayo   PF   MIA  2019-20  0.551087  1.120764  1.313764   \n",
       "1         LaMarcus Aldridge    C   SAS  2019-20  0.101297  0.606174  1.183976   \n",
       "2  Nickeil Alexander-Walker   SG   NOP  2019-20 -0.348494 -0.734329 -0.795286   \n",
       "3             Grayson Allen   SG   MEM  2019-20 -0.760802 -0.737538 -0.178794   \n",
       "4             Jarrett Allen    C   BRK  2019-20  0.513605  0.491702  1.265094   \n",
       "\n",
       "       USG%       Age      3PAr  ...       BPM      VORP       TS%      ORB%  \\\n",
       "0  0.548880 -1.325962 -0.692689  ...  1.790051  1.845887  0.734104  0.832066   \n",
       "1  0.887205  1.664096  0.770502  ...  1.383781  1.141793  0.522398  0.424212   \n",
       "2  0.790540 -1.719670  1.565334  ... -0.915684 -1.135714 -0.307251 -0.777508   \n",
       "3  0.198473 -0.631654  1.567652  ... -0.673177 -0.468622  0.558990 -1.032885   \n",
       "4 -0.151934 -1.719670 -0.771857  ...  1.555607  1.250756  1.041468  1.347979   \n",
       "\n",
       "       DRB%      TRB%      AST%      STL%      BLK%      TOV%  \n",
       "0  1.507171  1.358130  1.170480  0.353085  1.494971  0.629136  \n",
       "1  0.722046  0.553944  0.066915 -0.356505  1.616278 -0.502719  \n",
       "2  0.417676 -0.070813  0.913336 -0.356505  0.415725  0.282187  \n",
       "3  0.098590 -0.335712  0.111803 -0.848787 -0.881114 -0.136112  \n",
       "4  1.507171  1.602864 -0.384108 -0.244942  1.597627  0.042377  \n",
       "\n",
       "[5 rows x 27 columns]"
      ]
     },
     "execution_count": 3,
     "metadata": {},
     "output_type": "execute_result"
    }
   ],
   "source": [
    "data = pd.read_csv('../../Capstone/Data/NBApipeline1.csv', header=0)\n",
    "data.head()"
   ]
  },
  {
   "cell_type": "code",
   "execution_count": 4,
   "metadata": {},
   "outputs": [
    {
     "data": {
      "text/plain": [
       "Player     object\n",
       "Pos        object\n",
       "Tm         object\n",
       "Season     object\n",
       "G         float64\n",
       "MP        float64\n",
       "PER       float64\n",
       "USG%      float64\n",
       "Age       float64\n",
       "3PAr      float64\n",
       "FTr       float64\n",
       "OWS       float64\n",
       "DWS       float64\n",
       "WS        float64\n",
       "WS/48     float64\n",
       "OBPM      float64\n",
       "DBPM      float64\n",
       "BPM       float64\n",
       "VORP      float64\n",
       "TS%       float64\n",
       "ORB%      float64\n",
       "DRB%      float64\n",
       "TRB%      float64\n",
       "AST%      float64\n",
       "STL%      float64\n",
       "BLK%      float64\n",
       "TOV%      float64\n",
       "dtype: object"
      ]
     },
     "execution_count": 4,
     "metadata": {},
     "output_type": "execute_result"
    }
   ],
   "source": [
    "data.dtypes"
   ]
  },
  {
   "cell_type": "code",
   "execution_count": 5,
   "metadata": {},
   "outputs": [
    {
     "data": {
      "text/plain": [
       "Index(['Player', 'Pos', 'Tm', 'Season', 'G', 'MP', 'PER', 'USG%', 'Age',\n",
       "       '3PAr', 'FTr', 'OWS', 'DWS', 'WS', 'WS/48', 'OBPM', 'DBPM', 'BPM',\n",
       "       'VORP', 'TS%', 'ORB%', 'DRB%', 'TRB%', 'AST%', 'STL%', 'BLK%', 'TOV%'],\n",
       "      dtype='object')"
      ]
     },
     "execution_count": 5,
     "metadata": {},
     "output_type": "execute_result"
    }
   ],
   "source": [
    "data.columns"
   ]
  },
  {
   "cell_type": "code",
   "execution_count": 6,
   "metadata": {},
   "outputs": [
    {
     "data": {
      "text/plain": [
       "'WS'"
      ]
     },
     "execution_count": 6,
     "metadata": {},
     "output_type": "execute_result"
    }
   ],
   "source": [
    "list(data.columns)[13]"
   ]
  },
  {
   "cell_type": "markdown",
   "metadata": {},
   "source": [
    "\n",
    "Features highly correlated to the target (WS) (from pipeline) : G, MP, PER, OWS, DWS, WS/48, OBPM, BPM, VORP, TS%"
   ]
  },
  {
   "cell_type": "code",
   "execution_count": 7,
   "metadata": {},
   "outputs": [
    {
     "name": "stdout",
     "output_type": "stream",
     "text": [
      "Num Features: 10\n",
      "Selected Features: [ True  True False  True  True  True  True  True  True False  True  True]\n",
      "Feature Ranking: [1 1 3 1 1 1 1 1 1 2 1 1]\n"
     ]
    }
   ],
   "source": [
    "dataframe = data\n",
    "array = dataframe.values\n",
    "X = dataframe[['USG%', 'Age',\n",
    "       '3PAr', 'FTr', 'DBPM', \n",
    "        'ORB%', 'DRB%', 'TRB%', 'AST%', 'STL%', 'BLK%', 'TOV%']].to_numpy()\n",
    "Y = array[:,13] #target\n",
    "\n",
    "# create a base classifier used to evaluate a subset of attributes\n",
    "model = LinearRegression()\n",
    "\n",
    "# create the RFE model and select 5 attributes\n",
    "rfe = RFE(model, 10)\n",
    "fit = rfe.fit(X, Y)\n",
    "\n",
    "# summarize the selection of the attributes for Y1\n",
    "print(\"Num Features: %s\" % (fit.n_features_))\n",
    "print(\"Selected Features: %s\" % (fit.support_))\n",
    "print(\"Feature Ranking: %s\" % (fit.ranking_))\n",
    "\n",
    "X_reduced = rfe.transform(X)"
   ]
  },
  {
   "cell_type": "markdown",
   "metadata": {},
   "source": [
    "**Top ten columns:**\n",
    "'USG%', 'Age','FTr', 'DBPM', 'ORB%', 'DRB%', 'TRB%', 'AST%', 'BLK%', 'TOV%'"
   ]
  },
  {
   "cell_type": "code",
   "execution_count": null,
   "metadata": {},
   "outputs": [],
   "source": []
  }
 ],
 "metadata": {
  "kernelspec": {
   "display_name": "Python 3",
   "language": "python",
   "name": "python3"
  },
  "language_info": {
   "codemirror_mode": {
    "name": "ipython",
    "version": 3
   },
   "file_extension": ".py",
   "mimetype": "text/x-python",
   "name": "python",
   "nbconvert_exporter": "python",
   "pygments_lexer": "ipython3",
   "version": "3.6.7"
  }
 },
 "nbformat": 4,
 "nbformat_minor": 4
}
