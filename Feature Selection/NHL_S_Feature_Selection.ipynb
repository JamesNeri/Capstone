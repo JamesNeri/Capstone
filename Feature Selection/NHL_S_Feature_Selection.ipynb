{
 "cells": [
  {
   "cell_type": "code",
   "execution_count": 1,
   "metadata": {},
   "outputs": [],
   "source": [
    "# import required package for data handling\n",
    "import pandas as pd\n",
    "import numpy as np\n",
    "\n",
    "# import required packages for splitting data\n",
    "from sklearn import model_selection\n",
    "from sklearn.model_selection import cross_val_score\n",
    "from sklearn.model_selection import train_test_split\n",
    "\n",
    "# import required packages for evaluating models\n",
    "from sklearn import metrics\n",
    "from sklearn.metrics import confusion_matrix\n",
    "from sklearn.metrics import classification_report\n",
    "from sklearn.metrics import roc_auc_score\n",
    "from sklearn.metrics import accuracy_score\n",
    "from sklearn.metrics import precision_recall_fscore_support\n",
    "\n",
    "# import `linear regression` model\n",
    "from sklearn.linear_model import LinearRegression\n",
    "from sklearn.feature_selection import RFE\n",
    "from sklearn import datasets"
   ]
  },
  {
   "cell_type": "code",
   "execution_count": 2,
   "metadata": {},
   "outputs": [
    {
     "data": {
      "text/html": [
       "<div>\n",
       "<style scoped>\n",
       "    .dataframe tbody tr th:only-of-type {\n",
       "        vertical-align: middle;\n",
       "    }\n",
       "\n",
       "    .dataframe tbody tr th {\n",
       "        vertical-align: top;\n",
       "    }\n",
       "\n",
       "    .dataframe thead th {\n",
       "        text-align: right;\n",
       "    }\n",
       "</style>\n",
       "<table border=\"1\" class=\"dataframe\">\n",
       "  <thead>\n",
       "    <tr style=\"text-align: right;\">\n",
       "      <th></th>\n",
       "      <th>Player</th>\n",
       "      <th>Tm</th>\n",
       "      <th>Pos</th>\n",
       "      <th>Season</th>\n",
       "      <th>GP</th>\n",
       "      <th>Age</th>\n",
       "      <th>G</th>\n",
       "      <th>A</th>\n",
       "      <th>PTS</th>\n",
       "      <th>PlusMinus</th>\n",
       "      <th>...</th>\n",
       "      <th>BLK</th>\n",
       "      <th>HIT</th>\n",
       "      <th>FOW</th>\n",
       "      <th>FOL</th>\n",
       "      <th>EVa</th>\n",
       "      <th>PPa</th>\n",
       "      <th>SHa</th>\n",
       "      <th>S%</th>\n",
       "      <th>FO%</th>\n",
       "      <th>TOI</th>\n",
       "    </tr>\n",
       "  </thead>\n",
       "  <tbody>\n",
       "    <tr>\n",
       "      <th>0</th>\n",
       "      <td>Justin Abdelkader</td>\n",
       "      <td>DET</td>\n",
       "      <td>LW</td>\n",
       "      <td>2019-20</td>\n",
       "      <td>0.129322</td>\n",
       "      <td>1.275748</td>\n",
       "      <td>-1.392401</td>\n",
       "      <td>-0.627304</td>\n",
       "      <td>-0.843865</td>\n",
       "      <td>-1.195139</td>\n",
       "      <td>...</td>\n",
       "      <td>1.620722</td>\n",
       "      <td>1.597031</td>\n",
       "      <td>2.265950</td>\n",
       "      <td>2.170863</td>\n",
       "      <td>-0.497183</td>\n",
       "      <td>-0.967626</td>\n",
       "      <td>-0.471173</td>\n",
       "      <td>-1.523824</td>\n",
       "      <td>2.207628</td>\n",
       "      <td>1.058415</td>\n",
       "    </tr>\n",
       "    <tr>\n",
       "      <th>1</th>\n",
       "      <td>Pontus Aberg</td>\n",
       "      <td>TOR</td>\n",
       "      <td>LW</td>\n",
       "      <td>2019-20</td>\n",
       "      <td>-1.440610</td>\n",
       "      <td>0.057177</td>\n",
       "      <td>-1.392401</td>\n",
       "      <td>-1.122613</td>\n",
       "      <td>-1.263628</td>\n",
       "      <td>0.123334</td>\n",
       "      <td>...</td>\n",
       "      <td>1.154371</td>\n",
       "      <td>1.039483</td>\n",
       "      <td>-0.452768</td>\n",
       "      <td>-0.473088</td>\n",
       "      <td>-1.052503</td>\n",
       "      <td>-0.967626</td>\n",
       "      <td>-0.471173</td>\n",
       "      <td>-1.523824</td>\n",
       "      <td>-0.453231</td>\n",
       "      <td>0.373404</td>\n",
       "    </tr>\n",
       "    <tr>\n",
       "      <th>2</th>\n",
       "      <td>Vitaly Abramov</td>\n",
       "      <td>OTT</td>\n",
       "      <td>RW</td>\n",
       "      <td>2019-20</td>\n",
       "      <td>-1.547651</td>\n",
       "      <td>-1.370347</td>\n",
       "      <td>-0.760365</td>\n",
       "      <td>-1.566057</td>\n",
       "      <td>-1.263628</td>\n",
       "      <td>0.123334</td>\n",
       "      <td>...</td>\n",
       "      <td>-0.634327</td>\n",
       "      <td>-0.649424</td>\n",
       "      <td>-0.452768</td>\n",
       "      <td>-0.473088</td>\n",
       "      <td>-1.538308</td>\n",
       "      <td>-0.967626</td>\n",
       "      <td>-0.471173</td>\n",
       "      <td>2.180947</td>\n",
       "      <td>-0.453231</td>\n",
       "      <td>-0.018214</td>\n",
       "    </tr>\n",
       "    <tr>\n",
       "      <th>3</th>\n",
       "      <td>Noel Acciari</td>\n",
       "      <td>FLA</td>\n",
       "      <td>C</td>\n",
       "      <td>2019-20</td>\n",
       "      <td>0.735886</td>\n",
       "      <td>0.510296</td>\n",
       "      <td>1.274448</td>\n",
       "      <td>-0.074064</td>\n",
       "      <td>0.656002</td>\n",
       "      <td>0.289506</td>\n",
       "      <td>...</td>\n",
       "      <td>1.646544</td>\n",
       "      <td>1.599535</td>\n",
       "      <td>2.268602</td>\n",
       "      <td>2.176225</td>\n",
       "      <td>0.137600</td>\n",
       "      <td>-0.967626</td>\n",
       "      <td>-0.471173</td>\n",
       "      <td>1.257028</td>\n",
       "      <td>2.207148</td>\n",
       "      <td>1.206199</td>\n",
       "    </tr>\n",
       "    <tr>\n",
       "      <th>4</th>\n",
       "      <td>Andrew Agozzino</td>\n",
       "      <td>TOT</td>\n",
       "      <td>LW</td>\n",
       "      <td>2019-20</td>\n",
       "      <td>-0.834046</td>\n",
       "      <td>0.717684</td>\n",
       "      <td>-0.760365</td>\n",
       "      <td>-0.839545</td>\n",
       "      <td>-0.843865</td>\n",
       "      <td>0.370171</td>\n",
       "      <td>...</td>\n",
       "      <td>1.540996</td>\n",
       "      <td>1.554950</td>\n",
       "      <td>2.265950</td>\n",
       "      <td>2.172088</td>\n",
       "      <td>-0.736708</td>\n",
       "      <td>-0.967626</td>\n",
       "      <td>-0.471173</td>\n",
       "      <td>0.484376</td>\n",
       "      <td>2.207354</td>\n",
       "      <td>0.739369</td>\n",
       "    </tr>\n",
       "  </tbody>\n",
       "</table>\n",
       "<p>5 rows × 27 columns</p>\n",
       "</div>"
      ],
      "text/plain": [
       "              Player    Tm  Pos   Season        GP       Age         G  \\\n",
       "0  Justin Abdelkader   DET   LW  2019-20  0.129322  1.275748 -1.392401   \n",
       "1       Pontus Aberg   TOR   LW  2019-20 -1.440610  0.057177 -1.392401   \n",
       "2     Vitaly Abramov   OTT   RW  2019-20 -1.547651 -1.370347 -0.760365   \n",
       "3       Noel Acciari   FLA    C  2019-20  0.735886  0.510296  1.274448   \n",
       "4    Andrew Agozzino   TOT   LW  2019-20 -0.834046  0.717684 -0.760365   \n",
       "\n",
       "          A       PTS  PlusMinus  ...       BLK       HIT       FOW       FOL  \\\n",
       "0 -0.627304 -0.843865  -1.195139  ...  1.620722  1.597031  2.265950  2.170863   \n",
       "1 -1.122613 -1.263628   0.123334  ...  1.154371  1.039483 -0.452768 -0.473088   \n",
       "2 -1.566057 -1.263628   0.123334  ... -0.634327 -0.649424 -0.452768 -0.473088   \n",
       "3 -0.074064  0.656002   0.289506  ...  1.646544  1.599535  2.268602  2.176225   \n",
       "4 -0.839545 -0.843865   0.370171  ...  1.540996  1.554950  2.265950  2.172088   \n",
       "\n",
       "        EVa       PPa       SHa        S%       FO%       TOI  \n",
       "0 -0.497183 -0.967626 -0.471173 -1.523824  2.207628  1.058415  \n",
       "1 -1.052503 -0.967626 -0.471173 -1.523824 -0.453231  0.373404  \n",
       "2 -1.538308 -0.967626 -0.471173  2.180947 -0.453231 -0.018214  \n",
       "3  0.137600 -0.967626 -0.471173  1.257028  2.207148  1.206199  \n",
       "4 -0.736708 -0.967626 -0.471173  0.484376  2.207354  0.739369  \n",
       "\n",
       "[5 rows x 27 columns]"
      ]
     },
     "execution_count": 2,
     "metadata": {},
     "output_type": "execute_result"
    }
   ],
   "source": [
    "data = pd.read_csv('../../Capstone/Data/NHL_Spipeline1.csv', header=0)\n",
    "data.head()"
   ]
  },
  {
   "cell_type": "code",
   "execution_count": 3,
   "metadata": {},
   "outputs": [
    {
     "data": {
      "text/plain": [
       "Player        object\n",
       "Tm            object\n",
       "Pos           object\n",
       "Season        object\n",
       "GP           float64\n",
       "Age          float64\n",
       "G            float64\n",
       "A            float64\n",
       "PTS          float64\n",
       "PlusMinus    float64\n",
       "PIM          float64\n",
       "PS           float64\n",
       "EV           float64\n",
       "PP           float64\n",
       "SH           float64\n",
       "GW           float64\n",
       "S            float64\n",
       "BLK          float64\n",
       "HIT          float64\n",
       "FOW          float64\n",
       "FOL          float64\n",
       "EVa          float64\n",
       "PPa          float64\n",
       "SHa          float64\n",
       "S%           float64\n",
       "FO%          float64\n",
       "TOI          float64\n",
       "dtype: object"
      ]
     },
     "execution_count": 3,
     "metadata": {},
     "output_type": "execute_result"
    }
   ],
   "source": [
    "data.dtypes"
   ]
  },
  {
   "cell_type": "code",
   "execution_count": 4,
   "metadata": {},
   "outputs": [
    {
     "data": {
      "text/plain": [
       "Index(['Player', 'Tm', 'Pos', 'Season', 'GP', 'Age', 'G', 'A', 'PTS',\n",
       "       'PlusMinus', 'PIM', 'PS', 'EV', 'PP', 'SH', 'GW', 'S', 'BLK', 'HIT',\n",
       "       'FOW', 'FOL', 'EVa', 'PPa', 'SHa', 'S%', 'FO%', 'TOI'],\n",
       "      dtype='object')"
      ]
     },
     "execution_count": 4,
     "metadata": {},
     "output_type": "execute_result"
    }
   ],
   "source": [
    "data.columns"
   ]
  },
  {
   "cell_type": "code",
   "execution_count": 5,
   "metadata": {},
   "outputs": [
    {
     "data": {
      "text/plain": [
       "'PS'"
      ]
     },
     "execution_count": 5,
     "metadata": {},
     "output_type": "execute_result"
    }
   ],
   "source": [
    "list(data.columns)[11]"
   ]
  },
  {
   "cell_type": "markdown",
   "metadata": {},
   "source": [
    "Features highly correlated to the target (PS) (from pipeline code):\n",
    "GP, G, A, PTS, EV, PP, GW, S, EVa, PPa"
   ]
  },
  {
   "cell_type": "code",
   "execution_count": 6,
   "metadata": {},
   "outputs": [
    {
     "name": "stdout",
     "output_type": "stream",
     "text": [
      "Num Features: 10\n",
      "Selected Features: [False  True  True  True  True False  True  True  True  True  True  True]\n",
      "Feature Ranking: [3 1 1 1 1 2 1 1 1 1 1 1]\n"
     ]
    }
   ],
   "source": [
    "dataframe = data\n",
    "array = dataframe.values\n",
    "X = dataframe[['Age','PlusMinus', 'PIM',  'SH', 'BLK', 'HIT',\n",
    "       'FOW', 'FOL', 'SHa', 'S%', 'FO%', 'TOI']].to_numpy()\n",
    "Y = array[:,11] #target\n",
    "\n",
    "# create a base classifier used to evaluate a subset of attributes\n",
    "model = LinearRegression()\n",
    "\n",
    "# create the RFE model and select 5 attributes\n",
    "rfe = RFE(model, 10)\n",
    "fit = rfe.fit(X, Y)\n",
    "\n",
    "# summarize the selection of the attributes for Y1\n",
    "print(\"Num Features: %s\" % (fit.n_features_))\n",
    "print(\"Selected Features: %s\" % (fit.support_))\n",
    "print(\"Feature Ranking: %s\" % (fit.ranking_))\n",
    "\n",
    "X_reduced = rfe.transform(X)"
   ]
  },
  {
   "cell_type": "markdown",
   "metadata": {},
   "source": [
    "**Top ten columns:**\n",
    "'PlusMinus', 'PIM', 'SH', 'BLK', 'FOW', 'FOL', 'SHa', 'S%', 'FO%', 'TOI'"
   ]
  },
  {
   "cell_type": "code",
   "execution_count": null,
   "metadata": {},
   "outputs": [],
   "source": []
  }
 ],
 "metadata": {
  "kernelspec": {
   "display_name": "Python 3",
   "language": "python",
   "name": "python3"
  },
  "language_info": {
   "codemirror_mode": {
    "name": "ipython",
    "version": 3
   },
   "file_extension": ".py",
   "mimetype": "text/x-python",
   "name": "python",
   "nbconvert_exporter": "python",
   "pygments_lexer": "ipython3",
   "version": "3.6.7"
  }
 },
 "nbformat": 4,
 "nbformat_minor": 4
}
