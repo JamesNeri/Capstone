{
 "cells": [
  {
   "cell_type": "code",
   "execution_count": 2,
   "metadata": {},
   "outputs": [],
   "source": [
    "# import required package for data handling\n",
    "import pandas as pd\n",
    "import numpy as np\n",
    "\n",
    "# import required packages for splitting data\n",
    "from sklearn import model_selection\n",
    "from sklearn.model_selection import cross_val_score\n",
    "from sklearn.model_selection import train_test_split\n",
    "\n",
    "# import required packages for evaluating models\n",
    "from sklearn import metrics\n",
    "from sklearn.metrics import confusion_matrix\n",
    "from sklearn.metrics import classification_report\n",
    "from sklearn.metrics import roc_auc_score\n",
    "from sklearn.metrics import accuracy_score\n",
    "from sklearn.metrics import precision_recall_fscore_support\n",
    "\n",
    "# import `linear regression` model\n",
    "from sklearn.linear_model import LinearRegression\n",
    "from sklearn.feature_selection import RFE\n",
    "from sklearn import datasets"
   ]
  },
  {
   "cell_type": "code",
   "execution_count": 3,
   "metadata": {},
   "outputs": [
    {
     "data": {
      "text/html": [
       "<div>\n",
       "<style scoped>\n",
       "    .dataframe tbody tr th:only-of-type {\n",
       "        vertical-align: middle;\n",
       "    }\n",
       "\n",
       "    .dataframe tbody tr th {\n",
       "        vertical-align: top;\n",
       "    }\n",
       "\n",
       "    .dataframe thead th {\n",
       "        text-align: right;\n",
       "    }\n",
       "</style>\n",
       "<table border=\"1\" class=\"dataframe\">\n",
       "  <thead>\n",
       "    <tr style=\"text-align: right;\">\n",
       "      <th></th>\n",
       "      <th>Player</th>\n",
       "      <th>Tm</th>\n",
       "      <th>Season</th>\n",
       "      <th>GP</th>\n",
       "      <th>Age</th>\n",
       "      <th>GS</th>\n",
       "      <th>W</th>\n",
       "      <th>L</th>\n",
       "      <th>T/O</th>\n",
       "      <th>GA</th>\n",
       "      <th>...</th>\n",
       "      <th>QS</th>\n",
       "      <th>RBS</th>\n",
       "      <th>GSAA</th>\n",
       "      <th>G</th>\n",
       "      <th>A</th>\n",
       "      <th>PTS</th>\n",
       "      <th>PIM</th>\n",
       "      <th>SV%</th>\n",
       "      <th>QS%</th>\n",
       "      <th>GA%</th>\n",
       "    </tr>\n",
       "  </thead>\n",
       "  <tbody>\n",
       "    <tr>\n",
       "      <th>0</th>\n",
       "      <td>Jake Allen</td>\n",
       "      <td>STL</td>\n",
       "      <td>2019-20</td>\n",
       "      <td>-0.144241</td>\n",
       "      <td>0.448846</td>\n",
       "      <td>1.656912</td>\n",
       "      <td>0.427670</td>\n",
       "      <td>-0.291734</td>\n",
       "      <td>0.271968</td>\n",
       "      <td>-0.205235</td>\n",
       "      <td>...</td>\n",
       "      <td>1.743455</td>\n",
       "      <td>1.753324</td>\n",
       "      <td>0.932415</td>\n",
       "      <td>-0.056888</td>\n",
       "      <td>-0.769744</td>\n",
       "      <td>-0.771244</td>\n",
       "      <td>-0.980026</td>\n",
       "      <td>1.035140</td>\n",
       "      <td>1.723565</td>\n",
       "      <td>0.462239</td>\n",
       "    </tr>\n",
       "    <tr>\n",
       "      <th>1</th>\n",
       "      <td>Frederik Andersen</td>\n",
       "      <td>TOR</td>\n",
       "      <td>2019-20</td>\n",
       "      <td>1.203973</td>\n",
       "      <td>0.650220</td>\n",
       "      <td>1.675556</td>\n",
       "      <td>1.359406</td>\n",
       "      <td>0.521233</td>\n",
       "      <td>1.146744</td>\n",
       "      <td>1.084018</td>\n",
       "      <td>...</td>\n",
       "      <td>1.754784</td>\n",
       "      <td>1.816948</td>\n",
       "      <td>0.012236</td>\n",
       "      <td>-0.056888</td>\n",
       "      <td>-0.769744</td>\n",
       "      <td>-0.771244</td>\n",
       "      <td>-0.980026</td>\n",
       "      <td>0.439087</td>\n",
       "      <td>1.709183</td>\n",
       "      <td>0.680318</td>\n",
       "    </tr>\n",
       "    <tr>\n",
       "      <th>2</th>\n",
       "      <td>Craig Anderson</td>\n",
       "      <td>OTT</td>\n",
       "      <td>2019-20</td>\n",
       "      <td>0.337264</td>\n",
       "      <td>1.977055</td>\n",
       "      <td>1.667000</td>\n",
       "      <td>0.347135</td>\n",
       "      <td>0.868713</td>\n",
       "      <td>-0.079824</td>\n",
       "      <td>0.591681</td>\n",
       "      <td>...</td>\n",
       "      <td>1.743455</td>\n",
       "      <td>1.815210</td>\n",
       "      <td>-0.719290</td>\n",
       "      <td>-0.056888</td>\n",
       "      <td>1.232219</td>\n",
       "      <td>1.229142</td>\n",
       "      <td>-0.980026</td>\n",
       "      <td>0.225163</td>\n",
       "      <td>1.697098</td>\n",
       "      <td>0.775852</td>\n",
       "    </tr>\n",
       "    <tr>\n",
       "      <th>3</th>\n",
       "      <td>David Ayres</td>\n",
       "      <td>CAR</td>\n",
       "      <td>2019-20</td>\n",
       "      <td>-1.251702</td>\n",
       "      <td>2.499695</td>\n",
       "      <td>-0.620108</td>\n",
       "      <td>-1.130241</td>\n",
       "      <td>-1.748781</td>\n",
       "      <td>-1.365050</td>\n",
       "      <td>-1.722523</td>\n",
       "      <td>...</td>\n",
       "      <td>-0.587958</td>\n",
       "      <td>-0.563254</td>\n",
       "      <td>0.047771</td>\n",
       "      <td>-0.056888</td>\n",
       "      <td>-0.769744</td>\n",
       "      <td>-0.771244</td>\n",
       "      <td>-0.980026</td>\n",
       "      <td>-1.999950</td>\n",
       "      <td>-0.588572</td>\n",
       "      <td>-1.420245</td>\n",
       "    </tr>\n",
       "    <tr>\n",
       "      <th>4</th>\n",
       "      <td>Jonathan Bernier</td>\n",
       "      <td>DET</td>\n",
       "      <td>2019-20</td>\n",
       "      <td>0.915070</td>\n",
       "      <td>0.842286</td>\n",
       "      <td>1.672172</td>\n",
       "      <td>0.643307</td>\n",
       "      <td>1.238667</td>\n",
       "      <td>0.271968</td>\n",
       "      <td>0.900905</td>\n",
       "      <td>...</td>\n",
       "      <td>1.747819</td>\n",
       "      <td>1.808395</td>\n",
       "      <td>-0.294056</td>\n",
       "      <td>-0.056888</td>\n",
       "      <td>1.404973</td>\n",
       "      <td>1.403042</td>\n",
       "      <td>0.818993</td>\n",
       "      <td>0.376984</td>\n",
       "      <td>1.687848</td>\n",
       "      <td>0.712655</td>\n",
       "    </tr>\n",
       "  </tbody>\n",
       "</table>\n",
       "<p>5 rows × 26 columns</p>\n",
       "</div>"
      ],
      "text/plain": [
       "              Player    Tm   Season        GP       Age        GS         W  \\\n",
       "0         Jake Allen   STL  2019-20 -0.144241  0.448846  1.656912  0.427670   \n",
       "1  Frederik Andersen   TOR  2019-20  1.203973  0.650220  1.675556  1.359406   \n",
       "2     Craig Anderson   OTT  2019-20  0.337264  1.977055  1.667000  0.347135   \n",
       "3        David Ayres   CAR  2019-20 -1.251702  2.499695 -0.620108 -1.130241   \n",
       "4   Jonathan Bernier   DET  2019-20  0.915070  0.842286  1.672172  0.643307   \n",
       "\n",
       "          L       T/O        GA  ...        QS       RBS      GSAA         G  \\\n",
       "0 -0.291734  0.271968 -0.205235  ...  1.743455  1.753324  0.932415 -0.056888   \n",
       "1  0.521233  1.146744  1.084018  ...  1.754784  1.816948  0.012236 -0.056888   \n",
       "2  0.868713 -0.079824  0.591681  ...  1.743455  1.815210 -0.719290 -0.056888   \n",
       "3 -1.748781 -1.365050 -1.722523  ... -0.587958 -0.563254  0.047771 -0.056888   \n",
       "4  1.238667  0.271968  0.900905  ...  1.747819  1.808395 -0.294056 -0.056888   \n",
       "\n",
       "          A       PTS       PIM       SV%       QS%       GA%  \n",
       "0 -0.769744 -0.771244 -0.980026  1.035140  1.723565  0.462239  \n",
       "1 -0.769744 -0.771244 -0.980026  0.439087  1.709183  0.680318  \n",
       "2  1.232219  1.229142 -0.980026  0.225163  1.697098  0.775852  \n",
       "3 -0.769744 -0.771244 -0.980026 -1.999950 -0.588572 -1.420245  \n",
       "4  1.404973  1.403042  0.818993  0.376984  1.687848  0.712655  \n",
       "\n",
       "[5 rows x 26 columns]"
      ]
     },
     "execution_count": 3,
     "metadata": {},
     "output_type": "execute_result"
    }
   ],
   "source": [
    "data = pd.read_csv('../../Capstone/Data/NHL_Gpipeline1.csv', header=0)\n",
    "data.head()"
   ]
  },
  {
   "cell_type": "code",
   "execution_count": 4,
   "metadata": {},
   "outputs": [
    {
     "data": {
      "text/plain": [
       "Player     object\n",
       "Tm         object\n",
       "Season     object\n",
       "GP        float64\n",
       "Age       float64\n",
       "GS        float64\n",
       "W         float64\n",
       "L         float64\n",
       "T/O       float64\n",
       "GA        float64\n",
       "SA        float64\n",
       "SV        float64\n",
       "GAA       float64\n",
       "SO        float64\n",
       "GPS       float64\n",
       "MIN       float64\n",
       "QS        float64\n",
       "RBS       float64\n",
       "GSAA      float64\n",
       "G         float64\n",
       "A         float64\n",
       "PTS       float64\n",
       "PIM       float64\n",
       "SV%       float64\n",
       "QS%       float64\n",
       "GA%       float64\n",
       "dtype: object"
      ]
     },
     "execution_count": 4,
     "metadata": {},
     "output_type": "execute_result"
    }
   ],
   "source": [
    "data.dtypes"
   ]
  },
  {
   "cell_type": "code",
   "execution_count": 5,
   "metadata": {},
   "outputs": [
    {
     "data": {
      "text/plain": [
       "Index(['Player', 'Tm', 'Season', 'GP', 'Age', 'GS', 'W', 'L', 'T/O', 'GA',\n",
       "       'SA', 'SV', 'GAA', 'SO', 'GPS', 'MIN', 'QS', 'RBS', 'GSAA', 'G', 'A',\n",
       "       'PTS', 'PIM', 'SV%', 'QS%', 'GA%'],\n",
       "      dtype='object')"
      ]
     },
     "execution_count": 5,
     "metadata": {},
     "output_type": "execute_result"
    }
   ],
   "source": [
    "data.columns"
   ]
  },
  {
   "cell_type": "code",
   "execution_count": 6,
   "metadata": {},
   "outputs": [
    {
     "data": {
      "text/plain": [
       "'GPS'"
      ]
     },
     "execution_count": 6,
     "metadata": {},
     "output_type": "execute_result"
    }
   ],
   "source": [
    "list(data.columns)[14]"
   ]
  },
  {
   "cell_type": "markdown",
   "metadata": {},
   "source": [
    "Features highly correlated to the target (GPS) (from pipeline code): GP, W, L, T/O, GA, SA, SV, SO, MIN, A, PTS, PIM, GA%"
   ]
  },
  {
   "cell_type": "code",
   "execution_count": 7,
   "metadata": {},
   "outputs": [
    {
     "name": "stdout",
     "output_type": "stream",
     "text": [
      "Num Features: 9\n",
      "Selected Features: [ True  True  True  True  True  True  True  True  True]\n",
      "Feature Ranking: [1 1 1 1 1 1 1 1 1]\n"
     ]
    }
   ],
   "source": [
    "dataframe = data\n",
    "array = dataframe.values\n",
    "X = dataframe[[ 'Age', 'GS',  'GAA',  'QS', 'RBS', 'GSAA', 'G', 'SV%', 'QS%', ]].to_numpy()\n",
    "Y = array[:,14] #target\n",
    "\n",
    "# create a base classifier used to evaluate a subset of attributes\n",
    "model = LinearRegression()\n",
    "\n",
    "# create the RFE model and select 5 attributes\n",
    "rfe = RFE(model, 10)\n",
    "fit = rfe.fit(X, Y)\n",
    "\n",
    "# summarize the selection of the attributes for Y1\n",
    "print(\"Num Features: %s\" % (fit.n_features_))\n",
    "print(\"Selected Features: %s\" % (fit.support_))\n",
    "print(\"Feature Ranking: %s\" % (fit.ranking_))\n",
    "\n",
    "X_reduced = rfe.transform(X)"
   ]
  },
  {
   "cell_type": "markdown",
   "metadata": {},
   "source": [
    "**Top ten columns:**\n",
    "'GP', 'W', 'L', 'T/O', 'GA', 'SA', 'SV', 'MIN', 'QS', 'GSAA'"
   ]
  },
  {
   "cell_type": "code",
   "execution_count": null,
   "metadata": {},
   "outputs": [],
   "source": []
  }
 ],
 "metadata": {
  "kernelspec": {
   "display_name": "Python 3",
   "language": "python",
   "name": "python3"
  },
  "language_info": {
   "codemirror_mode": {
    "name": "ipython",
    "version": 3
   },
   "file_extension": ".py",
   "mimetype": "text/x-python",
   "name": "python",
   "nbconvert_exporter": "python",
   "pygments_lexer": "ipython3",
   "version": "3.6.7"
  }
 },
 "nbformat": 4,
 "nbformat_minor": 4
}
