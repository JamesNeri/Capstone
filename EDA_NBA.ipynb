{
 "cells": [
  {
   "cell_type": "markdown",
   "metadata": {},
   "source": [
    "# Initial Data Cleaning and EDA "
   ]
  },
  {
   "cell_type": "code",
   "execution_count": 1,
   "metadata": {},
   "outputs": [],
   "source": [
    "# data handling\n",
    "import sweetviz as sv\n",
    "import pandas as pd\n",
    "import numpy as np\n",
    "import seaborn as sns\n",
    "import matplotlib as plt\n",
    "import matplotlib.pyplot as plt\n",
    "from pandas import DataFrame\n",
    "%matplotlib inline\n",
    "\n",
    "# splitting data\n",
    "from sklearn import model_selection\n",
    "from sklearn.model_selection import cross_val_score\n",
    "from sklearn.model_selection import train_test_split\n",
    "\n",
    "# evaluating models\n",
    "from sklearn import metrics\n",
    "from sklearn.metrics import confusion_matrix\n",
    "from sklearn.metrics import classification_report\n",
    "from sklearn.metrics import roc_auc_score\n",
    "from sklearn.metrics import accuracy_score\n",
    "from sklearn.metrics import precision_recall_fscore_support\n",
    "from scipy.stats import boxcox\n",
    "from scipy import stats\n",
    "\n",
    "# `logistic regression` model\n",
    "from sklearn.linear_model import LogisticRegression"
   ]
  },
  {
   "cell_type": "code",
   "execution_count": 2,
   "metadata": {},
   "outputs": [],
   "source": [
    "data = pd.read_csv('../Capstone/Data/NBA_Advanced_Data.csv')"
   ]
  },
  {
   "cell_type": "code",
   "execution_count": 3,
   "metadata": {},
   "outputs": [
    {
     "data": {
      "text/plain": [
       "Player    object\n",
       "Pos       object\n",
       "Age        int64\n",
       "Tm        object\n",
       "G          int64\n",
       "MP        object\n",
       "PER       object\n",
       "TSpct     object\n",
       "3PAr      object\n",
       "FTr       object\n",
       "ORBpct    object\n",
       "DRBpct    object\n",
       "TRBpct    object\n",
       "ASTpct    object\n",
       "STLpct    object\n",
       "BLKpct    object\n",
       "TOVpct    object\n",
       "USGpct    object\n",
       "OWS       object\n",
       "DWS       object\n",
       "WS        object\n",
       "WS/48     object\n",
       "OBPM      object\n",
       "DBPM      object\n",
       "BPM       object\n",
       "VORP      object\n",
       "Season    object\n",
       "dtype: object"
      ]
     },
     "execution_count": 3,
     "metadata": {},
     "output_type": "execute_result"
    }
   ],
   "source": [
    "data.dtypes"
   ]
  },
  {
   "cell_type": "code",
   "execution_count": 4,
   "metadata": {},
   "outputs": [],
   "source": [
    "data['MP'] = pd.to_numeric(data['MP'], errors='coerce')"
   ]
  },
  {
   "cell_type": "code",
   "execution_count": 5,
   "metadata": {},
   "outputs": [],
   "source": [
    "data['PER'] = pd.to_numeric(data['PER'], errors='coerce')"
   ]
  },
  {
   "cell_type": "code",
   "execution_count": 6,
   "metadata": {},
   "outputs": [],
   "source": [
    "data['TS%'] = pd.to_numeric(data['TSpct'], errors='coerce')"
   ]
  },
  {
   "cell_type": "code",
   "execution_count": 7,
   "metadata": {},
   "outputs": [],
   "source": [
    "data['3PAr'] = pd.to_numeric(data['3PAr'], errors='coerce')"
   ]
  },
  {
   "cell_type": "code",
   "execution_count": 8,
   "metadata": {},
   "outputs": [],
   "source": [
    "data['FTr'] = pd.to_numeric(data['FTr'], errors='coerce')"
   ]
  },
  {
   "cell_type": "code",
   "execution_count": 9,
   "metadata": {},
   "outputs": [],
   "source": [
    "data['ORB%'] = pd.to_numeric(data['ORBpct'], errors='coerce')"
   ]
  },
  {
   "cell_type": "code",
   "execution_count": 10,
   "metadata": {},
   "outputs": [],
   "source": [
    "data['DRB%'] = pd.to_numeric(data['DRBpct'], errors='coerce')"
   ]
  },
  {
   "cell_type": "code",
   "execution_count": 11,
   "metadata": {},
   "outputs": [],
   "source": [
    "data['TRB%'] = pd.to_numeric(data['TRBpct'], errors='coerce')"
   ]
  },
  {
   "cell_type": "code",
   "execution_count": 12,
   "metadata": {},
   "outputs": [],
   "source": [
    "data['AST%'] = pd.to_numeric(data['ASTpct'], errors='coerce')"
   ]
  },
  {
   "cell_type": "code",
   "execution_count": 13,
   "metadata": {},
   "outputs": [],
   "source": [
    "data['STL%'] = pd.to_numeric(data['STLpct'], errors='coerce')"
   ]
  },
  {
   "cell_type": "code",
   "execution_count": 14,
   "metadata": {},
   "outputs": [],
   "source": [
    "data['BLK%'] = pd.to_numeric(data['BLKpct'], errors='coerce')"
   ]
  },
  {
   "cell_type": "code",
   "execution_count": 15,
   "metadata": {},
   "outputs": [],
   "source": [
    "data['TOV%'] = pd.to_numeric(data['TOVpct'], errors='coerce')"
   ]
  },
  {
   "cell_type": "code",
   "execution_count": 16,
   "metadata": {},
   "outputs": [],
   "source": [
    "data['USG%'] = pd.to_numeric(data['USGpct'], errors='coerce')"
   ]
  },
  {
   "cell_type": "code",
   "execution_count": 17,
   "metadata": {},
   "outputs": [],
   "source": [
    "data['OWS'] = pd.to_numeric(data['OWS'], errors='coerce')"
   ]
  },
  {
   "cell_type": "code",
   "execution_count": 18,
   "metadata": {},
   "outputs": [],
   "source": [
    "data['DWS'] = pd.to_numeric(data['DWS'], errors='coerce')"
   ]
  },
  {
   "cell_type": "code",
   "execution_count": 19,
   "metadata": {},
   "outputs": [],
   "source": [
    "data['WS'] = pd.to_numeric(data['WS'], errors='coerce')"
   ]
  },
  {
   "cell_type": "code",
   "execution_count": 20,
   "metadata": {},
   "outputs": [],
   "source": [
    "data['WS/48'] = pd.to_numeric(data['WS/48'], errors='coerce')"
   ]
  },
  {
   "cell_type": "code",
   "execution_count": 21,
   "metadata": {},
   "outputs": [],
   "source": [
    "data['OBPM'] = pd.to_numeric(data['OBPM'], errors='coerce')"
   ]
  },
  {
   "cell_type": "code",
   "execution_count": 22,
   "metadata": {},
   "outputs": [],
   "source": [
    "data['DBPM'] = pd.to_numeric(data['DBPM'], errors='coerce')"
   ]
  },
  {
   "cell_type": "code",
   "execution_count": 23,
   "metadata": {},
   "outputs": [],
   "source": [
    "data['BPM'] = pd.to_numeric(data['BPM'], errors='coerce')"
   ]
  },
  {
   "cell_type": "code",
   "execution_count": 24,
   "metadata": {},
   "outputs": [],
   "source": [
    "data['VORP'] = pd.to_numeric(data['VORP'], errors='coerce')"
   ]
  },
  {
   "cell_type": "code",
   "execution_count": 25,
   "metadata": {},
   "outputs": [
    {
     "data": {
      "text/plain": [
       "Player     object\n",
       "Pos        object\n",
       "Age         int64\n",
       "Tm         object\n",
       "G           int64\n",
       "MP        float64\n",
       "PER       float64\n",
       "TSpct      object\n",
       "3PAr      float64\n",
       "FTr       float64\n",
       "ORBpct     object\n",
       "DRBpct     object\n",
       "TRBpct     object\n",
       "ASTpct     object\n",
       "STLpct     object\n",
       "BLKpct     object\n",
       "TOVpct     object\n",
       "USGpct     object\n",
       "OWS       float64\n",
       "DWS       float64\n",
       "WS        float64\n",
       "WS/48     float64\n",
       "OBPM      float64\n",
       "DBPM      float64\n",
       "BPM       float64\n",
       "VORP      float64\n",
       "Season     object\n",
       "TS%       float64\n",
       "ORB%      float64\n",
       "DRB%      float64\n",
       "TRB%      float64\n",
       "AST%      float64\n",
       "STL%      float64\n",
       "BLK%      float64\n",
       "TOV%      float64\n",
       "USG%      float64\n",
       "dtype: object"
      ]
     },
     "execution_count": 25,
     "metadata": {},
     "output_type": "execute_result"
    }
   ],
   "source": [
    "data.dtypes"
   ]
  },
  {
   "cell_type": "code",
   "execution_count": 26,
   "metadata": {},
   "outputs": [],
   "source": [
    "data = data.drop(['TSpct','ORBpct','DRBpct','TRBpct','ASTpct','STLpct','BLKpct','TOVpct','USGpct'], axis=1)"
   ]
  },
  {
   "cell_type": "code",
   "execution_count": 27,
   "metadata": {},
   "outputs": [
    {
     "data": {
      "text/plain": [
       "Player     object\n",
       "Pos        object\n",
       "Age         int64\n",
       "Tm         object\n",
       "G           int64\n",
       "MP        float64\n",
       "PER       float64\n",
       "3PAr      float64\n",
       "FTr       float64\n",
       "OWS       float64\n",
       "DWS       float64\n",
       "WS        float64\n",
       "WS/48     float64\n",
       "OBPM      float64\n",
       "DBPM      float64\n",
       "BPM       float64\n",
       "VORP      float64\n",
       "Season     object\n",
       "TS%       float64\n",
       "ORB%      float64\n",
       "DRB%      float64\n",
       "TRB%      float64\n",
       "AST%      float64\n",
       "STL%      float64\n",
       "BLK%      float64\n",
       "TOV%      float64\n",
       "USG%      float64\n",
       "dtype: object"
      ]
     },
     "execution_count": 27,
     "metadata": {},
     "output_type": "execute_result"
    }
   ],
   "source": [
    "data.dtypes"
   ]
  },
  {
   "cell_type": "code",
   "execution_count": 28,
   "metadata": {},
   "outputs": [
    {
     "name": "stdout",
     "output_type": "stream",
     "text": [
      "[' C', ' C-F', ' C-PF', ' C-SF', ' F', ' F-C', ' F-G', ' G', ' G-F', ' PF', ' PF-C', ' PF-SF', ' PG', ' PG-SF', ' PG-SG', ' SF', ' SF-PF', ' SF-PG', ' SF-SG', ' SG', ' SG-PF', ' SG-PG', ' SG-SF']\n"
     ]
    }
   ],
   "source": [
    "a = data.Pos.unique()\n",
    "print(sorted(a))"
   ]
  },
  {
   "cell_type": "code",
   "execution_count": 29,
   "metadata": {},
   "outputs": [],
   "source": [
    "data.drop(data[data['Pos'] == ' C-F'].index, inplace = True)\n",
    "data.drop(data[data['Pos'] == ' C-PF'].index, inplace = True)\n",
    "data.drop(data[data['Pos'] == ' C-SF'].index, inplace = True)\n",
    "data.drop(data[data['Pos'] == ' F-C'].index, inplace = True)\n",
    "data.drop(data[data['Pos'] == ' F-G'].index, inplace = True)\n",
    "data.drop(data[data['Pos'] == ' G-F'].index, inplace = True)\n",
    "data.drop(data[data['Pos'] == ' PF-C'].index, inplace = True)\n",
    "data.drop(data[data['Pos'] == ' PF-SF'].index, inplace = True)\n",
    "data.drop(data[data['Pos'] == ' PG-SF'].index, inplace = True)\n",
    "data.drop(data[data['Pos'] == ' PG-SG'].index, inplace = True)\n",
    "data.drop(data[data['Pos'] == ' SF-PF'].index, inplace = True)\n",
    "data.drop(data[data['Pos'] == ' SF-PG'].index, inplace = True)\n",
    "data.drop(data[data['Pos'] == ' SF-SG'].index, inplace = True)\n",
    "data.drop(data[data['Pos'] == ' SG-PF'].index, inplace = True)\n",
    "data.drop(data[data['Pos'] == ' SG-PG'].index, inplace = True)\n",
    "data.drop(data[data['Pos'] == ' SG-SF'].index, inplace = True)\n",
    "data.drop(data[data['Pos'] == ' G'].index, inplace = True)\n",
    "data.drop(data[data['Pos'] == ' F'].index, inplace = True)"
   ]
  },
  {
   "cell_type": "code",
   "execution_count": 30,
   "metadata": {},
   "outputs": [],
   "source": [
    "#data.replace(to_replace=['PG','SG','SF','PF','C'], value=['1','2','3','4','5'])"
   ]
  },
  {
   "cell_type": "code",
   "execution_count": 31,
   "metadata": {},
   "outputs": [
    {
     "data": {
      "text/html": [
       "<div>\n",
       "<style scoped>\n",
       "    .dataframe tbody tr th:only-of-type {\n",
       "        vertical-align: middle;\n",
       "    }\n",
       "\n",
       "    .dataframe tbody tr th {\n",
       "        vertical-align: top;\n",
       "    }\n",
       "\n",
       "    .dataframe thead th {\n",
       "        text-align: right;\n",
       "    }\n",
       "</style>\n",
       "<table border=\"1\" class=\"dataframe\">\n",
       "  <thead>\n",
       "    <tr style=\"text-align: right;\">\n",
       "      <th></th>\n",
       "      <th>Player</th>\n",
       "      <th>Pos</th>\n",
       "      <th>Age</th>\n",
       "      <th>Tm</th>\n",
       "      <th>G</th>\n",
       "      <th>MP</th>\n",
       "      <th>PER</th>\n",
       "      <th>3PAr</th>\n",
       "      <th>FTr</th>\n",
       "      <th>OWS</th>\n",
       "      <th>...</th>\n",
       "      <th>TS%</th>\n",
       "      <th>ORB%</th>\n",
       "      <th>DRB%</th>\n",
       "      <th>TRB%</th>\n",
       "      <th>AST%</th>\n",
       "      <th>STL%</th>\n",
       "      <th>BLK%</th>\n",
       "      <th>TOV%</th>\n",
       "      <th>USG%</th>\n",
       "      <th>NumPos</th>\n",
       "    </tr>\n",
       "  </thead>\n",
       "  <tbody>\n",
       "    <tr>\n",
       "      <th>0</th>\n",
       "      <td>Bam Adebayo</td>\n",
       "      <td>PF</td>\n",
       "      <td>22</td>\n",
       "      <td>MIA</td>\n",
       "      <td>65</td>\n",
       "      <td>2235.0</td>\n",
       "      <td>20.6</td>\n",
       "      <td>0.018</td>\n",
       "      <td>0.476</td>\n",
       "      <td>4.6</td>\n",
       "      <td>...</td>\n",
       "      <td>0.606</td>\n",
       "      <td>8.7</td>\n",
       "      <td>25.0</td>\n",
       "      <td>17.2</td>\n",
       "      <td>23.6</td>\n",
       "      <td>1.7</td>\n",
       "      <td>3.8</td>\n",
       "      <td>17.5</td>\n",
       "      <td>20.8</td>\n",
       "      <td>4</td>\n",
       "    </tr>\n",
       "    <tr>\n",
       "      <th>1</th>\n",
       "      <td>LaMarcus Aldridge</td>\n",
       "      <td>C</td>\n",
       "      <td>34</td>\n",
       "      <td>SAS</td>\n",
       "      <td>53</td>\n",
       "      <td>1754.0</td>\n",
       "      <td>19.8</td>\n",
       "      <td>0.198</td>\n",
       "      <td>0.241</td>\n",
       "      <td>3.1</td>\n",
       "      <td>...</td>\n",
       "      <td>0.571</td>\n",
       "      <td>6.3</td>\n",
       "      <td>17.8</td>\n",
       "      <td>12.0</td>\n",
       "      <td>11.4</td>\n",
       "      <td>1.0</td>\n",
       "      <td>4.4</td>\n",
       "      <td>7.8</td>\n",
       "      <td>23.6</td>\n",
       "      <td>5</td>\n",
       "    </tr>\n",
       "    <tr>\n",
       "      <th>2</th>\n",
       "      <td>Nickeil Alexander-Walker</td>\n",
       "      <td>SG</td>\n",
       "      <td>21</td>\n",
       "      <td>NOP</td>\n",
       "      <td>41</td>\n",
       "      <td>501.0</td>\n",
       "      <td>7.6</td>\n",
       "      <td>0.515</td>\n",
       "      <td>0.123</td>\n",
       "      <td>-0.7</td>\n",
       "      <td>...</td>\n",
       "      <td>0.441</td>\n",
       "      <td>1.7</td>\n",
       "      <td>15.2</td>\n",
       "      <td>8.4</td>\n",
       "      <td>20.3</td>\n",
       "      <td>1.0</td>\n",
       "      <td>1.2</td>\n",
       "      <td>14.3</td>\n",
       "      <td>22.8</td>\n",
       "      <td>2</td>\n",
       "    </tr>\n",
       "    <tr>\n",
       "      <th>3</th>\n",
       "      <td>Grayson Allen</td>\n",
       "      <td>SG</td>\n",
       "      <td>24</td>\n",
       "      <td>MEM</td>\n",
       "      <td>30</td>\n",
       "      <td>498.0</td>\n",
       "      <td>11.4</td>\n",
       "      <td>0.517</td>\n",
       "      <td>0.199</td>\n",
       "      <td>0.5</td>\n",
       "      <td>...</td>\n",
       "      <td>0.577</td>\n",
       "      <td>1.1</td>\n",
       "      <td>12.6</td>\n",
       "      <td>7.0</td>\n",
       "      <td>11.8</td>\n",
       "      <td>0.6</td>\n",
       "      <td>0.2</td>\n",
       "      <td>10.7</td>\n",
       "      <td>17.9</td>\n",
       "      <td>2</td>\n",
       "    </tr>\n",
       "    <tr>\n",
       "      <th>4</th>\n",
       "      <td>Jarrett Allen</td>\n",
       "      <td>C</td>\n",
       "      <td>21</td>\n",
       "      <td>BRK</td>\n",
       "      <td>64</td>\n",
       "      <td>1647.0</td>\n",
       "      <td>20.3</td>\n",
       "      <td>0.012</td>\n",
       "      <td>0.574</td>\n",
       "      <td>4.3</td>\n",
       "      <td>...</td>\n",
       "      <td>0.658</td>\n",
       "      <td>12.5</td>\n",
       "      <td>25.0</td>\n",
       "      <td>18.9</td>\n",
       "      <td>7.8</td>\n",
       "      <td>1.1</td>\n",
       "      <td>4.3</td>\n",
       "      <td>12.2</td>\n",
       "      <td>15.0</td>\n",
       "      <td>5</td>\n",
       "    </tr>\n",
       "  </tbody>\n",
       "</table>\n",
       "<p>5 rows × 28 columns</p>\n",
       "</div>"
      ],
      "text/plain": [
       "                     Player  Pos  Age    Tm   G      MP   PER   3PAr    FTr  \\\n",
       "0               Bam Adebayo   PF   22   MIA  65  2235.0  20.6  0.018  0.476   \n",
       "1         LaMarcus Aldridge    C   34   SAS  53  1754.0  19.8  0.198  0.241   \n",
       "2  Nickeil Alexander-Walker   SG   21   NOP  41   501.0   7.6  0.515  0.123   \n",
       "3             Grayson Allen   SG   24   MEM  30   498.0  11.4  0.517  0.199   \n",
       "4             Jarrett Allen    C   21   BRK  64  1647.0  20.3  0.012  0.574   \n",
       "\n",
       "   OWS  ...    TS%  ORB%  DRB%  TRB%  AST%  STL%  BLK%  TOV%  USG%  NumPos  \n",
       "0  4.6  ...  0.606   8.7  25.0  17.2  23.6   1.7   3.8  17.5  20.8       4  \n",
       "1  3.1  ...  0.571   6.3  17.8  12.0  11.4   1.0   4.4   7.8  23.6       5  \n",
       "2 -0.7  ...  0.441   1.7  15.2   8.4  20.3   1.0   1.2  14.3  22.8       2  \n",
       "3  0.5  ...  0.577   1.1  12.6   7.0  11.8   0.6   0.2  10.7  17.9       2  \n",
       "4  4.3  ...  0.658  12.5  25.0  18.9   7.8   1.1   4.3  12.2  15.0       5  \n",
       "\n",
       "[5 rows x 28 columns]"
      ]
     },
     "execution_count": 31,
     "metadata": {},
     "output_type": "execute_result"
    }
   ],
   "source": [
    "def number_positions(Pos):\n",
    "     if Pos == ' PG':                          \n",
    "        return(1)\n",
    "     if Pos == ' SG':                          \n",
    "        return(2)\n",
    "     if Pos == ' SF':                          \n",
    "        return(3)\n",
    "     if Pos == ' PF':                          \n",
    "        return(4)\n",
    "     if Pos == ' C':                         \n",
    "        return(5)\n",
    "\n",
    "data['NumPos'] = data['Pos'].apply(number_positions)  \n",
    "#data['NumPos'] = data['NumPos'].astype('int')\n",
    "data.head()"
   ]
  },
  {
   "cell_type": "code",
   "execution_count": 32,
   "metadata": {},
   "outputs": [
    {
     "data": {
      "text/plain": [
       "Player     object\n",
       "Pos        object\n",
       "Age         int64\n",
       "Tm         object\n",
       "G           int64\n",
       "MP        float64\n",
       "PER       float64\n",
       "3PAr      float64\n",
       "FTr       float64\n",
       "OWS       float64\n",
       "DWS       float64\n",
       "WS        float64\n",
       "WS/48     float64\n",
       "OBPM      float64\n",
       "DBPM      float64\n",
       "BPM       float64\n",
       "VORP      float64\n",
       "Season     object\n",
       "TS%       float64\n",
       "ORB%      float64\n",
       "DRB%      float64\n",
       "TRB%      float64\n",
       "AST%      float64\n",
       "STL%      float64\n",
       "BLK%      float64\n",
       "TOV%      float64\n",
       "USG%      float64\n",
       "NumPos      int64\n",
       "dtype: object"
      ]
     },
     "execution_count": 32,
     "metadata": {},
     "output_type": "execute_result"
    }
   ],
   "source": [
    "data.dtypes"
   ]
  },
  {
   "cell_type": "code",
   "execution_count": 33,
   "metadata": {},
   "outputs": [
    {
     "data": {
      "text/html": [
       "<div>\n",
       "<style scoped>\n",
       "    .dataframe tbody tr th:only-of-type {\n",
       "        vertical-align: middle;\n",
       "    }\n",
       "\n",
       "    .dataframe tbody tr th {\n",
       "        vertical-align: top;\n",
       "    }\n",
       "\n",
       "    .dataframe thead th {\n",
       "        text-align: right;\n",
       "    }\n",
       "</style>\n",
       "<table border=\"1\" class=\"dataframe\">\n",
       "  <thead>\n",
       "    <tr style=\"text-align: right;\">\n",
       "      <th></th>\n",
       "      <th>Player</th>\n",
       "      <th>Pos</th>\n",
       "      <th>Age</th>\n",
       "      <th>Tm</th>\n",
       "      <th>G</th>\n",
       "      <th>MP</th>\n",
       "      <th>PER</th>\n",
       "      <th>3PAr</th>\n",
       "      <th>FTr</th>\n",
       "      <th>OWS</th>\n",
       "      <th>...</th>\n",
       "      <th>TS%</th>\n",
       "      <th>ORB%</th>\n",
       "      <th>DRB%</th>\n",
       "      <th>TRB%</th>\n",
       "      <th>AST%</th>\n",
       "      <th>STL%</th>\n",
       "      <th>BLK%</th>\n",
       "      <th>TOV%</th>\n",
       "      <th>USG%</th>\n",
       "      <th>NumPos</th>\n",
       "    </tr>\n",
       "  </thead>\n",
       "  <tbody>\n",
       "    <tr>\n",
       "      <th>0</th>\n",
       "      <td>Bam Adebayo</td>\n",
       "      <td>PF</td>\n",
       "      <td>22</td>\n",
       "      <td>MIA</td>\n",
       "      <td>65</td>\n",
       "      <td>2235.0</td>\n",
       "      <td>20.6</td>\n",
       "      <td>0.018</td>\n",
       "      <td>0.476</td>\n",
       "      <td>4.6</td>\n",
       "      <td>...</td>\n",
       "      <td>0.606</td>\n",
       "      <td>8.7</td>\n",
       "      <td>25.0</td>\n",
       "      <td>17.2</td>\n",
       "      <td>23.6</td>\n",
       "      <td>1.7</td>\n",
       "      <td>3.8</td>\n",
       "      <td>17.5</td>\n",
       "      <td>20.8</td>\n",
       "      <td>4</td>\n",
       "    </tr>\n",
       "    <tr>\n",
       "      <th>1</th>\n",
       "      <td>LaMarcus Aldridge</td>\n",
       "      <td>C</td>\n",
       "      <td>34</td>\n",
       "      <td>SAS</td>\n",
       "      <td>53</td>\n",
       "      <td>1754.0</td>\n",
       "      <td>19.8</td>\n",
       "      <td>0.198</td>\n",
       "      <td>0.241</td>\n",
       "      <td>3.1</td>\n",
       "      <td>...</td>\n",
       "      <td>0.571</td>\n",
       "      <td>6.3</td>\n",
       "      <td>17.8</td>\n",
       "      <td>12.0</td>\n",
       "      <td>11.4</td>\n",
       "      <td>1.0</td>\n",
       "      <td>4.4</td>\n",
       "      <td>7.8</td>\n",
       "      <td>23.6</td>\n",
       "      <td>5</td>\n",
       "    </tr>\n",
       "    <tr>\n",
       "      <th>2</th>\n",
       "      <td>Nickeil Alexander-Walker</td>\n",
       "      <td>SG</td>\n",
       "      <td>21</td>\n",
       "      <td>NOP</td>\n",
       "      <td>41</td>\n",
       "      <td>501.0</td>\n",
       "      <td>7.6</td>\n",
       "      <td>0.515</td>\n",
       "      <td>0.123</td>\n",
       "      <td>-0.7</td>\n",
       "      <td>...</td>\n",
       "      <td>0.441</td>\n",
       "      <td>1.7</td>\n",
       "      <td>15.2</td>\n",
       "      <td>8.4</td>\n",
       "      <td>20.3</td>\n",
       "      <td>1.0</td>\n",
       "      <td>1.2</td>\n",
       "      <td>14.3</td>\n",
       "      <td>22.8</td>\n",
       "      <td>2</td>\n",
       "    </tr>\n",
       "    <tr>\n",
       "      <th>3</th>\n",
       "      <td>Grayson Allen</td>\n",
       "      <td>SG</td>\n",
       "      <td>24</td>\n",
       "      <td>MEM</td>\n",
       "      <td>30</td>\n",
       "      <td>498.0</td>\n",
       "      <td>11.4</td>\n",
       "      <td>0.517</td>\n",
       "      <td>0.199</td>\n",
       "      <td>0.5</td>\n",
       "      <td>...</td>\n",
       "      <td>0.577</td>\n",
       "      <td>1.1</td>\n",
       "      <td>12.6</td>\n",
       "      <td>7.0</td>\n",
       "      <td>11.8</td>\n",
       "      <td>0.6</td>\n",
       "      <td>0.2</td>\n",
       "      <td>10.7</td>\n",
       "      <td>17.9</td>\n",
       "      <td>2</td>\n",
       "    </tr>\n",
       "    <tr>\n",
       "      <th>4</th>\n",
       "      <td>Jarrett Allen</td>\n",
       "      <td>C</td>\n",
       "      <td>21</td>\n",
       "      <td>BRK</td>\n",
       "      <td>64</td>\n",
       "      <td>1647.0</td>\n",
       "      <td>20.3</td>\n",
       "      <td>0.012</td>\n",
       "      <td>0.574</td>\n",
       "      <td>4.3</td>\n",
       "      <td>...</td>\n",
       "      <td>0.658</td>\n",
       "      <td>12.5</td>\n",
       "      <td>25.0</td>\n",
       "      <td>18.9</td>\n",
       "      <td>7.8</td>\n",
       "      <td>1.1</td>\n",
       "      <td>4.3</td>\n",
       "      <td>12.2</td>\n",
       "      <td>15.0</td>\n",
       "      <td>5</td>\n",
       "    </tr>\n",
       "  </tbody>\n",
       "</table>\n",
       "<p>5 rows × 28 columns</p>\n",
       "</div>"
      ],
      "text/plain": [
       "                     Player  Pos  Age    Tm   G      MP   PER   3PAr    FTr  \\\n",
       "0               Bam Adebayo   PF   22   MIA  65  2235.0  20.6  0.018  0.476   \n",
       "1         LaMarcus Aldridge    C   34   SAS  53  1754.0  19.8  0.198  0.241   \n",
       "2  Nickeil Alexander-Walker   SG   21   NOP  41   501.0   7.6  0.515  0.123   \n",
       "3             Grayson Allen   SG   24   MEM  30   498.0  11.4  0.517  0.199   \n",
       "4             Jarrett Allen    C   21   BRK  64  1647.0  20.3  0.012  0.574   \n",
       "\n",
       "   OWS  ...    TS%  ORB%  DRB%  TRB%  AST%  STL%  BLK%  TOV%  USG%  NumPos  \n",
       "0  4.6  ...  0.606   8.7  25.0  17.2  23.6   1.7   3.8  17.5  20.8       4  \n",
       "1  3.1  ...  0.571   6.3  17.8  12.0  11.4   1.0   4.4   7.8  23.6       5  \n",
       "2 -0.7  ...  0.441   1.7  15.2   8.4  20.3   1.0   1.2  14.3  22.8       2  \n",
       "3  0.5  ...  0.577   1.1  12.6   7.0  11.8   0.6   0.2  10.7  17.9       2  \n",
       "4  4.3  ...  0.658  12.5  25.0  18.9   7.8   1.1   4.3  12.2  15.0       5  \n",
       "\n",
       "[5 rows x 28 columns]"
      ]
     },
     "execution_count": 33,
     "metadata": {},
     "output_type": "execute_result"
    }
   ],
   "source": [
    "data.head()"
   ]
  },
  {
   "cell_type": "code",
   "execution_count": 34,
   "metadata": {},
   "outputs": [],
   "source": [
    "data.to_csv('../Capstone/Data/FirstClean_NBA_Advanced_Data.csv', index=0)"
   ]
  },
  {
   "cell_type": "code",
   "execution_count": 35,
   "metadata": {},
   "outputs": [
    {
     "name": "stderr",
     "output_type": "stream",
     "text": [
      ":FEATURES DONE:                    |█████████████████████| [100%]   00:17  -> (00:00 left)\n",
      ":PAIRWISE DONE:                    |█████████████████████| [100%]   00:01  -> (00:00 left)\n"
     ]
    },
    {
     "name": "stdout",
     "output_type": "stream",
     "text": [
      "Creating Associations graph... DONE!\n"
     ]
    }
   ],
   "source": [
    "my_report = sv.analyze(data, target_feat='WS')\n",
    "my_report.show_html('../Capstone/EDA_files/NBA_EDA.html')"
   ]
  }
 ],
 "metadata": {
  "kernelspec": {
   "display_name": "Python 3",
   "language": "python",
   "name": "python3"
  },
  "language_info": {
   "codemirror_mode": {
    "name": "ipython",
    "version": 3
   },
   "file_extension": ".py",
   "mimetype": "text/x-python",
   "name": "python",
   "nbconvert_exporter": "python",
   "pygments_lexer": "ipython3",
   "version": "3.6.7"
  }
 },
 "nbformat": 4,
 "nbformat_minor": 4
}
