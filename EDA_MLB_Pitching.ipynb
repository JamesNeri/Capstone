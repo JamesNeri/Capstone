{
 "cells": [
  {
   "cell_type": "code",
   "execution_count": 1,
   "metadata": {},
   "outputs": [],
   "source": [
    "# data handling\n",
    "import sweetviz as sv\n",
    "import pandas as pd\n",
    "import numpy as np\n",
    "import seaborn as sns\n",
    "import matplotlib as plt\n",
    "import matplotlib.pyplot as plt\n",
    "from pandas import DataFrame\n",
    "%matplotlib inline\n",
    "\n",
    "# splitting data\n",
    "from sklearn import model_selection\n",
    "from sklearn.model_selection import cross_val_score\n",
    "from sklearn.model_selection import train_test_split\n",
    "\n",
    "# evaluating models\n",
    "from sklearn import metrics\n",
    "from sklearn.metrics import confusion_matrix\n",
    "from sklearn.metrics import classification_report\n",
    "from sklearn.metrics import roc_auc_score\n",
    "from sklearn.metrics import accuracy_score\n",
    "from sklearn.metrics import precision_recall_fscore_support\n",
    "from scipy.stats import boxcox\n",
    "from scipy import stats\n",
    "\n",
    "# `logistic regression` model\n",
    "from sklearn.linear_model import LogisticRegression"
   ]
  },
  {
   "cell_type": "code",
   "execution_count": 2,
   "metadata": {},
   "outputs": [],
   "source": [
    "data = pd.read_csv('../Capstone/Data/MLB_Pitching_Data.csv')"
   ]
  },
  {
   "cell_type": "code",
   "execution_count": 3,
   "metadata": {},
   "outputs": [
    {
     "data": {
      "text/plain": [
       "name_common               object\n",
       "age                      float64\n",
       "mlb_ID                   float64\n",
       "player_ID                 object\n",
       "year_ID                    int64\n",
       "team_ID                   object\n",
       "stint_ID                   int64\n",
       "lg_ID                     object\n",
       "G                          int64\n",
       "GS                         int64\n",
       "IPouts                     int64\n",
       "IPouts_start             float64\n",
       "IPouts_relief            float64\n",
       "RA                         int64\n",
       "xRA                      float64\n",
       "xRA_sprp_adj             float64\n",
       "xRA_def_pitcher          float64\n",
       "PPF                        int64\n",
       "PPF_custom               float64\n",
       "xRA_final                float64\n",
       "BIP                        int64\n",
       "BIP_perc                 float64\n",
       "RS_def_total             float64\n",
       "runs_above_avg           float64\n",
       "runs_above_avg_adj       float64\n",
       "runs_above_rep           float64\n",
       "RpO_replacement          float64\n",
       "GR_leverage_index_avg    float64\n",
       "WAR                      float64\n",
       "salary                   float64\n",
       "teamRpG                  float64\n",
       "oppRpG                   float64\n",
       "pyth_exponent            float64\n",
       "waa_win_perc             float64\n",
       "WAA                      float64\n",
       "WAA_adj                  float64\n",
       "oppRpG_rep               float64\n",
       "pyth_exponent_rep        float64\n",
       "waa_win_perc_rep         float64\n",
       "WAR_rep                  float64\n",
       "ERA_plus                 float64\n",
       "ER_lg                    float64\n",
       "dtype: object"
      ]
     },
     "execution_count": 3,
     "metadata": {},
     "output_type": "execute_result"
    }
   ],
   "source": [
    "data.dtypes"
   ]
  },
  {
   "cell_type": "code",
   "execution_count": 4,
   "metadata": {},
   "outputs": [
    {
     "name": "stderr",
     "output_type": "stream",
     "text": [
      ":FEATURES DONE:                    |█████████████████████| [100%]   00:27  -> (00:00 left)\n",
      ":PAIRWISE DONE:                    |█████████████████████| [100%]   00:03  -> (00:00 left)\n"
     ]
    },
    {
     "name": "stdout",
     "output_type": "stream",
     "text": [
      "Creating Associations graph... DONE!\n"
     ]
    }
   ],
   "source": [
    "my_report = sv.analyze(data, target_feat='WAR')\n",
    "my_report.show_html('../Capstone/EDA_files/PitchingEDA.html')"
   ]
  },
  {
   "cell_type": "code",
   "execution_count": null,
   "metadata": {},
   "outputs": [],
   "source": []
  }
 ],
 "metadata": {
  "kernelspec": {
   "display_name": "Python 3",
   "language": "python",
   "name": "python3"
  },
  "language_info": {
   "codemirror_mode": {
    "name": "ipython",
    "version": 3
   },
   "file_extension": ".py",
   "mimetype": "text/x-python",
   "name": "python",
   "nbconvert_exporter": "python",
   "pygments_lexer": "ipython3",
   "version": "3.6.7"
  }
 },
 "nbformat": 4,
 "nbformat_minor": 4
}
