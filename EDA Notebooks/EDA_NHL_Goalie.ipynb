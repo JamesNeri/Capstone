{
 "cells": [
  {
   "cell_type": "code",
   "execution_count": 1,
   "metadata": {},
   "outputs": [],
   "source": [
    "# data handling\n",
    "import sweetviz as sv\n",
    "import pandas as pd\n",
    "import numpy as np\n",
    "import seaborn as sns\n",
    "import matplotlib as plt\n",
    "import matplotlib.pyplot as plt\n",
    "from pandas import DataFrame\n",
    "%matplotlib inline\n",
    "\n",
    "# splitting data\n",
    "from sklearn import model_selection\n",
    "from sklearn.model_selection import cross_val_score\n",
    "from sklearn.model_selection import train_test_split\n",
    "\n",
    "# evaluating models\n",
    "from sklearn import metrics\n",
    "from sklearn.metrics import confusion_matrix\n",
    "from sklearn.metrics import classification_report\n",
    "from sklearn.metrics import roc_auc_score\n",
    "from sklearn.metrics import accuracy_score\n",
    "from sklearn.metrics import precision_recall_fscore_support\n",
    "from scipy.stats import boxcox\n",
    "from scipy import stats\n",
    "\n",
    "# `logistic regression` model\n",
    "from sklearn.linear_model import LogisticRegression"
   ]
  },
  {
   "cell_type": "code",
   "execution_count": 2,
   "metadata": {},
   "outputs": [],
   "source": [
    "data = pd.read_csv('../../Capstone/Data/NHL_Goalie_Data.csv')"
   ]
  },
  {
   "cell_type": "code",
   "execution_count": 3,
   "metadata": {},
   "outputs": [
    {
     "data": {
      "text/plain": [
       "Player     object\n",
       "Age         int64\n",
       "Tm         object\n",
       "GP          int64\n",
       "GS         object\n",
       "W          object\n",
       "L          object\n",
       "T/O        object\n",
       "GA          int64\n",
       "SA          int64\n",
       "SV          int64\n",
       "SVpct      object\n",
       "GAA        object\n",
       "SO          int64\n",
       "GPS       float64\n",
       "MIN         int64\n",
       "QS         object\n",
       "QSpct      object\n",
       "RBS        object\n",
       "GApct      object\n",
       "GSAA       object\n",
       "G           int64\n",
       "A          object\n",
       "PTS        object\n",
       "PIM         int64\n",
       "Season     object\n",
       "dtype: object"
      ]
     },
     "execution_count": 3,
     "metadata": {},
     "output_type": "execute_result"
    }
   ],
   "source": [
    "data.dtypes"
   ]
  },
  {
   "cell_type": "code",
   "execution_count": 4,
   "metadata": {},
   "outputs": [],
   "source": [
    "data['GS'] = pd.to_numeric(data['GS'], errors='coerce')"
   ]
  },
  {
   "cell_type": "code",
   "execution_count": 5,
   "metadata": {},
   "outputs": [],
   "source": [
    "data['W'] = pd.to_numeric(data['W'], errors='coerce')"
   ]
  },
  {
   "cell_type": "code",
   "execution_count": 6,
   "metadata": {},
   "outputs": [],
   "source": [
    "data['L'] = pd.to_numeric(data['L'], errors='coerce')"
   ]
  },
  {
   "cell_type": "code",
   "execution_count": 7,
   "metadata": {},
   "outputs": [],
   "source": [
    "data['T/O'] = pd.to_numeric(data['T/O'], errors='coerce')"
   ]
  },
  {
   "cell_type": "code",
   "execution_count": 8,
   "metadata": {},
   "outputs": [],
   "source": [
    "data['SV%'] = pd.to_numeric(data['SVpct'], errors='coerce')"
   ]
  },
  {
   "cell_type": "code",
   "execution_count": 9,
   "metadata": {},
   "outputs": [],
   "source": [
    "data['GAA'] = pd.to_numeric(data['GAA'], errors='coerce')"
   ]
  },
  {
   "cell_type": "code",
   "execution_count": 10,
   "metadata": {},
   "outputs": [],
   "source": [
    "data['QS'] = pd.to_numeric(data['QS'], errors='coerce')"
   ]
  },
  {
   "cell_type": "code",
   "execution_count": 11,
   "metadata": {},
   "outputs": [],
   "source": [
    "data['QS%'] = pd.to_numeric(data['QSpct'], errors='coerce')"
   ]
  },
  {
   "cell_type": "code",
   "execution_count": 12,
   "metadata": {},
   "outputs": [],
   "source": [
    "data['RBS'] = pd.to_numeric(data['RBS'], errors='coerce')"
   ]
  },
  {
   "cell_type": "code",
   "execution_count": 13,
   "metadata": {},
   "outputs": [],
   "source": [
    "data['GA%'] = pd.to_numeric(data['GApct'], errors='coerce')"
   ]
  },
  {
   "cell_type": "code",
   "execution_count": 14,
   "metadata": {},
   "outputs": [],
   "source": [
    "data['GSAA'] = pd.to_numeric(data['GSAA'], errors='coerce')"
   ]
  },
  {
   "cell_type": "code",
   "execution_count": 15,
   "metadata": {},
   "outputs": [],
   "source": [
    "data['A'] = pd.to_numeric(data['A'], errors='coerce')"
   ]
  },
  {
   "cell_type": "code",
   "execution_count": 16,
   "metadata": {},
   "outputs": [],
   "source": [
    "data['PTS'] = pd.to_numeric(data['PTS'], errors='coerce')"
   ]
  },
  {
   "cell_type": "code",
   "execution_count": 18,
   "metadata": {},
   "outputs": [
    {
     "data": {
      "text/plain": [
       "Player     object\n",
       "Age         int64\n",
       "Tm         object\n",
       "GP          int64\n",
       "GS        float64\n",
       "W         float64\n",
       "L         float64\n",
       "T/O       float64\n",
       "GA          int64\n",
       "SA          int64\n",
       "SV          int64\n",
       "SVpct      object\n",
       "GAA       float64\n",
       "SO          int64\n",
       "GPS       float64\n",
       "MIN         int64\n",
       "QS        float64\n",
       "QSpct      object\n",
       "RBS       float64\n",
       "GApct      object\n",
       "GSAA      float64\n",
       "G           int64\n",
       "A         float64\n",
       "PTS       float64\n",
       "PIM         int64\n",
       "Season     object\n",
       "SV%       float64\n",
       "QS%       float64\n",
       "GA%       float64\n",
       "dtype: object"
      ]
     },
     "execution_count": 18,
     "metadata": {},
     "output_type": "execute_result"
    }
   ],
   "source": [
    "data.dtypes"
   ]
  },
  {
   "cell_type": "code",
   "execution_count": 19,
   "metadata": {},
   "outputs": [],
   "source": [
    "data = data.drop(['SVpct','QSpct','GApct'], axis=1)"
   ]
  },
  {
   "cell_type": "code",
   "execution_count": 23,
   "metadata": {},
   "outputs": [
    {
     "data": {
      "text/plain": [
       "Player    False\n",
       "Age       False\n",
       "Tm        False\n",
       "GP        False\n",
       "GS         True\n",
       "W          True\n",
       "L          True\n",
       "T/O        True\n",
       "GA        False\n",
       "SA        False\n",
       "SV        False\n",
       "GAA        True\n",
       "SO        False\n",
       "GPS       False\n",
       "MIN       False\n",
       "QS         True\n",
       "RBS        True\n",
       "GSAA       True\n",
       "G         False\n",
       "A          True\n",
       "PTS        True\n",
       "PIM       False\n",
       "Season    False\n",
       "SV%        True\n",
       "QS%        True\n",
       "GA%        True\n",
       "dtype: bool"
      ]
     },
     "execution_count": 23,
     "metadata": {},
     "output_type": "execute_result"
    }
   ],
   "source": [
    "data.isna().any()"
   ]
  },
  {
   "cell_type": "code",
   "execution_count": 24,
   "metadata": {},
   "outputs": [],
   "source": [
    "data = data.fillna(0)"
   ]
  },
  {
   "cell_type": "code",
   "execution_count": 25,
   "metadata": {},
   "outputs": [
    {
     "data": {
      "text/plain": [
       "Player    False\n",
       "Age       False\n",
       "Tm        False\n",
       "GP        False\n",
       "GS        False\n",
       "W         False\n",
       "L         False\n",
       "T/O       False\n",
       "GA        False\n",
       "SA        False\n",
       "SV        False\n",
       "GAA       False\n",
       "SO        False\n",
       "GPS       False\n",
       "MIN       False\n",
       "QS        False\n",
       "RBS       False\n",
       "GSAA      False\n",
       "G         False\n",
       "A         False\n",
       "PTS       False\n",
       "PIM       False\n",
       "Season    False\n",
       "SV%       False\n",
       "QS%       False\n",
       "GA%       False\n",
       "dtype: bool"
      ]
     },
     "execution_count": 25,
     "metadata": {},
     "output_type": "execute_result"
    }
   ],
   "source": [
    "data.isna().any()"
   ]
  },
  {
   "cell_type": "code",
   "execution_count": 27,
   "metadata": {},
   "outputs": [],
   "source": [
    "# convert floats to ints where necessary\n",
    "data['GS'] = data['GS'].astype(int)\n",
    "data['W'] = data['W'].astype(int)\n",
    "data['L'] = data['L'].astype(int)\n",
    "data['T/O'] = data['T/O'].astype(int)\n",
    "data['QS'] = data['QS'].astype(int)\n",
    "data['RBS'] = data['RBS'].astype(int)\n",
    "data['A'] = data['A'].astype(int)\n",
    "data['PTS'] = data['PTS'].astype(int)\n",
    "data['GA%'] = data['GA%'].astype(int)"
   ]
  },
  {
   "cell_type": "code",
   "execution_count": 28,
   "metadata": {},
   "outputs": [
    {
     "data": {
      "text/plain": [
       "Player     object\n",
       "Age         int64\n",
       "Tm         object\n",
       "GP          int64\n",
       "GS          int64\n",
       "W           int64\n",
       "L           int64\n",
       "T/O         int64\n",
       "GA          int64\n",
       "SA          int64\n",
       "SV          int64\n",
       "GAA       float64\n",
       "SO          int64\n",
       "GPS       float64\n",
       "MIN         int64\n",
       "QS          int64\n",
       "RBS         int64\n",
       "GSAA      float64\n",
       "G           int64\n",
       "A           int64\n",
       "PTS         int64\n",
       "PIM         int64\n",
       "Season     object\n",
       "SV%       float64\n",
       "QS%       float64\n",
       "GA%         int64\n",
       "dtype: object"
      ]
     },
     "execution_count": 28,
     "metadata": {},
     "output_type": "execute_result"
    }
   ],
   "source": [
    "data.dtypes"
   ]
  },
  {
   "cell_type": "code",
   "execution_count": 31,
   "metadata": {},
   "outputs": [],
   "source": [
    "data.to_csv('../../Capstone/Data/FirstClean_NHL_Goalie_Data.csv', index=0)"
   ]
  },
  {
   "cell_type": "code",
   "execution_count": 32,
   "metadata": {},
   "outputs": [
    {
     "name": "stderr",
     "output_type": "stream",
     "text": [
      ":FEATURES DONE:                    |█████████████████████| [100%]   00:15  -> (00:00 left)\n",
      ":PAIRWISE DONE:                    |█████████████████████| [100%]   00:00  -> (00:00 left)\n"
     ]
    },
    {
     "name": "stdout",
     "output_type": "stream",
     "text": [
      "Creating Associations graph... DONE!\n"
     ]
    }
   ],
   "source": [
    "my_report = sv.analyze(data, target_feat='GPS')\n",
    "my_report.show_html('../../Capstone/EDA HTML files/GoaliesEDA.html')"
   ]
  },
  {
   "cell_type": "code",
   "execution_count": null,
   "metadata": {},
   "outputs": [],
   "source": []
  }
 ],
 "metadata": {
  "kernelspec": {
   "display_name": "Python 3",
   "language": "python",
   "name": "python3"
  },
  "language_info": {
   "codemirror_mode": {
    "name": "ipython",
    "version": 3
   },
   "file_extension": ".py",
   "mimetype": "text/x-python",
   "name": "python",
   "nbconvert_exporter": "python",
   "pygments_lexer": "ipython3",
   "version": "3.6.7"
  }
 },
 "nbformat": 4,
 "nbformat_minor": 4
}
