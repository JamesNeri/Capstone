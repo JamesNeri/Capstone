{
 "cells": [
  {
   "cell_type": "markdown",
   "metadata": {},
   "source": [
    "# Explatory Data Analysis"
   ]
  },
  {
   "cell_type": "markdown",
   "metadata": {},
   "source": [
    "## Importing Data and the Necessary Packages to Handle it"
   ]
  },
  {
   "cell_type": "code",
   "execution_count": 1,
   "metadata": {},
   "outputs": [],
   "source": [
    "# data handling\n",
    "import sweetviz as sv\n",
    "import pandas as pd\n",
    "import numpy as np\n",
    "import seaborn as sns\n",
    "import matplotlib as plt\n",
    "import matplotlib.pyplot as plt\n",
    "from pandas import DataFrame\n",
    "%matplotlib inline"
   ]
  },
  {
   "cell_type": "code",
   "execution_count": 2,
   "metadata": {},
   "outputs": [
    {
     "name": "stderr",
     "output_type": "stream",
     "text": [
      "/opt/tljh/user/lib/python3.6/site-packages/IPython/core/interactiveshell.py:3051: DtypeWarning: Columns (9,15,16,17,22,24,25,26) have mixed types. Specify dtype option on import or set low_memory=False.\n",
      "  interactivity=interactivity, compiler=compiler, result=result)\n"
     ]
    }
   ],
   "source": [
    "data = pd.read_csv('../../Capstone/Data/NHL_Skater_Data.csv')"
   ]
  },
  {
   "cell_type": "code",
   "execution_count": 3,
   "metadata": {},
   "outputs": [
    {
     "data": {
      "text/html": [
       "<div>\n",
       "<style scoped>\n",
       "    .dataframe tbody tr th:only-of-type {\n",
       "        vertical-align: middle;\n",
       "    }\n",
       "\n",
       "    .dataframe tbody tr th {\n",
       "        vertical-align: top;\n",
       "    }\n",
       "\n",
       "    .dataframe thead th {\n",
       "        text-align: right;\n",
       "    }\n",
       "</style>\n",
       "<table border=\"1\" class=\"dataframe\">\n",
       "  <thead>\n",
       "    <tr style=\"text-align: right;\">\n",
       "      <th></th>\n",
       "      <th>Player</th>\n",
       "      <th>Age</th>\n",
       "      <th>Tm</th>\n",
       "      <th>Pos</th>\n",
       "      <th>GP</th>\n",
       "      <th>G</th>\n",
       "      <th>A</th>\n",
       "      <th>PTS</th>\n",
       "      <th>PlusMinus</th>\n",
       "      <th>PIM</th>\n",
       "      <th>...</th>\n",
       "      <th>S</th>\n",
       "      <th>Spct</th>\n",
       "      <th>TOI</th>\n",
       "      <th>ATOI</th>\n",
       "      <th>BLK</th>\n",
       "      <th>HIT</th>\n",
       "      <th>FOW</th>\n",
       "      <th>FOL</th>\n",
       "      <th>FOpct</th>\n",
       "      <th>Season</th>\n",
       "    </tr>\n",
       "  </thead>\n",
       "  <tbody>\n",
       "    <tr>\n",
       "      <th>0</th>\n",
       "      <td>Justin Abdelkader</td>\n",
       "      <td>32</td>\n",
       "      <td>DET</td>\n",
       "      <td>LW</td>\n",
       "      <td>49</td>\n",
       "      <td>0</td>\n",
       "      <td>3</td>\n",
       "      <td>3</td>\n",
       "      <td>-14</td>\n",
       "      <td>25</td>\n",
       "      <td>...</td>\n",
       "      <td>40</td>\n",
       "      <td>0.0</td>\n",
       "      <td>565</td>\n",
       "      <td>11:32</td>\n",
       "      <td>26</td>\n",
       "      <td>103.0</td>\n",
       "      <td>38</td>\n",
       "      <td>31</td>\n",
       "      <td>55.1</td>\n",
       "      <td>2019-20</td>\n",
       "    </tr>\n",
       "    <tr>\n",
       "      <th>1</th>\n",
       "      <td>Pontus Aberg</td>\n",
       "      <td>26</td>\n",
       "      <td>TOR</td>\n",
       "      <td>LW</td>\n",
       "      <td>5</td>\n",
       "      <td>0</td>\n",
       "      <td>1</td>\n",
       "      <td>1</td>\n",
       "      <td>0</td>\n",
       "      <td>0</td>\n",
       "      <td>...</td>\n",
       "      <td>4</td>\n",
       "      <td>0.0</td>\n",
       "      <td>44</td>\n",
       "      <td>8:42</td>\n",
       "      <td>1</td>\n",
       "      <td>1.0</td>\n",
       "      <td>0</td>\n",
       "      <td>0</td>\n",
       "      <td></td>\n",
       "      <td>2019-20</td>\n",
       "    </tr>\n",
       "    <tr>\n",
       "      <th>2</th>\n",
       "      <td>Vitaly Abramov</td>\n",
       "      <td>21</td>\n",
       "      <td>OTT</td>\n",
       "      <td>RW</td>\n",
       "      <td>2</td>\n",
       "      <td>1</td>\n",
       "      <td>0</td>\n",
       "      <td>1</td>\n",
       "      <td>0</td>\n",
       "      <td>2</td>\n",
       "      <td>...</td>\n",
       "      <td>3</td>\n",
       "      <td>33.3</td>\n",
       "      <td>12</td>\n",
       "      <td>5:47</td>\n",
       "      <td>0</td>\n",
       "      <td>0.0</td>\n",
       "      <td>0</td>\n",
       "      <td>0</td>\n",
       "      <td></td>\n",
       "      <td>2019-20</td>\n",
       "    </tr>\n",
       "    <tr>\n",
       "      <th>3</th>\n",
       "      <td>Noel Acciari</td>\n",
       "      <td>28</td>\n",
       "      <td>FLA</td>\n",
       "      <td>C</td>\n",
       "      <td>66</td>\n",
       "      <td>20</td>\n",
       "      <td>7</td>\n",
       "      <td>27</td>\n",
       "      <td>2</td>\n",
       "      <td>21</td>\n",
       "      <td>...</td>\n",
       "      <td>108</td>\n",
       "      <td>18.5</td>\n",
       "      <td>1054</td>\n",
       "      <td>15:58</td>\n",
       "      <td>103</td>\n",
       "      <td>121.0</td>\n",
       "      <td>381</td>\n",
       "      <td>414</td>\n",
       "      <td>47.9</td>\n",
       "      <td>2019-20</td>\n",
       "    </tr>\n",
       "    <tr>\n",
       "      <th>4</th>\n",
       "      <td>Andrew Agozzino</td>\n",
       "      <td>29</td>\n",
       "      <td>TOT</td>\n",
       "      <td>LW</td>\n",
       "      <td>22</td>\n",
       "      <td>1</td>\n",
       "      <td>2</td>\n",
       "      <td>3</td>\n",
       "      <td>3</td>\n",
       "      <td>4</td>\n",
       "      <td>...</td>\n",
       "      <td>10</td>\n",
       "      <td>10.0</td>\n",
       "      <td>162</td>\n",
       "      <td>7:21</td>\n",
       "      <td>7</td>\n",
       "      <td>25.0</td>\n",
       "      <td>38</td>\n",
       "      <td>37</td>\n",
       "      <td>50.7</td>\n",
       "      <td>2019-20</td>\n",
       "    </tr>\n",
       "  </tbody>\n",
       "</table>\n",
       "<p>5 rows × 28 columns</p>\n",
       "</div>"
      ],
      "text/plain": [
       "              Player  Age    Tm  Pos  GP   G  A  PTS  PlusMinus PIM  ...    S  \\\n",
       "0  Justin Abdelkader   32   DET   LW  49   0  3    3        -14  25  ...   40   \n",
       "1       Pontus Aberg   26   TOR   LW   5   0  1    1          0   0  ...    4   \n",
       "2     Vitaly Abramov   21   OTT   RW   2   1  0    1          0   2  ...    3   \n",
       "3       Noel Acciari   28   FLA    C  66  20  7   27          2  21  ...  108   \n",
       "4    Andrew Agozzino   29   TOT   LW  22   1  2    3          3   4  ...   10   \n",
       "\n",
       "    Spct    TOI    ATOI   BLK    HIT   FOW   FOL  FOpct   Season  \n",
       "0    0.0    565   11:32    26  103.0    38    31   55.1  2019-20  \n",
       "1    0.0     44    8:42     1    1.0     0     0         2019-20  \n",
       "2   33.3     12    5:47     0    0.0     0     0         2019-20  \n",
       "3   18.5   1054   15:58   103  121.0   381   414   47.9  2019-20  \n",
       "4   10.0    162    7:21     7   25.0    38    37   50.7  2019-20  \n",
       "\n",
       "[5 rows x 28 columns]"
      ]
     },
     "execution_count": 3,
     "metadata": {},
     "output_type": "execute_result"
    }
   ],
   "source": [
    "data.head()"
   ]
  },
  {
   "cell_type": "code",
   "execution_count": 4,
   "metadata": {},
   "outputs": [],
   "source": [
    "data=data.drop(['ATOI'],axis=1)"
   ]
  },
  {
   "cell_type": "code",
   "execution_count": 5,
   "metadata": {},
   "outputs": [
    {
     "data": {
      "text/plain": [
       "Player        object\n",
       "Age            int64\n",
       "Tm            object\n",
       "Pos           object\n",
       "GP             int64\n",
       "G              int64\n",
       "A              int64\n",
       "PTS            int64\n",
       "PlusMinus      int64\n",
       "PIM           object\n",
       "PS           float64\n",
       "EV             int64\n",
       "PP             int64\n",
       "SH             int64\n",
       "GW             int64\n",
       "EV.1          object\n",
       "PP.1          object\n",
       "SH.1          object\n",
       "S              int64\n",
       "Spct          object\n",
       "TOI           object\n",
       "BLK           object\n",
       "HIT          float64\n",
       "FOW           object\n",
       "FOL           object\n",
       "FOpct         object\n",
       "Season        object\n",
       "dtype: object"
      ]
     },
     "execution_count": 5,
     "metadata": {},
     "output_type": "execute_result"
    }
   ],
   "source": [
    "data.dtypes"
   ]
  },
  {
   "cell_type": "code",
   "execution_count": 6,
   "metadata": {},
   "outputs": [],
   "source": [
    "data['PIM'] = pd.to_numeric(data['PIM'], errors='coerce')"
   ]
  },
  {
   "cell_type": "code",
   "execution_count": 7,
   "metadata": {},
   "outputs": [],
   "source": [
    "data['EVa'] = pd.to_numeric(data['EV.1'], errors='coerce')"
   ]
  },
  {
   "cell_type": "code",
   "execution_count": 8,
   "metadata": {},
   "outputs": [],
   "source": [
    "data['PPa'] = pd.to_numeric(data['PP.1'],  errors='coerce')"
   ]
  },
  {
   "cell_type": "code",
   "execution_count": 9,
   "metadata": {},
   "outputs": [],
   "source": [
    "data['SHa'] = pd.to_numeric(data['SH.1'],  errors='coerce')"
   ]
  },
  {
   "cell_type": "code",
   "execution_count": 10,
   "metadata": {},
   "outputs": [],
   "source": [
    "data['S%'] = pd.to_numeric(data['Spct'], errors='coerce')"
   ]
  },
  {
   "cell_type": "code",
   "execution_count": 11,
   "metadata": {},
   "outputs": [],
   "source": [
    "data['TOI'] = pd.to_numeric(data['TOI'], errors='coerce')"
   ]
  },
  {
   "cell_type": "code",
   "execution_count": 12,
   "metadata": {},
   "outputs": [],
   "source": [
    "data['BLK'] = pd.to_numeric(data['BLK'], errors='coerce')"
   ]
  },
  {
   "cell_type": "code",
   "execution_count": 13,
   "metadata": {},
   "outputs": [],
   "source": [
    "data['FOW'] = pd.to_numeric(data['FOW'], errors='coerce')"
   ]
  },
  {
   "cell_type": "code",
   "execution_count": 14,
   "metadata": {},
   "outputs": [],
   "source": [
    "data['FOL'] = pd.to_numeric(data['FOL'], errors='coerce')"
   ]
  },
  {
   "cell_type": "code",
   "execution_count": 15,
   "metadata": {},
   "outputs": [],
   "source": [
    "data['FO%'] = pd.to_numeric(data['FOpct'], errors='coerce')"
   ]
  },
  {
   "cell_type": "code",
   "execution_count": 16,
   "metadata": {},
   "outputs": [],
   "source": [
    "data = data.drop(['EV.1', 'PP.1', 'SH.1','Spct','FOpct'], axis=1)"
   ]
  },
  {
   "cell_type": "code",
   "execution_count": 17,
   "metadata": {},
   "outputs": [
    {
     "data": {
      "text/plain": [
       "Player        object\n",
       "Age            int64\n",
       "Tm            object\n",
       "Pos           object\n",
       "GP             int64\n",
       "G              int64\n",
       "A              int64\n",
       "PTS            int64\n",
       "PlusMinus      int64\n",
       "PIM          float64\n",
       "PS           float64\n",
       "EV             int64\n",
       "PP             int64\n",
       "SH             int64\n",
       "GW             int64\n",
       "S              int64\n",
       "TOI          float64\n",
       "BLK          float64\n",
       "HIT          float64\n",
       "FOW          float64\n",
       "FOL          float64\n",
       "Season        object\n",
       "EVa          float64\n",
       "PPa          float64\n",
       "SHa          float64\n",
       "S%           float64\n",
       "FO%          float64\n",
       "dtype: object"
      ]
     },
     "execution_count": 17,
     "metadata": {},
     "output_type": "execute_result"
    }
   ],
   "source": [
    "data.dtypes"
   ]
  },
  {
   "cell_type": "code",
   "execution_count": 18,
   "metadata": {},
   "outputs": [
    {
     "data": {
      "text/plain": [
       "Player       False\n",
       "Age          False\n",
       "Tm           False\n",
       "Pos          False\n",
       "GP           False\n",
       "G            False\n",
       "A            False\n",
       "PTS          False\n",
       "PlusMinus    False\n",
       "PIM           True\n",
       "PS           False\n",
       "EV           False\n",
       "PP           False\n",
       "SH           False\n",
       "GW           False\n",
       "S            False\n",
       "TOI           True\n",
       "BLK           True\n",
       "HIT           True\n",
       "FOW           True\n",
       "FOL           True\n",
       "Season       False\n",
       "EVa           True\n",
       "PPa           True\n",
       "SHa           True\n",
       "S%            True\n",
       "FO%           True\n",
       "dtype: bool"
      ]
     },
     "execution_count": 18,
     "metadata": {},
     "output_type": "execute_result"
    }
   ],
   "source": [
    "data.isna().any()"
   ]
  },
  {
   "cell_type": "code",
   "execution_count": 19,
   "metadata": {},
   "outputs": [],
   "source": [
    "data = data.fillna(0)"
   ]
  },
  {
   "cell_type": "code",
   "execution_count": 20,
   "metadata": {},
   "outputs": [
    {
     "data": {
      "text/plain": [
       "Player       False\n",
       "Age          False\n",
       "Tm           False\n",
       "Pos          False\n",
       "GP           False\n",
       "G            False\n",
       "A            False\n",
       "PTS          False\n",
       "PlusMinus    False\n",
       "PIM          False\n",
       "PS           False\n",
       "EV           False\n",
       "PP           False\n",
       "SH           False\n",
       "GW           False\n",
       "S            False\n",
       "TOI          False\n",
       "BLK          False\n",
       "HIT          False\n",
       "FOW          False\n",
       "FOL          False\n",
       "Season       False\n",
       "EVa          False\n",
       "PPa          False\n",
       "SHa          False\n",
       "S%           False\n",
       "FO%          False\n",
       "dtype: bool"
      ]
     },
     "execution_count": 20,
     "metadata": {},
     "output_type": "execute_result"
    }
   ],
   "source": [
    "data.isna().any()"
   ]
  },
  {
   "cell_type": "code",
   "execution_count": 21,
   "metadata": {},
   "outputs": [],
   "source": [
    "# convert floats to ints where necessary\n",
    "data['PIM'] = data['PIM'].astype(int)\n",
    "data['TOI'] = data['TOI'].astype(int)\n",
    "data['BLK'] = data['BLK'].astype(int)\n",
    "data['HIT'] = data['HIT'].astype(int)\n",
    "data['FOW'] = data['FOW'].astype(int)\n",
    "data['FOL'] = data['FOL'].astype(int)\n",
    "data['EVa'] = data['EVa'].astype(int)\n",
    "data['PPa'] = data['PPa'].astype(int)\n",
    "data['SHa'] = data['SHa'].astype(int)"
   ]
  },
  {
   "cell_type": "code",
   "execution_count": 22,
   "metadata": {},
   "outputs": [
    {
     "data": {
      "text/plain": [
       "Player        object\n",
       "Age            int64\n",
       "Tm            object\n",
       "Pos           object\n",
       "GP             int64\n",
       "G              int64\n",
       "A              int64\n",
       "PTS            int64\n",
       "PlusMinus      int64\n",
       "PIM            int64\n",
       "PS           float64\n",
       "EV             int64\n",
       "PP             int64\n",
       "SH             int64\n",
       "GW             int64\n",
       "S              int64\n",
       "TOI            int64\n",
       "BLK            int64\n",
       "HIT            int64\n",
       "FOW            int64\n",
       "FOL            int64\n",
       "Season        object\n",
       "EVa            int64\n",
       "PPa            int64\n",
       "SHa            int64\n",
       "S%           float64\n",
       "FO%          float64\n",
       "dtype: object"
      ]
     },
     "execution_count": 22,
     "metadata": {},
     "output_type": "execute_result"
    }
   ],
   "source": [
    "data.dtypes"
   ]
  },
  {
   "cell_type": "code",
   "execution_count": 24,
   "metadata": {},
   "outputs": [],
   "source": [
    "data.to_csv('../../Capstone/Data/FirstClean_NHL_Skater_Data.csv', index=0)"
   ]
  },
  {
   "cell_type": "code",
   "execution_count": 27,
   "metadata": {},
   "outputs": [
    {
     "name": "stderr",
     "output_type": "stream",
     "text": [
      "\n",
      "                                   |                         | [  0%]   00:00  -> (? left)\u001b[A\n",
      "Summarizing dataframe:             |                         | [  0%]   00:00  -> (? left)\u001b[A\n",
      "Summarizing dataframe:             |▊                    | [  4%]   00:00  -> (00:03 left)\u001b[A\n",
      ":TARGET::                          |▊                    | [  4%]   00:00  -> (00:03 left)\u001b[A\n",
      ":TARGET::                          |█▌                   | [  7%]   00:00  -> (00:05 left)\u001b[A\n",
      ":Player:                           |█▌                   | [  7%]   00:00  -> (00:05 left)\u001b[A\n",
      ":Age:                              |██▎                  | [ 11%]   00:00  -> (00:05 left)\u001b[A\n",
      ":Age:                              |███                  | [ 14%]   00:01  -> (00:06 left)\u001b[A\n",
      ":Tm:                               |███                  | [ 14%]   00:01  -> (00:06 left)\u001b[A\n",
      ":Tm:                               |███▊                 | [ 18%]   00:01  -> (00:07 left)\u001b[A\n",
      ":Pos:                              |███▊                 | [ 18%]   00:01  -> (00:07 left)\u001b[A\n",
      ":Pos:                              |████▌                | [ 21%]   00:02  -> (00:07 left)\u001b[A\n",
      ":GP:                               |████▌                | [ 21%]   00:02  -> (00:07 left)\u001b[A\n",
      ":GP:                               |█████▎               | [ 25%]   00:02  -> (00:09 left)\u001b[A\n",
      ":G:                                |█████▎               | [ 25%]   00:02  -> (00:09 left)\u001b[A\n",
      ":G:                                |██████               | [ 29%]   00:03  -> (00:10 left)\u001b[A\n",
      ":A:                                |██████               | [ 29%]   00:03  -> (00:10 left)\u001b[A\n",
      ":A:                                |██████▊              | [ 32%]   00:04  -> (00:10 left)\u001b[A\n",
      ":PTS:                              |██████▊              | [ 32%]   00:04  -> (00:10 left)\u001b[A\n",
      ":PTS:                              |███████▌             | [ 36%]   00:05  -> (00:13 left)\u001b[A\n",
      ":PlusMinus:                        |███████▌             | [ 36%]   00:05  -> (00:13 left)\u001b[A\n",
      ":PlusMinus:                        |████████▎            | [ 39%]   00:06  -> (00:12 left)\u001b[A\n",
      ":PIM:                              |████████▎            | [ 39%]   00:06  -> (00:12 left)\u001b[A\n",
      ":PIM:                              |█████████            | [ 43%]   00:06  -> (00:11 left)\u001b[A\n",
      ":EV:                               |█████████            | [ 43%]   00:06  -> (00:11 left)\u001b[A\n",
      ":EV:                               |█████████▊           | [ 46%]   00:07  -> (00:10 left)\u001b[A\n",
      ":PP:                               |█████████▊           | [ 46%]   00:07  -> (00:10 left)\u001b[A\n",
      ":PP:                               |██████████▌          | [ 50%]   00:08  -> (00:09 left)\u001b[A\n",
      ":SH:                               |██████████▌          | [ 50%]   00:08  -> (00:09 left)\u001b[A\n",
      ":SH:                               |███████████▎         | [ 54%]   00:08  -> (00:08 left)\u001b[A\n",
      ":GW:                               |███████████▎         | [ 54%]   00:08  -> (00:08 left)\u001b[A\n",
      ":GW:                               |████████████         | [ 57%]   00:09  -> (00:08 left)\u001b[A\n",
      ":S:                                |████████████         | [ 57%]   00:09  -> (00:08 left)\u001b[A\n",
      ":S:                                |████████████▋        | [ 61%]   00:10  -> (00:07 left)\u001b[A\n",
      ":TOI:                              |████████████▋        | [ 61%]   00:10  -> (00:07 left)\u001b[A\n",
      ":TOI:                              |█████████████▌       | [ 64%]   00:11  -> (00:08 left)\u001b[A\n",
      ":BLK:                              |█████████████▌       | [ 64%]   00:11  -> (00:08 left)\u001b[A\n",
      ":BLK:                              |██████████████▎      | [ 68%]   00:11  -> (00:06 left)\u001b[A\n",
      ":HIT:                              |██████████████▎      | [ 68%]   00:11  -> (00:06 left)\u001b[A\n",
      ":HIT:                              |███████████████      | [ 71%]   00:12  -> (00:05 left)\u001b[A\n",
      ":FOW:                              |███████████████      | [ 71%]   00:12  -> (00:05 left)\u001b[A\n",
      ":FOW:                              |███████████████▊     | [ 75%]   00:13  -> (00:05 left)\u001b[A\n",
      ":FOL:                              |███████████████▊     | [ 75%]   00:13  -> (00:05 left)\u001b[A\n",
      ":FOL:                              |████████████████▌    | [ 79%]   00:13  -> (00:04 left)\u001b[A\n",
      ":Season:                           |████████████████▌    | [ 79%]   00:13  -> (00:04 left)\u001b[A\n",
      ":Season:                           |█████████████████▎   | [ 82%]   00:14  -> (00:03 left)\u001b[A\n",
      ":EVa:                              |█████████████████▎   | [ 82%]   00:14  -> (00:03 left)\u001b[A\n",
      ":EVa:                              |██████████████████   | [ 86%]   00:15  -> (00:02 left)\u001b[A\n",
      ":PPa:                              |██████████████████   | [ 86%]   00:15  -> (00:02 left)\u001b[A\n",
      ":PPa:                              |██████████████████▊  | [ 89%]   00:15  -> (00:01 left)\u001b[A\n",
      ":SHa:                              |██████████████████▊  | [ 89%]   00:15  -> (00:01 left)\u001b[A\n",
      ":SHa:                              |███████████████████▌ | [ 93%]   00:16  -> (00:01 left)\u001b[A\n",
      ":S%:                               |███████████████████▌ | [ 93%]   00:16  -> (00:01 left)\u001b[A\n",
      ":S%:                               |████████████████████▎| [ 96%]   00:17  -> (00:00 left)\u001b[A\n",
      ":FO%:                              |████████████████████▎| [ 96%]   00:17  -> (00:00 left)\u001b[A\n",
      ":FO%:                              |█████████████████████| [100%]   00:17  -> (00:00 left)\u001b[A\n",
      ":FEATURES DONE:                    |█████████████████████| [100%]   00:17  -> (00:00 left)\n",
      "\n",
      "                                   |                         | [  0%]   00:00  -> (? left)\u001b[A\n",
      ":Processing Pairwise Features:     |                         | [  0%]   00:00  -> (? left)\u001b[A\n",
      ":Processing Pairwise Features:     |███                  | [ 15%]   00:00  -> (00:03 left)\u001b[A\n",
      ":Processing Pairwise Features:     |███▉                 | [ 19%]   00:01  -> (00:05 left)\u001b[A\n",
      ":Processing Pairwise Features:     |██████████           | [ 48%]   00:01  -> (00:02 left)\u001b[A\n",
      ":Processing Pairwise Features:     |████████████████▎    | [ 78%]   00:01  -> (00:00 left)\u001b[A\n",
      ":Processing Pairwise Features:     |███████████████████▍ | [ 93%]   00:01  -> (00:00 left)\u001b[A\n",
      ":PAIRWISE DONE:                    |█████████████████████| [100%]   00:01  -> (00:00 left)\n"
     ]
    },
    {
     "name": "stdout",
     "output_type": "stream",
     "text": [
      "Creating Associations graph... DONE!\n"
     ]
    }
   ],
   "source": [
    "my_report = sv.analyze(data, target_feat='PS')\n",
    "my_report.show_html('../../Capstone/EDA HTML files/SkatersEDA.html')"
   ]
  },
  {
   "cell_type": "code",
   "execution_count": null,
   "metadata": {},
   "outputs": [],
   "source": []
  }
 ],
 "metadata": {
  "kernelspec": {
   "display_name": "Python 3",
   "language": "python",
   "name": "python3"
  },
  "language_info": {
   "codemirror_mode": {
    "name": "ipython",
    "version": 3
   },
   "file_extension": ".py",
   "mimetype": "text/x-python",
   "name": "python",
   "nbconvert_exporter": "python",
   "pygments_lexer": "ipython3",
   "version": "3.6.7"
  }
 },
 "nbformat": 4,
 "nbformat_minor": 4
}
