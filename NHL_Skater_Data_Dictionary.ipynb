{
 "cells": [
  {
   "cell_type": "markdown",
   "metadata": {},
   "source": [
    "# Data Dictionary - NHL - Skaters"
   ]
  },
  {
   "cell_type": "markdown",
   "metadata": {},
   "source": [
    "**Data Info**\n",
    "- 12,330 sessions (rows)\n",
    "- 18 attributes (columns): 10 numerical, 8 categorical \n",
    "\n",
    "The dataset was formed so that each session would belong to a different user in a 1-year period to avoid any tendency to a specific campaign, special day, user profile, or period. This would be to avoid, for example, one frequent visitor significantly skewing our results.  In other words, if a user visit the site 50 times in a 1 year period, it will only record the 1st time the user visited. This can be tracked through IP address detection.  [Reference](https://archive.ics.uci.edu/ml/datasets/Online+Shoppers+Purchasing+Intention+Dataset).\n"
   ]
  },
  {
   "cell_type": "markdown",
   "metadata": {},
   "source": [
    "| Field Name| Type | Definition | \n",
    "| ------------ | ---------- | ---------- | \n",
    "| Player | Numerical (Int) | Number of pages visited by the visitor about account management (Ex: 11) | \n",
    "| Age | Numerical (Float) | Total amount of time spent (in seconds) by the visitor on account management related pages. (Ex: 11.89)| \n",
    "| Tm | Numerical (Int) | Number of pages visited by the visitor about Web site, communication and address information of the shopping site. (Ex: 5) | \n",
    "| Pos | Numerical (Float) | Total amount of time spent (in seconds) by the visitor on informational pages. (Ex: 18.5) | \n",
    "| GP | Numerical (Int) | Number of pages visited by visitor about product related pages. (Ex: 3) | \n",
    "| G | Numerical (Float) | Total amount of time spent (in seconds) by the visitor on product related pages (Ex: 288.5) |\n",
    "| A | Numerical (Ratio) | Refers to the percentage of visitors who enter the site from that page and then leave (\"bounce\") without triggering any other requests to the analytics server during that session.    (Ex: 0.02)| \n",
    "| PTS | Numerical (Ratio) | The value of \"Exit Rate\" feature for a specific web page is calculated as for all pageviews to the page, the percentage that were the last in the session.  (Ex: 0.2) | \n",
    "| PlusMinus | Numerical (Float) | Represents the average value for a web page that a user visited before completing an e-commerce transaction. (Ex: 54.01) | \n",
    "| PIM | Numerical (Ratio) | Indicates the closeness of the site visiting time to a specific special day in which the sessions are more likely to be finalized with transaction. (Ex: Valentine's Day, Ex Value: 0.4)  | \n",
    "| PS | Categorical (Text) | Month during the year.  (Ex: Feb) | \n",
    "| EV | Categorical (Int) | Operating system used by site visitor. (Ex: 1) | \n",
    "| PP | Categorical (Int) | Type of brower used at the time of the site visit. (Ex: 6) | \n",
    "| SH | Categorical (Int) | Geographic region of site visitor number (Ex: 7) | \n",
    "| GW | Categorical (Float) | categorizes site traffic (Ex: Direct Traffic, Ex value: 5)  | \n",
    "| EV | Categorical (Text) | New, returning, other visitor (Ex. New_Visitor  | \n",
    "| Weekend | Categorical (Bool) | Was the site visit on the weekend? (Ex: 0,1) | \n",
    "| REVENUE* | Categorical (Bool) | Did the site visit lead to a purchase? (Ex. 0,1) | \n",
    "\n",
    "*TARGET VARIABLE"
   ]
  },
  {
   "cell_type": "code",
   "execution_count": null,
   "metadata": {},
   "outputs": [],
   "source": []
  }
 ],
 "metadata": {
  "kernelspec": {
   "display_name": "Python 3",
   "language": "python",
   "name": "python3"
  },
  "language_info": {
   "codemirror_mode": {
    "name": "ipython",
    "version": 3
   },
   "file_extension": ".py",
   "mimetype": "text/x-python",
   "name": "python",
   "nbconvert_exporter": "python",
   "pygments_lexer": "ipython3",
   "version": "3.6.7"
  }
 },
 "nbformat": 4,
 "nbformat_minor": 4
}
