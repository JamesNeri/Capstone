{
 "cells": [
  {
   "cell_type": "markdown",
   "metadata": {},
   "source": [
    "# Data Dictionary | NBA Advanced Data"
   ]
  },
  {
   "cell_type": "markdown",
   "metadata": {},
   "source": [
    "**Data Info**\n",
    "- 25186 rows \n",
    "- 27 columns (23 Numeric, 4 Text)\n",
    "\n",
    "The dataset is made up of NBA Advanced statistics dating back to the 1959-1960 season. \n",
    "\n",
    "[Reference](https://www.basketball-reference.com/leagues/NBA_2020_advanced.html)"
   ]
  },
  {
   "cell_type": "markdown",
   "metadata": {},
   "source": [
    "| Field Name| Type | Definition | \n",
    "| ------------ | ---------- | ---------- | \n",
    "| Player | Object (Text) | Name of player (Ex: LeBron James) | \n",
    "| Pos | Object (Text) | Position (Ex: PG) |\n",
    "| Age | Numerical (Int) | Age of player at February 1 during the season. (Ex: 25) | \n",
    "| Tm | Object (Text) | Abbreviated name of the team the associated player is on. (Ex: DET) | \n",
    "| G | Numerical (Int) | Games played by the player (Ex: 50) |\n",
    "| MP | Numerical (Int) | Minutes played by the player. (Ex: 300) | \n",
    "| PER | Numerical (Float) | 'A measure of per-minute production standardized such that the league average is 15.' (Ex: 20.8) | \n",
    "| TS% | Numerical (Float) | 'A measure of shooting efficiency that takes into account 2-point field goals, 3-point field goals, and free throws.' (Ex: .605) | \n",
    "| 3PAr | Numerical (Float) | 'Percentage of FG Attempts from 3-Point Range' (Ex: .030)  | \n",
    "| __WS*__ | **Numerical (Float)** | **An estimate of the number of wins contributed by a player.  (Ex: 9.4)** | \n",
    "| FTr | Numerical (Float) | 'Number of FT Attempts Per FG Attempt.' (Ex: .413) | \n",
    "| ORB% | Numerical (Float) | 'An estimate of the percentage of available offensive rebounds a player grabbed while he was on the floor.' (Ex: 14.4) | \n",
    "| DRB% | Numerical (Float) | 'An estimate of the percentage of available defensive rebounds a player grabbed while he was on the floor.' (Ex: 25.8) | \n",
    "| TRB% | Numerical (Float) | 'An estimate of the percentage of available rebounds a player grabbed while he was on the floor.' (Ex: 23.2)  | \n",
    "| AST% | Numerical (Float) | 'An estimate of the percentage of teammate field goals a player assisted while he was on the floor.' (Ex: 13.7) | \n",
    "| STL% | Numerical (Float) | 'An estimate of the percentage of opponent possessions that end with a steal by the player while he was on the floor.' (Ex: 1.9) | \n",
    "| BLK% | Numerical (Float) | 'An estimate of the percentage of opponent two-point field goal attempts blocked by the player while he was on the floor.' (Ex: 2.3) | \n",
    "| TOV% | Numerical (Float) | 'An estimate of turnovers committed per 100 plays.' (Ex: 11.23) | \n",
    "| USG% | Numerical (Float) | 'An estimate of the percentage of team plays used by a player while he was on the floor.' (Ex: 20.5) | \n",
    "| OWS | Numerical (Float) | 'An estimate of the number of wins contributed by a player due to his offense.' (Ex 5.2) | \n",
    "| DWS | Numerical (Float) | 'An estimate of the number of wins contributed by a player due to his defense.' (Ex: 10.3) | \n",
    "| Season | Object (Text) | NBA season (Ex: 2017-2018) | \n",
    "| WS/48 | Numerical (Float) | 'An estimate of the number of wins contributed by a player per 48 minutes (league average is approximately .100)' (Ex: .190) | \n",
    "| OBPM | Numerical (Float) | 'A box score estimate of the offensive points per 100 possessions a player contributed above a league-average player, translated to an average team.' (Ex: 2.1) | \n",
    "| DBPM | Numerical (Float) | 'A box score estimate of the defensive points per 100 possessions a player contributed above a league-average player, translated to an average team.' (Ex: 1.1) | \n",
    "| BPM | Numerical (Float) | 'A box score estimate of the points per 100 possessions a player contributed above a league-average player, translated to an average team.' (Ex: -2.3) | \n",
    "| VORP | Numerical (Float) | 'A box score estimate of the points per 100 TEAM possessions that a player contributed above a replacement-level (-2.0) player, translated to an average team and prorated to an 82-game season.' (Ex: 3.1) | \n",
    "\n",
    "__TARGET VARIABLE*__"
   ]
  },
  {
   "cell_type": "code",
   "execution_count": null,
   "metadata": {},
   "outputs": [],
   "source": []
  }
 ],
 "metadata": {
  "kernelspec": {
   "display_name": "Python 3",
   "language": "python",
   "name": "python3"
  },
  "language_info": {
   "codemirror_mode": {
    "name": "ipython",
    "version": 3
   },
   "file_extension": ".py",
   "mimetype": "text/x-python",
   "name": "python",
   "nbconvert_exporter": "python",
   "pygments_lexer": "ipython3",
   "version": "3.6.7"
  }
 },
 "nbformat": 4,
 "nbformat_minor": 4
}
