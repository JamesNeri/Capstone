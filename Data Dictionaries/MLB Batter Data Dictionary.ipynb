{
 "cells": [
  {
   "cell_type": "markdown",
   "metadata": {},
   "source": [
    "# Data Dictionary | MLB Batting Data"
   ]
  },
  {
   "cell_type": "markdown",
   "metadata": {},
   "source": [
    "**Data Info**\n",
    "- 107357 rows \n",
    "- 49 columns (44 Numeric, 5 Text)\n",
    "\n",
    "The dataset is made up of historical MLB WAR statistics dating back to the 1959-1960 season. \n",
    "\n",
    "- [Reference 1](https://www.baseball-reference.com/leagues/MLB/2019-standard-batting.shtml)\n",
    "- [Reference 2](https://www.baseball-reference.com/about/war_explained_glossary.shtml)"
   ]
  },
  {
   "cell_type": "markdown",
   "metadata": {},
   "source": [
    "| Field Name| Type | Definition | \n",
    "| ------------ | ---------- | ---------- | \n",
    "| name_common | Object (Text) | Name of player. (Ex: David Aardsma) |\n",
    "| age | Numeric (Float64) | Age of player. (Ex: 22) |\n",
    "| mlb_ID | Numeric (Float64) | Unique id of player for MLB. (Ex: 430911) |\n",
    "| player_ID | Object (Text) | Unique ID to distinguish between players. (Ex: aardsda01) |\n",
    "| year_ID | Numeric (Int64) | Year the season took place. (Ex: 2004) |\n",
    "| team_ID | Object (Text) | Abbreviated team name. (Ex: SFG) |\n",
    "| stint_ID | Numeric (Int64) | Used when a player is traded (1 is same team, 2 represents second team during same year, ..) (Ex: 1) |\n",
    "| lg_ID | Object (Text) | Represents which league in the MLB the player played in. (Ex: NL) |\n",
    "| PA | Numeric (Int64) |  plate appearances (Ex: 0) |\n",
    "| G | Numeric (Int64) |  games played (Ex: 11) |\n",
    "| Inn | Numeric (Float64) |  innings played in field (Ex: 10.7) |\n",
    "| runs_bat | Numeric (Float64) |  batting runs from our modified wRAA (Ex: 0) |\n",
    "| runs_br | Numeric (Float64) |  baserunning runs, includes SB and CS runs (Ex: 0) |\n",
    "| runs_dp | Numeric (Float64) |  runs from avoiding GIDP's in DP situation GB's. (Ex: 0) |\n",
    "| runs_field | Numeric (Float64) |  total fielding runs from TZR and DRS (Ex: 0) |\n",
    "| runs_infield | Numeric (Float64) |  defensive dp turn runs (Ex: 0) |\n",
    "| runs_outfield | Numeric (Float64) |  outfield arm ratings (Ex: 0) |\n",
    "| runs_catcher | Numeric (Float64) |  catcher defense (Ex: 0) |\n",
    "| runs_good_plays | Numeric (Float64) |  superlative defensive plays (Ex: 0) |\n",
    "| runs_defense | Numeric (Float64) |  overall defensive ability (Ex: 0) |\n",
    "| runs_position | Numeric (Float64) |  runs from the position they play (non (Ex: 0) |\n",
    "| runs_position_p | Numeric (Float64) |  adjustment to zero out the negative contribution of pitcher offense. (Ex: 0) |\n",
    "| runs_replacement | Numeric (Float64) |  the replacement level adjustment for the league (Ex: 0) |\n",
    "| runs_above_rep | Numeric (Float64) |  the sum of the above components (double (Ex: 0) |\n",
    "| runs_above_avg | Numeric (Float64) |  same as runs_above_rep without runs_replacement (Ex: 0) |\n",
    "| runs_above_avg_off | Numeric (Float64) |  save as runs_above_avg without defense (Ex: 0) |\n",
    "| runs_above_avg_def | Numeric (Float64) |  defense plus position (Ex: 0) |\n",
    "| WAA | Numeric (Float64) |  wins above average (Ex: 0) |\n",
    "| WAA_off | Numeric (Float64) |  wins above average using runs_above_avg_off (Ex: 0) |\n",
    "| WAA_def | Numeric (Float64) |  wins above average using runs_above_avg_def (Ex: -0.01) |\n",
    "| __WAR*__ | __Numeric (Float64)__ |  __wins above replacement the final number (Ex: 0)__ |\n",
    "| WAR_def | Numeric (Float64) |  just defense and position (Ex: -0.01) |\n",
    "| WAR_off | Numeric (Float64) |  just offense, position and replacement level (Ex: 0) |\n",
    "| WAR_rep | Numeric (Float64) |  WAR attributable to replacement level (Ex: 0) |\n",
    "| salary | Numeric (Float64) | Player salary. (Ex: 300000) |\n",
    "| pitcher | Object (Text) |  yes or no (Ex: Y) |\n",
    "| teamRpG | Numeric (Float64) |  an avg team runs scored with this player (Ex: 4.67092) |\n",
    "| oppRpG | Numeric (Float64) |  an avg team runs allowed with this player (Ex: 4.67092) |\n",
    "| oppRpPA_rep | Numeric (Float64) |  an avg team runs allowed per pa by a replacement player (Ex: 0.08651) |\n",
    "| oppRpG_rep | Numeric (Float64) |  an avg team runs allowed per g by a replacement player (Ex: 4.67092) |\n",
    "| pyth_exponent | Numeric (Float64) |  pythagenpat exponent based on run environment for avg teams (Ex: 1.89) |\n",
    "| pyth_exponent_rep | Numeric (Float64) |  pythagenpat exponent based on a run environment for a replacement player (Ex: 1.89) |\n",
    "| waa_win_perc | Numeric (Float64) |  the win percentage using the pyth_exponent and team and opp R/G (Ex: 0.5) |\n",
    "| waa_win_perc_off | Numeric (Float64) |  just for offense (Ex: 0.5) |\n",
    "| waa_win_perc_def | Numeric (Float64) |  just for defense (Ex: 0.5) |\n",
    "| waa_win_perc_rep | Numeric (Float64) |  how a replacent player would do. (Ex: 0.5) |\n",
    "| OPS_plus | Numeric (Float64) | (On base slugging % / league on base slugging %, adjusted for park factors) x 100. (Ex: NULL) |\n",
    "| TOB_lg | Numeric (Float64) | Not listed (Ex: 0) |\n",
    "| TB_lg | Numeric (Float64) | Not listed (Ex: 0) |\n",
    "\n",
    "__TARGET VARIABLE*__"
   ]
  },
  {
   "cell_type": "code",
   "execution_count": null,
   "metadata": {},
   "outputs": [],
   "source": []
  }
 ],
 "metadata": {
  "kernelspec": {
   "display_name": "Python 3",
   "language": "python",
   "name": "python3"
  },
  "language_info": {
   "codemirror_mode": {
    "name": "ipython",
    "version": 3
   },
   "file_extension": ".py",
   "mimetype": "text/x-python",
   "name": "python",
   "nbconvert_exporter": "python",
   "pygments_lexer": "ipython3",
   "version": "3.6.7"
  }
 },
 "nbformat": 4,
 "nbformat_minor": 4
}
