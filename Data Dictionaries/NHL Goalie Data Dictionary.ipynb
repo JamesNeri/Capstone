{
 "cells": [
  {
   "cell_type": "markdown",
   "metadata": {},
   "source": [
    "# Data Dictionary | NHL Goalie Data"
   ]
  },
  {
   "cell_type": "markdown",
   "metadata": {},
   "source": [
    "**Data Info**\n",
    "- 4340 records (rows) \n",
    "- 26 columns (23 Numeric, 3 Text)\n",
    "\n",
    "The dataset is made up of goalie statistics dating back to the 1959-1960 season. \n",
    "\n",
    "[Reference](https://www.hockey-reference.com/leagues/NHL_2020_goalies.html)"
   ]
  },
  {
   "cell_type": "markdown",
   "metadata": {},
   "source": [
    "| Field Name| Type | Definition | \n",
    "| ------------ | ---------- | ---------- | \n",
    "| Player | Object (Text) | Name of player (Ex: Ben Bishop) | \n",
    "| Age | Numerical (Int) | Age of player at the end of the season. (Ex: 25)| \n",
    "| Tm | Object (Text) | Abbreviated name of the team the associated player is on. (Ex: DET) | \n",
    "| GP | Numerical (Int) | Number of games played. (Ex: 82) | \n",
    "| GS | Numerical (Int) | Games started by the player (Ex: 50) |\n",
    "| W | Numerical (Int) | Number of wins recorded by the player. (Ex: 65)| \n",
    "| L | Numerical (Int) | Number of losses recorded by the player.  (Ex: 30) | \n",
    "| T/O | Numerical (Int) | Ties and overtime/shootout losses (ties abolished starting in 2005-2006 season). (Ex: 27) | \n",
    "| GA | Numerical (Int) | Goals scored against the player. (Ex: 210)  | \n",
    "| __GPS*__ | **Numerical (Float)** | **An estimate of team points contributed by a player.  (Ex: 9.4)** | \n",
    "| SA | Numerical (Int) | Shots against the player. (Ex: 1200) | \n",
    "| SV | Numerical (Int) | Saves made by the player. (Ex: 1000) | \n",
    "| GAA | Numerical (Float) | Goals against average per game . (Ex: 2.15) | \n",
    "| SO | Numerical (Int) | Shutouts: games where the player let in zero goals (Ex: 2)  | \n",
    "| MIN | Numerical (Int) | Minutes played by the player. (Ex: 300)  | \n",
    "| QS | Numerical (Int) | Quality starts: 'Starts with SV% > average SV% for the year, or at least 88.5% on nights with 20 or fewer shots against. Developed by Rob Vollman in the Hockey Abstract.'. (Ex: 14) | \n",
    "| RBS | Numerical (Int) | Really bad starts. 'Starts with a SV% below 85%. Developed by Rob Vollman in the Hockey Abstract' (Ex: 8) | \n",
    "| GSAA | Numerical (Float) | 'Goals Saved Above Average, the goals this goalie prevented given his save percentage and shots faced vs. the league average save percentage on the same number of shots. Min. 4 shots faced per team game needed to qualify.' (Ex: 11.23) | \n",
    "| G | Numerical (Int) | Goals scored by the player. (Ex: 1) | \n",
    "| A | Numerical (Int) | Assists made by the player. (Ex 5) | \n",
    "| PTS | Numerical (Int) | Total points made by the player. (Ex: 10) | \n",
    "| Season | Object (Text) | NHL season (Ex: 2017-2018) | \n",
    "| PIM | Numerical (Int) | Penalty minutes made by the player (2 for minor, 5 for major, 10 for misconduct). (Ex: 50) | \n",
    "| SV% | Numerical (Float) | Save percentage (Ex: .915) | \n",
    "| QS% | Numerical (Float) | QS/GS '> 60% Good, < 50% Bad, ~53% League Avg. Developed by Rob Vollman in the Hockey Abstract'. (Ex: .667) | \n",
    "| GA% | Numerical (Int) | 'goals allowed % relative to league goals allowed %. Lower is better, 100 is exactly average, 0 means you have saved 100% of shots faced. Min. 4 shots faced per team game needed to qualify.' (Ex: 94) | \n",
    "\n",
    "__TARGET VARIABLE*__"
   ]
  },
  {
   "cell_type": "code",
   "execution_count": null,
   "metadata": {},
   "outputs": [],
   "source": []
  }
 ],
 "metadata": {
  "kernelspec": {
   "display_name": "Python 3",
   "language": "python",
   "name": "python3"
  },
  "language_info": {
   "codemirror_mode": {
    "name": "ipython",
    "version": 3
   },
   "file_extension": ".py",
   "mimetype": "text/x-python",
   "name": "python",
   "nbconvert_exporter": "python",
   "pygments_lexer": "ipython3",
   "version": "3.6.7"
  }
 },
 "nbformat": 4,
 "nbformat_minor": 4
}
