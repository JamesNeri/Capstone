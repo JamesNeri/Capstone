{
 "cells": [
  {
   "cell_type": "markdown",
   "metadata": {},
   "source": [
    "# Data Dictionary | MLB Pitching Data"
   ]
  },
  {
   "cell_type": "markdown",
   "metadata": {},
   "source": [
    "**Data Info**\n",
    "- 107357 rows \n",
    "- 49 columns (44 Numeric, 5 Text)\n",
    "\n",
    "The dataset is made up of historical MLB WAR statistics dating back to the 1959-1960 season. \n",
    "\n",
    "- [Reference 1](https://www.baseball-reference.com/leagues/MLB/2019-standard-pitching.shtml)\n",
    "- [Reference 2](https://www.baseball-reference.com/about/war_explained_glossary.shtml)"
   ]
  },
  {
   "cell_type": "markdown",
   "metadata": {},
   "source": [
    "| Field Name| Type | Definition | \n",
    "| ------------ | ---------- | ---------- | \n",
    "| name_common | Object (Text)  | Name of player. (Ex.  David Aardsma) |\n",
    "| age | Numerical (Float64)  | Age of player. (Ex.  22) |\n",
    "| mlb_ID | Numerical (Float64)  | Unique id of player for MLB. (Ex.  430911) |\n",
    "| player_ID | Object (Text)  | Unique ID to distinguish between players. (Ex.  aardsda01) |\n",
    "| year_ID | Numerical (Int64)  | Year the season took place. (Ex.  2004) |\n",
    "| team_ID | Object (Text)  | Abbreviated team name. (Ex.  SFG) |\n",
    "| stint_ID | Numerical (Int64)  | Used when a player is traded (1 is same team, 2 represents second team during same year, ..) (Ex.  1) |\n",
    "| lg_ID | Object (Text)  | Represents which league in the MLB the player played in. (Ex.  NL) |\n",
    "| G | Numerical (Int64)  | Games played (Ex.  11) |\n",
    "| GS | Numerical (Int64)  | Games started (Ex.  0) |\n",
    "| IPouts | Numerical (Int64)  |  IP * 3 (Ex.  32) |\n",
    "| IPouts_start | Numerical (Float64)  |  as a starter (Ex.  0) |\n",
    "| IPouts_relief | Numerical (Float64)  |  as a reliever (Ex.  32) |\n",
    "| RA | Numerical (Int64)  |  actual runs allowed (Ex.  8) |\n",
    "| xRA | Numerical (Float64)  |  expected runs allowed based on offenses faced and interleague play (Ex.  5.967) |\n",
    "| xRA_sprp_adj | Numerical (Float64)  |  adjustment based on whether innings were as a starter or reliever (Ex.  -0.44) |\n",
    "| xRA_def_pitcher | Numerical (Float64)  |  adjustment based on the quality of the pitcher's defense behind them (Ex.  -0.423) |\n",
    "| PPF | Numerical (Int64)  |  the pitcher's team park factor (Ex.  101) |\n",
    "| PPF_custom | Numerical (Float64)  |  the park factor based on where they pitched (Ex.  98.525) |\n",
    "| xRA_final | Numerical (Float64)  |  xRA with all needed adjustments (Ex.  5.862) |\n",
    "| BIP | Numerical (Int64)  |  balls in play (Ex.  44) |\n",
    "| BIP_perc | Numerical (Float64)  |  percentage of team's balls in play (used for defensive adjustment) (Ex.  0.0093) |\n",
    "| RS_def_total | Numerical (Float64)  |  teams defensive runs saved (Ex.  -45.5) |\n",
    "| runs_above_avg | Numerical (Float64)  |  xRA_final - RA (Ex.  -2.138) |\n",
    "| runs_above_avg_adj | Numerical (Float64)  |  adjustment, so the runs_above_avg equal zero (Ex.  -2.177) |\n",
    "| runs_above_rep | Numerical (Float64)  |  runs_above_avg multiplied by the league replacement level factor (Ex.  -1.199) |\n",
    "| RpO_replacement | Numerical (Float64)  |  runs per out for a replacement level pitcher (used to get the win_loss_perc for WAR later) (Ex.  0.203) |\n",
    "| GR_leverage_index_avg | Numerical (Float64)  |  leverage in relief games (Ex.  1.0718) |\n",
    "| __WAR*__ | __Numerical (Float64)__  |  __wins above replacement (Ex.  -0.15)__ |\n",
    "| salary | Numerical (Float64)  | Player salary (Ex.  300000) |\n",
    "| teamRpG | Numerical (Float64)  |  the R/G for an average team in games this pitcher pitched (Ex.  4.67092) |\n",
    "| oppRpG | Numerical (Float64)  |  an avg opp's R/G in games this pitcher pitched (Ex.  4.86883) |\n",
    "| pyth_exponent | Numerical (Float64)  |  pythagenpat exponent (Ex.  1.902) |\n",
    "| waa_win_perc | Numerical (Float64)  |  wins above average W-L percent (Ex.  0.4803) |\n",
    "| WAA | Numerical (Float64)  |  wins above avg (Ex.  -0.2167) |\n",
    "| WAA_adj | Numerical (Float64)  |  adjustment to make these sum to zero. (Ex.  -0.0298) |\n",
    "| oppRpG_rep | Numerical (Float64)  |  the run scoring of an avg team facing a replacement level pitcher (Ex.  4.75633) |\n",
    "| pyth_exponent_rep | Numerical (Float64)  |  that pythagenpat exponent (Ex.  1.895) |\n",
    "| waa_win_perc_rep | Numerical (Float64)  |  and their W-L percent (Ex.  0.4914) |\n",
    "| WAR_rep | Numerical (Float64)  |  the amount of WAR attributable to replacement level (Ex.  0.0942) |\n",
    "| ERA_plus | Numerical (Float64)  | ERA adjusted for pitcher's ballpark (Ex.  66.675) |\n",
    "| ER_lg | Numerical (Float64)  | ERA adjusted for league average (Ex.  5.334) |\n",
    "__TARGET VARIABLE*__"
   ]
  },
  {
   "cell_type": "code",
   "execution_count": null,
   "metadata": {},
   "outputs": [],
   "source": []
  }
 ],
 "metadata": {
  "kernelspec": {
   "display_name": "Python 3",
   "language": "python",
   "name": "python3"
  },
  "language_info": {
   "codemirror_mode": {
    "name": "ipython",
    "version": 3
   },
   "file_extension": ".py",
   "mimetype": "text/x-python",
   "name": "python",
   "nbconvert_exporter": "python",
   "pygments_lexer": "ipython3",
   "version": "3.6.7"
  }
 },
 "nbformat": 4,
 "nbformat_minor": 4
}
