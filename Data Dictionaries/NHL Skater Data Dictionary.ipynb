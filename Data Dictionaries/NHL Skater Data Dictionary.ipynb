{
 "cells": [
  {
   "cell_type": "markdown",
   "metadata": {},
   "source": [
    "# Data Dictionary | NHL Skater Data"
   ]
  },
  {
   "cell_type": "markdown",
   "metadata": {},
   "source": [
    "**Data Info**\n",
    "- 43694 records (rows) \n",
    "- 28 columns (25 Numeric, 3 Text)\n",
    "\n",
    "The dataset is made up of skater statistics dating back to the 1959-1960 season. It includes scoring, special teams, shot data, and ice time statistics.\n",
    "\n",
    "[Reference](https://www.hockey-reference.com/leagues/NHL_2020_skaters.html)"
   ]
  },
  {
   "cell_type": "markdown",
   "metadata": {},
   "source": [
    "| Field Name| Type | Definition | \n",
    "| ------------ | ---------- | ---------- | \n",
    "| Player | Object (Text) | Name of player (Ex: Sidney Crosby) | \n",
    "| Age | Numerical (Int) | Age of player at the end of the season. (Ex: 25)| \n",
    "| Tm | Object (Text) | Abbreviated name of the team the associated player is on. (Ex: DET) | \n",
    "| Pos | Object (Text) | Position of the associated player. (Ex: LW) | \n",
    "| GP | Numerical (Int) | Number of games played. (Ex: 82) | \n",
    "| G | Numerical (Int) | Number of goals scored by the player. (Ex: 50) |\n",
    "| A | Numerical (Int) | Number of assists made by the player. (Ex: 65)| \n",
    "| PTS | Numerical (Int) | Total points scored by the player (goals + assists).  (Ex: 105) | \n",
    "| PlusMinus | Numerical (Int) | Calculation of team goals scored for and against, while the player is on the ice. (Ex: 27) | \n",
    "| PIM | Numerical (Int) | Total time representation of penalties taken by the player (2 for minor, 5 for major, 10 for misconduct). (Ex: 210)  | \n",
    "| __PS*__ | **Numerical (Float)** | **An estimate of team points contributed by a player.  (Ex: 9.4)** | \n",
    "| EV | Numerical (Int) | Even strength goals scored by the player. (Ex: 22) | \n",
    "| PP | Numerical (Int) | Power play goals scored by the player. (Ex: 6) | \n",
    "| SH | Numerical (Int) | Short handed goals scored by the player. (Ex: 7) | \n",
    "| GW | Numerical (Int) | Game winning goals scored by the player. (Ex: 2)  | \n",
    "| S | Numerical (Int) | Shots on goal taken by the player. (Ex: 300)  | \n",
    "| TOI | Numerical (Int) | Time on ice in minutes by the player. (Ex: 500) | \n",
    "| ATOI | Object (Time) | Average time on ice per game. (Ex: 19:40) | \n",
    "| BLK | Numerical (Int) | Blocked shots by the player. (Ex: 108) | \n",
    "| HIT | Numerical (Int) | Hits by the player. (Ex: 88) | \n",
    "| FOW | Numerical (Int) | Face offs won by the player. (Ex 103) | \n",
    "| FOL | Numerical (Int) | Face offs lost by the player. (Ex: 45) | \n",
    "| Season | Object (Text) | NHL season (Ex: 2017-2018) | \n",
    "| EVa | Numerical (Int) | Even strength assists made by the player (Ex: 50) | \n",
    "| PPa | Numerical (Int) | Power play assists made by the player (Ex 55) | \n",
    "| SHa | Numerical (Int) | Short handed assists made by the player (Ex: 18) | \n",
    "| S% | Numerical (Float) | Shooting percentage of the player (goals / shots on goal) (Ex: 44%) | \n",
    "| FO% | Numerical (Float) | Face off percentage of the player (Face off wins / face off losses) (Ex: 60%) | \n",
    "\n",
    "__TARGET VARIABLE*__"
   ]
  },
  {
   "cell_type": "code",
   "execution_count": null,
   "metadata": {},
   "outputs": [],
   "source": []
  }
 ],
 "metadata": {
  "kernelspec": {
   "display_name": "Python 3",
   "language": "python",
   "name": "python3"
  },
  "language_info": {
   "codemirror_mode": {
    "name": "ipython",
    "version": 3
   },
   "file_extension": ".py",
   "mimetype": "text/x-python",
   "name": "python",
   "nbconvert_exporter": "python",
   "pygments_lexer": "ipython3",
   "version": "3.6.7"
  }
 },
 "nbformat": 4,
 "nbformat_minor": 4
}
