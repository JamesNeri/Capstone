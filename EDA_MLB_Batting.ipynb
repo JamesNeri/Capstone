{
 "cells": [
  {
   "cell_type": "code",
   "execution_count": 1,
   "metadata": {},
   "outputs": [],
   "source": [
    "# data handling\n",
    "import sweetviz as sv\n",
    "import pandas as pd\n",
    "import numpy as np\n",
    "import seaborn as sns\n",
    "import matplotlib as plt\n",
    "import matplotlib.pyplot as plt\n",
    "from pandas import DataFrame\n",
    "%matplotlib inline\n",
    "\n",
    "# splitting data\n",
    "from sklearn import model_selection\n",
    "from sklearn.model_selection import cross_val_score\n",
    "from sklearn.model_selection import train_test_split\n",
    "\n",
    "# evaluating models\n",
    "from sklearn import metrics\n",
    "from sklearn.metrics import confusion_matrix\n",
    "from sklearn.metrics import classification_report\n",
    "from sklearn.metrics import roc_auc_score\n",
    "from sklearn.metrics import accuracy_score\n",
    "from sklearn.metrics import precision_recall_fscore_support\n",
    "from scipy.stats import boxcox\n",
    "from scipy import stats\n",
    "\n",
    "# `logistic regression` model\n",
    "from sklearn.linear_model import LogisticRegression"
   ]
  },
  {
   "cell_type": "code",
   "execution_count": 2,
   "metadata": {},
   "outputs": [],
   "source": [
    "data = pd.read_csv('../Capstone/Data/MLB_Batting_Data.csv')"
   ]
  },
  {
   "cell_type": "code",
   "execution_count": 3,
   "metadata": {},
   "outputs": [
    {
     "data": {
      "text/plain": [
       "name_common            object\n",
       "age                   float64\n",
       "mlb_ID                float64\n",
       "player_ID              object\n",
       "year_ID                 int64\n",
       "team_ID                object\n",
       "stint_ID                int64\n",
       "lg_ID                  object\n",
       "PA                      int64\n",
       "G                       int64\n",
       "Inn                   float64\n",
       "runs_bat              float64\n",
       "runs_br               float64\n",
       "runs_dp               float64\n",
       "runs_field            float64\n",
       "runs_infield          float64\n",
       "runs_outfield         float64\n",
       "runs_catcher          float64\n",
       "runs_good_plays       float64\n",
       "runs_defense          float64\n",
       "runs_position         float64\n",
       "runs_position_p       float64\n",
       "runs_replacement      float64\n",
       "runs_above_rep        float64\n",
       "runs_above_avg        float64\n",
       "runs_above_avg_off    float64\n",
       "runs_above_avg_def    float64\n",
       "WAA                   float64\n",
       "WAA_off               float64\n",
       "WAA_def               float64\n",
       "WAR                   float64\n",
       "WAR_def               float64\n",
       "WAR_off               float64\n",
       "WAR_rep               float64\n",
       "salary                float64\n",
       "pitcher                object\n",
       "teamRpG               float64\n",
       "oppRpG                float64\n",
       "oppRpPA_rep           float64\n",
       "oppRpG_rep            float64\n",
       "pyth_exponent         float64\n",
       "pyth_exponent_rep     float64\n",
       "waa_win_perc          float64\n",
       "waa_win_perc_off      float64\n",
       "waa_win_perc_def      float64\n",
       "waa_win_perc_rep      float64\n",
       "OPS_plus              float64\n",
       "TOB_lg                float64\n",
       "TB_lg                 float64\n",
       "dtype: object"
      ]
     },
     "execution_count": 3,
     "metadata": {},
     "output_type": "execute_result"
    }
   ],
   "source": [
    "data.dtypes"
   ]
  },
  {
   "cell_type": "code",
   "execution_count": 4,
   "metadata": {},
   "outputs": [
    {
     "name": "stderr",
     "output_type": "stream",
     "text": [
      ":FEATURES DONE:                    |█████████████████████| [100%]   00:34  -> (00:00 left)\n",
      ":PAIRWISE DONE:                    |█████████████████████| [100%]   00:11  -> (00:00 left)\n"
     ]
    },
    {
     "name": "stdout",
     "output_type": "stream",
     "text": [
      "Creating Associations graph... DONE!\n"
     ]
    }
   ],
   "source": [
    "my_report = sv.analyze(data, target_feat='WAR')\n",
    "my_report.show_html('../Capstone/EDA_files/BattingEDA.html')"
   ]
  },
  {
   "cell_type": "code",
   "execution_count": null,
   "metadata": {},
   "outputs": [],
   "source": []
  }
 ],
 "metadata": {
  "kernelspec": {
   "display_name": "Python 3",
   "language": "python",
   "name": "python3"
  },
  "language_info": {
   "codemirror_mode": {
    "name": "ipython",
    "version": 3
   },
   "file_extension": ".py",
   "mimetype": "text/x-python",
   "name": "python",
   "nbconvert_exporter": "python",
   "pygments_lexer": "ipython3",
   "version": "3.6.7"
  }
 },
 "nbformat": 4,
 "nbformat_minor": 4
}
